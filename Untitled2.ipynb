{
 "cells": [
  {
   "cell_type": "code",
   "execution_count": 6,
   "id": "01bcb34e-4b39-4afe-9a5f-d7f27f1c1854",
   "metadata": {},
   "outputs": [
    {
     "data": {
      "text/plain": [
       "'20240328@22h22m46s'"
      ]
     },
     "execution_count": 6,
     "metadata": {},
     "output_type": "execute_result"
    }
   ],
   "source": [
    "from datetime import datetime\n",
    "import pytz\n",
    "\n",
    "# Define the timezone for Abu Dhabi\n",
    "abu_dhabi_tz = pytz.timezone('Asia/Dubai')\n",
    "\n",
    "# Get the current time in Abu Dhabi timezone\n",
    "now_abu_dhabi = datetime.now(abu_dhabi_tz)\n",
    "\n",
    "# Format the time as a string without spaces, '-', or '_'\n",
    "time_string_id = now_abu_dhabi.strftime('%Y%m%d@%Hh%Mm%Ss')\n",
    "\n",
    "time_string_id"
   ]
  },
  {
   "cell_type": "code",
   "execution_count": null,
   "id": "c276b930-9675-4f8b-87c1-9e8c97001ad1",
   "metadata": {},
   "outputs": [],
   "source": []
  }
 ],
 "metadata": {
  "kernelspec": {
   "display_name": "Python lee_ml_class",
   "language": "python",
   "name": "lee_ml_class_kernel"
  },
  "language_info": {
   "codemirror_mode": {
    "name": "ipython",
    "version": 3
   },
   "file_extension": ".py",
   "mimetype": "text/x-python",
   "name": "python",
   "nbconvert_exporter": "python",
   "pygments_lexer": "ipython3",
   "version": "3.10.13"
  }
 },
 "nbformat": 4,
 "nbformat_minor": 5
}
