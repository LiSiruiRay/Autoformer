{
 "cells": [
  {
   "cell_type": "code",
   "execution_count": 1,
   "id": "d1c34a78-285a-408c-bfac-ca67b911a353",
   "metadata": {},
   "outputs": [
    {
     "name": "stdout",
     "output_type": "stream",
     "text": [
      "Args in experiment:\n",
      "Namespace(is_training=0, model_id='ETTm2_96_96', model='Autoformer', data='ETTm2', root_path='./dataset/ETT-small/', data_path='ETTm2.csv', features='S', target='OT', freq='t', checkpoints='./checkpoints/', seq_len=96, label_len=96, pred_len=96, bucket_size=4, n_hashes=4, enc_in=1, dec_in=1, c_out=1, d_model=512, n_heads=8, e_layers=2, d_layers=1, d_ff=2048, moving_avg=25, factor=3, distil=True, dropout=0.05, embed='timeF', activation='gelu', output_attention=False, do_predict=True, num_workers=10, itr=1, train_epochs=10, batch_size=32, patience=3, learning_rate=0.0001, des='Exp', loss='mse', lradj='type1', use_amp=False, use_gpu=False, gpu=0, use_multi_gpu=False, devices='0,1,2,3')\n",
      "Use CPU\n",
      ">>>>>>>testing : ETTm2_96_96_Autoformer_ETTm2_ftS_sl96_ll96_pl96_dm512_nh8_el2_dl1_df2048_fc3_ebtimeF_dtTrue_Exp_0<<<<<<<<<<<<<<<<<<<<<<<<<<<<<<<<<\n",
      "checking the data: <class 'data_provider.data_loader.Dataset_ETT_minute'>\n",
      "called Dataset_ETT_minute init\n",
      "checking size: [96, 96, 96]\n",
      "test 395\n",
      "loading model\n",
      "test shape: (395, 96, 1) (395, 96, 1)\n",
      "test shape: (395, 96, 1) (395, 96, 1)\n",
      "mse:0.16243934631347656, mae:0.3117655813694\n"
     ]
    }
   ],
   "source": [
    "!bash ./scripts/predict/test_run.sh"
   ]
  },
  {
   "cell_type": "code",
   "execution_count": null,
   "id": "0a2c7de0-4406-4d21-9bdd-b2910d8d491c",
   "metadata": {},
   "outputs": [],
   "source": []
  }
 ],
 "metadata": {
  "kernelspec": {
   "display_name": "Python 3 (ipykernel)",
   "language": "python",
   "name": "python3"
  },
  "language_info": {
   "codemirror_mode": {
    "name": "ipython",
    "version": 3
   },
   "file_extension": ".py",
   "mimetype": "text/x-python",
   "name": "python",
   "nbconvert_exporter": "python",
   "pygments_lexer": "ipython3",
   "version": "3.9.7"
  }
 },
 "nbformat": 4,
 "nbformat_minor": 5
}
