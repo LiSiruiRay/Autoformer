{
 "cells": [
  {
   "cell_type": "code",
   "execution_count": 1,
   "id": "632529a2-edb0-40dc-a373-0ecb01e73a6e",
   "metadata": {},
   "outputs": [],
   "source": [
    "from argparse import Namespace\n"
   ]
  },
  {
   "cell_type": "code",
   "execution_count": 2,
   "id": "9f3dd17a-e05c-440a-88ec-4ff7cea92772",
   "metadata": {},
   "outputs": [],
   "source": [
    "configs = Namespace(\n",
    "    is_training=1, \n",
    "    model_id='ETTm2_96_96', \n",
    "    model='Autoformer', \n",
    "    data='ETTm2', \n",
    "    root_path='./dataset/ETT-small/', \n",
    "    data_path='ETTm2.csv', \n",
    "    features='S', \n",
    "    target='OT', \n",
    "    freq='t', \n",
    "    checkpoints='./checkpoints/', \n",
    "    seq_len=96, \n",
    "    label_len=96, \n",
    "    pred_len=96, \n",
    "    bucket_size=4, \n",
    "    n_hashes=4, \n",
    "    enc_in=1, \n",
    "    dec_in=1, \n",
    "    c_out=1, \n",
    "    d_model=512, \n",
    "    n_heads=8, \n",
    "    e_layers=2, \n",
    "    d_layers=1, \n",
    "    d_ff=2048, \n",
    "    moving_avg=25, \n",
    "    factor=3, \n",
    "    distil=True, \n",
    "    dropout=0.05, \n",
    "    embed='timeF', \n",
    "    activation='gelu', \n",
    "    output_attention=False, \n",
    "    do_predict=False, \n",
    "    num_workers=10, \n",
    "    itr=1, \n",
    "    train_epochs=10, \n",
    "    batch_size=32, \n",
    "    patience=3, \n",
    "    learning_rate=0.0001, \n",
    "    des='Exp', \n",
    "    loss='mse', \n",
    "    lradj='type1', \n",
    "    use_amp=False, \n",
    "    use_gpu=True, \n",
    "    gpu=0, \n",
    "    use_multi_gpu=False, \n",
    "    devices='0,1,2,3'\n",
    ")"
   ]
  },
  {
   "cell_type": "code",
   "execution_count": 3,
   "id": "0040de95-ffe8-4d90-b0f7-4aabf0250ebc",
   "metadata": {},
   "outputs": [],
   "source": [
    "from models import Autoformer"
   ]
  },
  {
   "cell_type": "code",
   "execution_count": 4,
   "id": "b7d6697f-fa69-4441-a8c9-698a7f8fd2c2",
   "metadata": {},
   "outputs": [],
   "source": [
    "from exp.exp_main import Exp_Main"
   ]
  },
  {
   "cell_type": "code",
   "execution_count": 5,
   "id": "1d97eed0-5cc8-4105-9c35-6aa00f98ff68",
   "metadata": {},
   "outputs": [],
   "source": [
    "Exp = Exp_Main"
   ]
  },
  {
   "cell_type": "code",
   "execution_count": 8,
   "id": "1023b835-327a-4180-aa4c-f3bdcd9b671f",
   "metadata": {},
   "outputs": [],
   "source": [
    "af = Autoformer.Model(configs)"
   ]
  },
  {
   "cell_type": "code",
   "execution_count": 9,
   "id": "59160cab-90f7-4d5f-9350-fbaa11dbb3a0",
   "metadata": {},
   "outputs": [],
   "source": [
    "model_path = \"checkpoints/ETTm2_96_96_Autoformer_ETTm2_ftS_sl96_ll96_pl96_dm512_nh8_el2_dl1_df2048_fc3_ebtimeF_dtTrue_Exp_0/checkpoint.pth\""
   ]
  },
  {
   "cell_type": "code",
   "execution_count": 13,
   "id": "e2e5b66b-3a29-4174-b14c-59ebc5a09f81",
   "metadata": {},
   "outputs": [
    {
     "data": {
      "text/plain": [
       "<All keys matched successfully>"
      ]
     },
     "execution_count": 13,
     "metadata": {},
     "output_type": "execute_result"
    }
   ],
   "source": [
    "import torch\n",
    "af.load_state_dict(torch.load(model_path, map_location=torch.device('cpu')))"
   ]
  },
  {
   "cell_type": "code",
   "execution_count": 15,
   "id": "45270747-96ba-4e8d-9a0e-d17c85e9885d",
   "metadata": {},
   "outputs": [
    {
     "data": {
      "text/plain": [
       "Model(\n",
       "  (decomp): series_decomp(\n",
       "    (moving_avg): moving_avg(\n",
       "      (avg): AvgPool1d(kernel_size=(25,), stride=(1,), padding=(0,))\n",
       "    )\n",
       "  )\n",
       "  (enc_embedding): DataEmbedding_wo_pos(\n",
       "    (value_embedding): TokenEmbedding(\n",
       "      (tokenConv): Conv1d(1, 512, kernel_size=(3,), stride=(1,), padding=(1,), bias=False, padding_mode=circular)\n",
       "    )\n",
       "    (position_embedding): PositionalEmbedding()\n",
       "    (temporal_embedding): TimeFeatureEmbedding(\n",
       "      (embed): Linear(in_features=5, out_features=512, bias=False)\n",
       "    )\n",
       "    (dropout): Dropout(p=0.05, inplace=False)\n",
       "  )\n",
       "  (dec_embedding): DataEmbedding_wo_pos(\n",
       "    (value_embedding): TokenEmbedding(\n",
       "      (tokenConv): Conv1d(1, 512, kernel_size=(3,), stride=(1,), padding=(1,), bias=False, padding_mode=circular)\n",
       "    )\n",
       "    (position_embedding): PositionalEmbedding()\n",
       "    (temporal_embedding): TimeFeatureEmbedding(\n",
       "      (embed): Linear(in_features=5, out_features=512, bias=False)\n",
       "    )\n",
       "    (dropout): Dropout(p=0.05, inplace=False)\n",
       "  )\n",
       "  (encoder): Encoder(\n",
       "    (attn_layers): ModuleList(\n",
       "      (0-1): 2 x EncoderLayer(\n",
       "        (attention): AutoCorrelationLayer(\n",
       "          (inner_correlation): AutoCorrelation(\n",
       "            (dropout): Dropout(p=0.05, inplace=False)\n",
       "          )\n",
       "          (query_projection): Linear(in_features=512, out_features=512, bias=True)\n",
       "          (key_projection): Linear(in_features=512, out_features=512, bias=True)\n",
       "          (value_projection): Linear(in_features=512, out_features=512, bias=True)\n",
       "          (out_projection): Linear(in_features=512, out_features=512, bias=True)\n",
       "        )\n",
       "        (conv1): Conv1d(512, 2048, kernel_size=(1,), stride=(1,), bias=False)\n",
       "        (conv2): Conv1d(2048, 512, kernel_size=(1,), stride=(1,), bias=False)\n",
       "        (decomp1): series_decomp(\n",
       "          (moving_avg): moving_avg(\n",
       "            (avg): AvgPool1d(kernel_size=(25,), stride=(1,), padding=(0,))\n",
       "          )\n",
       "        )\n",
       "        (decomp2): series_decomp(\n",
       "          (moving_avg): moving_avg(\n",
       "            (avg): AvgPool1d(kernel_size=(25,), stride=(1,), padding=(0,))\n",
       "          )\n",
       "        )\n",
       "        (dropout): Dropout(p=0.05, inplace=False)\n",
       "      )\n",
       "    )\n",
       "    (norm): my_Layernorm(\n",
       "      (layernorm): LayerNorm((512,), eps=1e-05, elementwise_affine=True)\n",
       "    )\n",
       "  )\n",
       "  (decoder): Decoder(\n",
       "    (layers): ModuleList(\n",
       "      (0): DecoderLayer(\n",
       "        (self_attention): AutoCorrelationLayer(\n",
       "          (inner_correlation): AutoCorrelation(\n",
       "            (dropout): Dropout(p=0.05, inplace=False)\n",
       "          )\n",
       "          (query_projection): Linear(in_features=512, out_features=512, bias=True)\n",
       "          (key_projection): Linear(in_features=512, out_features=512, bias=True)\n",
       "          (value_projection): Linear(in_features=512, out_features=512, bias=True)\n",
       "          (out_projection): Linear(in_features=512, out_features=512, bias=True)\n",
       "        )\n",
       "        (cross_attention): AutoCorrelationLayer(\n",
       "          (inner_correlation): AutoCorrelation(\n",
       "            (dropout): Dropout(p=0.05, inplace=False)\n",
       "          )\n",
       "          (query_projection): Linear(in_features=512, out_features=512, bias=True)\n",
       "          (key_projection): Linear(in_features=512, out_features=512, bias=True)\n",
       "          (value_projection): Linear(in_features=512, out_features=512, bias=True)\n",
       "          (out_projection): Linear(in_features=512, out_features=512, bias=True)\n",
       "        )\n",
       "        (conv1): Conv1d(512, 2048, kernel_size=(1,), stride=(1,), bias=False)\n",
       "        (conv2): Conv1d(2048, 512, kernel_size=(1,), stride=(1,), bias=False)\n",
       "        (decomp1): series_decomp(\n",
       "          (moving_avg): moving_avg(\n",
       "            (avg): AvgPool1d(kernel_size=(25,), stride=(1,), padding=(0,))\n",
       "          )\n",
       "        )\n",
       "        (decomp2): series_decomp(\n",
       "          (moving_avg): moving_avg(\n",
       "            (avg): AvgPool1d(kernel_size=(25,), stride=(1,), padding=(0,))\n",
       "          )\n",
       "        )\n",
       "        (decomp3): series_decomp(\n",
       "          (moving_avg): moving_avg(\n",
       "            (avg): AvgPool1d(kernel_size=(25,), stride=(1,), padding=(0,))\n",
       "          )\n",
       "        )\n",
       "        (dropout): Dropout(p=0.05, inplace=False)\n",
       "        (projection): Conv1d(512, 1, kernel_size=(3,), stride=(1,), padding=(1,), bias=False, padding_mode=circular)\n",
       "      )\n",
       "    )\n",
       "    (norm): my_Layernorm(\n",
       "      (layernorm): LayerNorm((512,), eps=1e-05, elementwise_affine=True)\n",
       "    )\n",
       "    (projection): Linear(in_features=512, out_features=1, bias=True)\n",
       "  )\n",
       ")"
      ]
     },
     "execution_count": 15,
     "metadata": {},
     "output_type": "execute_result"
    }
   ],
   "source": [
    "af.eval()"
   ]
  },
  {
   "cell_type": "code",
   "execution_count": 16,
   "id": "7503670d-bf15-49fe-b7f9-dc6f3ccd1d2a",
   "metadata": {},
   "outputs": [],
   "source": [
    "from data_provider import data_factory"
   ]
  },
  {
   "cell_type": "code",
   "execution_count": 17,
   "id": "4b18e574-3f0b-4c80-9d3e-d2e803083d61",
   "metadata": {},
   "outputs": [
    {
     "name": "stdout",
     "output_type": "stream",
     "text": [
      "test 11425\n"
     ]
    }
   ],
   "source": [
    "data_set, data_loader = data_factory.data_provider(configs, 'test')"
   ]
  },
  {
   "cell_type": "code",
   "execution_count": 18,
   "id": "8d4cf3ba-b748-44f3-b106-ac5074ef4f4c",
   "metadata": {},
   "outputs": [
    {
     "data": {
      "text/plain": [
       "<torch.utils.data.dataloader.DataLoader at 0x17e4739d0>"
      ]
     },
     "execution_count": 18,
     "metadata": {},
     "output_type": "execute_result"
    }
   ],
   "source": [
    "data_loader"
   ]
  },
  {
   "cell_type": "code",
   "execution_count": 30,
   "id": "0e7393c1-710e-4bc0-9ae9-2eafdc7a1795",
   "metadata": {},
   "outputs": [
    {
     "data": {
      "text/plain": [
       "(96, 1)"
      ]
     },
     "execution_count": 30,
     "metadata": {},
     "output_type": "execute_result"
    }
   ],
   "source": [
    "data_set[0][0].shape"
   ]
  },
  {
   "cell_type": "code",
   "execution_count": 26,
   "id": "74c94f56-5cc5-4b9b-9cc9-9c42f788eee1",
   "metadata": {},
   "outputs": [],
   "source": [
    "# for i, (batch_x, batch_y, batch_x_mark, batch_y_mark) in enumerate(data_loader):\n",
    "#     if i == 5:\n",
    "#         break\n",
    "\n",
    "#     print(f\"batch_x={batch_x[0]}, batch_y={batch_y[0]}, batch_x_mark={batch_x_mark}, batch_y_mark={batch_y_mark}\")"
   ]
  },
  {
   "cell_type": "code",
   "execution_count": 28,
   "id": "cfe40d92-7c80-41ca-b1c9-9b28608a64ad",
   "metadata": {},
   "outputs": [
    {
     "name": "stdout",
     "output_type": "stream",
     "text": [
      "/Users/ray/rayfile/auto_former/Autoformer\n"
     ]
    }
   ],
   "source": [
    "!pwd"
   ]
  },
  {
   "cell_type": "code",
   "execution_count": null,
   "id": "1ca4278e-3091-48ae-8bd4-747642c42985",
   "metadata": {},
   "outputs": [],
   "source": []
  }
 ],
 "metadata": {
  "kernelspec": {
   "display_name": "Python 3 (ipykernel)",
   "language": "python",
   "name": "python3"
  },
  "language_info": {
   "codemirror_mode": {
    "name": "ipython",
    "version": 3
   },
   "file_extension": ".py",
   "mimetype": "text/x-python",
   "name": "python",
   "nbconvert_exporter": "python",
   "pygments_lexer": "ipython3",
   "version": "3.9.7"
  }
 },
 "nbformat": 4,
 "nbformat_minor": 5
}
