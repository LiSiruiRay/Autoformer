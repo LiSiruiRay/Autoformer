{
 "cells": [
  {
   "cell_type": "code",
   "execution_count": 105,
   "id": "785bf076-8a9c-4045-8c60-a7bfb33d9340",
   "metadata": {},
   "outputs": [],
   "source": [
    "from sklearn.preprocessing import StandardScaler\n",
    "import pandas as pd\n",
    "import os\n",
    "def read_data(root_path: str = \"./dataset/ETT-small/\", \n",
    "              data_path: str = \"ETTm2.csv\",\n",
    "              seq_len: int = 96,\n",
    "              set_type: int = 2, # test\n",
    "              features: str = 'S',\n",
    "              target: str = 'OT',\n",
    "              scale: bool = True,\n",
    "              timeenc: int = 0,\n",
    "              freq: int = None,\n",
    "             ):\n",
    "    scaler = StandardScaler()\n",
    "    df_raw = pd.read_csv(os.path.join(root_path,\n",
    "                                      data_path))\n",
    "    # 24*4 is one day's data, 15min/per data,\n",
    "    # 12 is one year\n",
    "    border1s = [0,\n",
    "\n",
    "                # (   34560  )\n",
    "                # 1 year - seq_len\n",
    "                12 * 30 * 24 * 4 - seq_len,\n",
    "\n",
    "                # (             46080             )\n",
    "                # 1 year + 4 month\n",
    "                12 * 30 * 24 * 4 + 4 * 30 * 24 * 4 - seq_len]\n",
    "\n",
    "    #           (     34560    )\n",
    "    border2s = [12 * 30 * 24 * 4,\n",
    "\n",
    "                # (             46080             )\n",
    "                # 1 year + 4 month = 15 months\n",
    "                12 * 30 * 24 * 4 + 4 * 30 * 24 * 4,\n",
    "\n",
    "                # 1 year + 8 month = 20 months\n",
    "                12 * 30 * 24 * 4 + 8 * 30 * 24 * 4]\n",
    "\n",
    "    # for non stationary training\n",
    "    # border1s = [0, 700 - seq_len, 850 - seq_len]\n",
    "    # border2s = [700, 850, 995]\n",
    "    #\n",
    "    # #10 k non-stationary\n",
    "    # border1s = [0, 9000 - seq_len, 9500 - seq_len]\n",
    "    # border2s = [9000, 9500, 9990]\n",
    "\n",
    "    # for val, 1\n",
    "    # 1 year - seq_len\n",
    "    border1 = border1s[set_type]\n",
    "\n",
    "    # 1 year + 4 month = 15 months\n",
    "    border2 = border2s[set_type]\n",
    "\n",
    "    if features == 'M' or features == 'MS':\n",
    "        cols_data = df_raw.columns[1:]  # no heading\n",
    "        df_data = df_raw[cols_data]\n",
    "    elif features == 'S':\n",
    "        # for univariate, this is \"OT\"\n",
    "        df_data = df_raw[[target]]\n",
    "    if scale:\n",
    "        train_data = df_data[border1s[0]:border2s[0]]\n",
    "        scaler.fit(train_data.values)\n",
    "        data = scaler.transform(df_data.values)\n",
    "    else:\n",
    "        data = df_data.values\n",
    "    # for train: 1 years data\n",
    "    # or val: 4 month after 1 year\n",
    "    df_stamp = df_raw[['date']][border1:border2]\n",
    "    df_stamp['date'] = pd.to_datetime(df_stamp.date)\n",
    "    if timeenc == 0:\n",
    "        df_stamp['month'] = df_stamp.date.apply(lambda row: row.month, 1)\n",
    "        df_stamp['day'] = df_stamp.date.apply(lambda row: row.day, 1)\n",
    "        df_stamp['weekday'] = df_stamp.date.apply(lambda row: row.weekday(), 1)\n",
    "        df_stamp['hour'] = df_stamp.date.apply(lambda row: row.hour, 1)\n",
    "        df_stamp['minute'] = df_stamp.date.apply(lambda row: row.minute, 1)\n",
    "        df_stamp['minute'] = df_stamp.minute.map(lambda x: x // 15)\n",
    "        data_stamp = df_stamp.drop(['date'], axis=1).values\n",
    "    elif timeenc == 1:\n",
    "        data_stamp = time_features(pd.to_datetime(df_stamp['date'].values), freq=freq)\n",
    "        data_stamp = data_stamp.transpose(1, 0)\n",
    "\n",
    "    data_x = data[border1:border2]\n",
    "    data_y = data[border1:border2]\n",
    "    data_stamp = data_stamp\n",
    "    return data_x, data_y, data_stamp, scaler"
   ]
  },
  {
   "cell_type": "code",
   "execution_count": 106,
   "id": "7aa13770-79d0-4a37-a514-3c0ab0842142",
   "metadata": {},
   "outputs": [
    {
     "name": "stderr",
     "output_type": "stream",
     "text": [
      "/var/folders/3c/4336tt352pn6hnc003pk93080000gn/T/ipykernel_40353/1198422126.py:71: FutureWarning:\n",
      "\n",
      "the convert_dtype parameter is deprecated and will be removed in a future version.  Do ``ser.astype(object).apply()`` instead if you want ``convert_dtype=False``.\n",
      "\n",
      "/var/folders/3c/4336tt352pn6hnc003pk93080000gn/T/ipykernel_40353/1198422126.py:72: FutureWarning:\n",
      "\n",
      "the convert_dtype parameter is deprecated and will be removed in a future version.  Do ``ser.astype(object).apply()`` instead if you want ``convert_dtype=False``.\n",
      "\n",
      "/var/folders/3c/4336tt352pn6hnc003pk93080000gn/T/ipykernel_40353/1198422126.py:73: FutureWarning:\n",
      "\n",
      "the convert_dtype parameter is deprecated and will be removed in a future version.  Do ``ser.astype(object).apply()`` instead if you want ``convert_dtype=False``.\n",
      "\n",
      "/var/folders/3c/4336tt352pn6hnc003pk93080000gn/T/ipykernel_40353/1198422126.py:74: FutureWarning:\n",
      "\n",
      "the convert_dtype parameter is deprecated and will be removed in a future version.  Do ``ser.astype(object).apply()`` instead if you want ``convert_dtype=False``.\n",
      "\n",
      "/var/folders/3c/4336tt352pn6hnc003pk93080000gn/T/ipykernel_40353/1198422126.py:75: FutureWarning:\n",
      "\n",
      "the convert_dtype parameter is deprecated and will be removed in a future version.  Do ``ser.astype(object).apply()`` instead if you want ``convert_dtype=False``.\n",
      "\n"
     ]
    }
   ],
   "source": [
    "data_x, data_y, data_stamp, scaler = read_data(set_type = 0)"
   ]
  },
  {
   "cell_type": "code",
   "execution_count": 107,
   "id": "9da728c2-f341-4900-a87d-3109faf5b618",
   "metadata": {},
   "outputs": [
    {
     "data": {
      "text/plain": [
       "array([[1.01803216],\n",
       "       [0.98012448],\n",
       "       [0.90422282],\n",
       "       ...,\n",
       "       [0.86622851],\n",
       "       [0.86622851],\n",
       "       [0.84727484]])"
      ]
     },
     "execution_count": 107,
     "metadata": {},
     "output_type": "execute_result"
    }
   ],
   "source": [
    "data_x"
   ]
  },
  {
   "cell_type": "code",
   "execution_count": 108,
   "id": "df4dfc1e-b73d-439f-818c-bfbe448b0b38",
   "metadata": {},
   "outputs": [
    {
     "data": {
      "text/plain": [
       "34560"
      ]
     },
     "execution_count": 108,
     "metadata": {},
     "output_type": "execute_result"
    }
   ],
   "source": [
    "len(data_y)"
   ]
  },
  {
   "cell_type": "code",
   "execution_count": 109,
   "id": "c2909491-8c93-4457-9bf6-0a124f0f867a",
   "metadata": {},
   "outputs": [],
   "source": [
    "unscaled_y = scaler.inverse_transform(data_y)"
   ]
  },
  {
   "cell_type": "code",
   "execution_count": 110,
   "id": "b8490798-7f89-44d3-ba73-d5825cdff116",
   "metadata": {},
   "outputs": [
    {
     "data": {
      "text/plain": [
       "array([[38.66199875],\n",
       "       [38.22299957],\n",
       "       [37.34400177],\n",
       "       [37.12400055],\n",
       "       [37.12400055],\n",
       "       [36.90399933],\n",
       "       [36.90399933],\n",
       "       [36.46500015],\n",
       "       [36.46500015],\n",
       "       [36.46500015]])"
      ]
     },
     "execution_count": 110,
     "metadata": {},
     "output_type": "execute_result"
    }
   ],
   "source": [
    "unscaled_y[0:10]"
   ]
  },
  {
   "cell_type": "code",
   "execution_count": 112,
   "id": "55a0816f-7c2b-4925-b11f-da55dc28c10f",
   "metadata": {},
   "outputs": [],
   "source": [
    "def getitem(index: int,\n",
    "            data_x,\n",
    "            data_y,\n",
    "            data_stamp,\n",
    "            pred_len: int = 96,\n",
    "            seq_len: int = 96,\n",
    "            label_len: int = 96,):\n",
    "    s_begin = index\n",
    "    s_end = s_begin + seq_len\n",
    "    r_begin = s_end - label_len\n",
    "    r_end = r_begin + label_len + pred_len\n",
    "\n",
    "    seq_x = data_x[s_begin:s_end] # length is seq_len\n",
    "    seq_y = data_y[r_begin:r_end] # length = label_len + pred_len\n",
    "    seq_x_mark = data_stamp[s_begin:s_end]\n",
    "    seq_y_mark = data_stamp[r_begin:r_end]\n",
    "\n",
    "    return seq_x, seq_y, seq_x_mark, seq_y_mark"
   ]
  },
  {
   "cell_type": "code",
   "execution_count": 170,
   "id": "a4b45345-7c57-4956-b1c0-d333c7103c4e",
   "metadata": {},
   "outputs": [],
   "source": [
    "seq_x, seq_y, seq_x_mark, seq_y_mark = getitem(index = 10, \n",
    "                                               data_x = data_x,\n",
    "                                               data_y = data_y,\n",
    "                                               data_stamp = data_stamp,\n",
    "                                               pred_len = 96)"
   ]
  },
  {
   "cell_type": "code",
   "execution_count": 171,
   "id": "f7ffccca-e181-4996-92a9-d53a0f5cffd3",
   "metadata": {},
   "outputs": [
    {
     "data": {
      "text/plain": [
       "192"
      ]
     },
     "execution_count": 171,
     "metadata": {},
     "output_type": "execute_result"
    }
   ],
   "source": [
    "len(seq_y)"
   ]
  },
  {
   "cell_type": "code",
   "execution_count": 172,
   "id": "59c5cb27-e442-4b94-aeca-de6c7fe2ef94",
   "metadata": {},
   "outputs": [],
   "source": [
    "# seq_y = [[0] for i in seq_y]"
   ]
  },
  {
   "cell_type": "code",
   "execution_count": 173,
   "id": "8c9c95b1-79cc-4aa3-ac2b-5840c11abc7b",
   "metadata": {},
   "outputs": [
    {
     "data": {
      "text/plain": [
       "array([[0.77141601],\n",
       "       [0.69551402],\n",
       "       [0.58166154],\n",
       "       [0.52471356],\n",
       "       [0.48680555]])"
      ]
     },
     "execution_count": 173,
     "metadata": {},
     "output_type": "execute_result"
    }
   ],
   "source": [
    "seq_y[:5]"
   ]
  },
  {
   "cell_type": "code",
   "execution_count": 174,
   "id": "3b5bd8fc-3b86-4546-83a6-7421b470b439",
   "metadata": {},
   "outputs": [
    {
     "data": {
      "text/plain": [
       "array([[0.77141601],\n",
       "       [0.69551402],\n",
       "       [0.58166154],\n",
       "       [0.52471356],\n",
       "       [0.48680555],\n",
       "       [0.46780873],\n",
       "       [0.42985773],\n",
       "       [0.41090389],\n",
       "       [0.39190674],\n",
       "       [0.35399906]])"
      ]
     },
     "execution_count": 174,
     "metadata": {},
     "output_type": "execute_result"
    }
   ],
   "source": [
    "seq_x[:10]"
   ]
  },
  {
   "cell_type": "code",
   "execution_count": 175,
   "id": "ea660a22-1994-47b9-b020-37fae1cbb6da",
   "metadata": {},
   "outputs": [],
   "source": [
    "def predict(batch_x, \n",
    "             batch_y, \n",
    "             batch_x_mark, \n",
    "             batch_y_mark,\n",
    "             model,\n",
    "             device,\n",
    "             pred_len: int = 96,\n",
    "             label_len: int = 96,\n",
    "             output_attention: bool = False,\n",
    "             use_amp: bool = False,\n",
    "             features: str = \"S\",\n",
    "            ):\n",
    "    # decoder input\n",
    "    dec_inp = torch.zeros_like(batch_y[:, -pred_len:, :]).float() # mask\n",
    "    dec_inp = torch.cat([batch_y[:, :label_len, :], dec_inp], dim=1).float().to(device)\n",
    "    # encoder - decoder\n",
    "\n",
    "    def _run_model():\n",
    "        outputs = model(batch_x, batch_x_mark, dec_inp, batch_y_mark)\n",
    "        if output_attention:\n",
    "            outputs = outputs[0]\n",
    "        return outputs\n",
    "\n",
    "    if use_amp:\n",
    "        with torch.cuda.amp.autocast():\n",
    "            outputs = _run_model()\n",
    "    else:\n",
    "        outputs = _run_model()\n",
    "\n",
    "    f_dim = -1 if features == 'MS' else 0\n",
    "    outputs = outputs[:, -pred_len:, f_dim:]\n",
    "    batch_y = batch_y[:, -pred_len:, f_dim:].to(device)\n",
    "\n",
    "    return outputs, batch_y"
   ]
  },
  {
   "cell_type": "code",
   "execution_count": 176,
   "id": "b6da99d6-b0d4-4f1f-a9b4-a472a59938b4",
   "metadata": {},
   "outputs": [],
   "source": [
    "model_path = \"checkpoints/ETTm2_96_96_Autoformer_ETTm2_ftS_sl96_ll96_pl96_dm512_nh8_el2_dl1_df2048_fc3_ebtimeF_dtTrue_Exp_0/checkpoint.pth\""
   ]
  },
  {
   "cell_type": "code",
   "execution_count": 177,
   "id": "fa4f48cf-6976-4fb0-976c-60a2c3704189",
   "metadata": {},
   "outputs": [],
   "source": [
    "from argparse import Namespace\n",
    "configs = Namespace(\n",
    "    is_training=1, \n",
    "    model_id='ETTm2_96_96', \n",
    "    model='Autoformer', \n",
    "    data='ETTm2', \n",
    "    root_path='./dataset/ETT-small/', \n",
    "    data_path='ETTm2.csv', \n",
    "    features='S', \n",
    "    target='OT', \n",
    "    freq='t', \n",
    "    checkpoints='./checkpoints/', \n",
    "    seq_len=96, \n",
    "    label_len=96, \n",
    "    pred_len=96, \n",
    "    bucket_size=4, \n",
    "    n_hashes=4, \n",
    "    enc_in=1, \n",
    "    dec_in=1, \n",
    "    c_out=1, \n",
    "    d_model=512, \n",
    "    n_heads=8, \n",
    "    e_layers=2, \n",
    "    d_layers=1, \n",
    "    d_ff=2048, \n",
    "    moving_avg=25, \n",
    "    factor=3, \n",
    "    distil=True, \n",
    "    dropout=0.05, \n",
    "    embed='timeF', \n",
    "    activation='gelu', \n",
    "    output_attention=False, \n",
    "    do_predict=False, \n",
    "    num_workers=10, \n",
    "    itr=1, \n",
    "    train_epochs=10, \n",
    "    batch_size=32, \n",
    "    patience=3, \n",
    "    learning_rate=0.0001, \n",
    "    des='Exp', \n",
    "    loss='mse', \n",
    "    lradj='type1', \n",
    "    use_amp=False, \n",
    "    use_gpu=True, \n",
    "    gpu=0, \n",
    "    use_multi_gpu=False, \n",
    "    devices='0,1,2,3'\n",
    ")"
   ]
  },
  {
   "cell_type": "code",
   "execution_count": 178,
   "id": "f2caa17f-0ebc-43be-b026-1ba9ca00c91f",
   "metadata": {},
   "outputs": [],
   "source": [
    "from models import Autoformer"
   ]
  },
  {
   "cell_type": "code",
   "execution_count": 179,
   "id": "bb8c7e05-411a-4968-af86-f53cd1e56cb0",
   "metadata": {},
   "outputs": [],
   "source": [
    "af = Autoformer.Model(configs)"
   ]
  },
  {
   "cell_type": "code",
   "execution_count": 180,
   "id": "fc61c5df-5437-4870-9c5d-c7b363125108",
   "metadata": {},
   "outputs": [
    {
     "data": {
      "text/plain": [
       "<All keys matched successfully>"
      ]
     },
     "execution_count": 180,
     "metadata": {},
     "output_type": "execute_result"
    }
   ],
   "source": [
    "import torch\n",
    "af.load_state_dict(torch.load(model_path, map_location=torch.device('cpu')))"
   ]
  },
  {
   "cell_type": "code",
   "execution_count": 181,
   "id": "dc04af8e-47ea-4feb-8ddd-1e441c94da36",
   "metadata": {},
   "outputs": [],
   "source": [
    "# batch_x, batch_y, batch_x_mark, batch_y_mark = [seq_x], [seq_y], [seq_x_mark], [seq_y_mark]\n",
    "def get_batch(raw_data):\n",
    "    batched = torch.tensor(raw_data, dtype=torch.float32)\n",
    "    batched = batched.unsqueeze(0)\n",
    "    return batched"
   ]
  },
  {
   "cell_type": "code",
   "execution_count": null,
   "id": "76ae4f8b-c9bc-4e6d-814a-59d84467f1e0",
   "metadata": {},
   "outputs": [],
   "source": []
  },
  {
   "cell_type": "code",
   "execution_count": 182,
   "id": "5f06068f-f08b-4262-89fd-188e163a9c69",
   "metadata": {},
   "outputs": [],
   "source": [
    "batch_x = get_batch(seq_x)\n",
    "batch_y = get_batch(seq_y)\n",
    "batch_x_mark = get_batch(seq_x_mark)\n",
    "batch_y_mark = get_batch(seq_y_mark)"
   ]
  },
  {
   "cell_type": "code",
   "execution_count": null,
   "id": "d9726e68-5140-4c7a-872b-39c4f1e35dd5",
   "metadata": {},
   "outputs": [],
   "source": []
  },
  {
   "cell_type": "code",
   "execution_count": 183,
   "id": "7f9bd540-dcc8-4924-a24e-fea3c7212aaf",
   "metadata": {},
   "outputs": [],
   "source": [
    "def tensor_2_df(start_date: str, batch_to_convert, scaler, col_name:str = \"value\", freq:str = '15min'):\n",
    "    import pandas as pd\n",
    "    squ_tensor = batch_to_convert.squeeze(0)\n",
    "    np_tensor = squ_tensor.detach().numpy()\n",
    "    unscaled_np_tensor = scaler.inverse_transform(np_tensor)\n",
    "    df_tensor = pd.DataFrame(unscaled_np_tensor, columns=[col_name])\n",
    "    date_range = pd.date_range(start=start_date, periods=len(df_tensor), freq='15min')\n",
    "    df_tensor['date'] = date_range\n",
    "    df_tensor = df_tensor[['date', col_name]]\n",
    "    return df_tensor"
   ]
  },
  {
   "cell_type": "code",
   "execution_count": 184,
   "id": "7f9222ed-ff23-4e71-920b-d9650b13695e",
   "metadata": {},
   "outputs": [],
   "source": [
    "revert_y = tensor_2_df(start_date = '2016-07-01 00:00:00', batch_to_convert = batch_y, scaler = scaler)"
   ]
  },
  {
   "cell_type": "code",
   "execution_count": 185,
   "id": "7c9ff610-b244-44be-9a35-6fd783f018e9",
   "metadata": {},
   "outputs": [
    {
     "data": {
      "text/html": [
       "<div>\n",
       "<style scoped>\n",
       "    .dataframe tbody tr th:only-of-type {\n",
       "        vertical-align: middle;\n",
       "    }\n",
       "\n",
       "    .dataframe tbody tr th {\n",
       "        vertical-align: top;\n",
       "    }\n",
       "\n",
       "    .dataframe thead th {\n",
       "        text-align: right;\n",
       "    }\n",
       "</style>\n",
       "<table border=\"1\" class=\"dataframe\">\n",
       "  <thead>\n",
       "    <tr style=\"text-align: right;\">\n",
       "      <th></th>\n",
       "      <th>date</th>\n",
       "      <th>value</th>\n",
       "    </tr>\n",
       "  </thead>\n",
       "  <tbody>\n",
       "    <tr>\n",
       "      <th>0</th>\n",
       "      <td>2016-07-01 00:00:00</td>\n",
       "      <td>35.806000</td>\n",
       "    </tr>\n",
       "    <tr>\n",
       "      <th>1</th>\n",
       "      <td>2016-07-01 00:15:00</td>\n",
       "      <td>34.926998</td>\n",
       "    </tr>\n",
       "    <tr>\n",
       "      <th>2</th>\n",
       "      <td>2016-07-01 00:30:00</td>\n",
       "      <td>33.608501</td>\n",
       "    </tr>\n",
       "    <tr>\n",
       "      <th>3</th>\n",
       "      <td>2016-07-01 00:45:00</td>\n",
       "      <td>32.949001</td>\n",
       "    </tr>\n",
       "    <tr>\n",
       "      <th>4</th>\n",
       "      <td>2016-07-01 01:00:00</td>\n",
       "      <td>32.509998</td>\n",
       "    </tr>\n",
       "    <tr>\n",
       "      <th>...</th>\n",
       "      <td>...</td>\n",
       "      <td>...</td>\n",
       "    </tr>\n",
       "    <tr>\n",
       "      <th>187</th>\n",
       "      <td>2016-07-02 22:45:00</td>\n",
       "      <td>28.554501</td>\n",
       "    </tr>\n",
       "    <tr>\n",
       "      <th>188</th>\n",
       "      <td>2016-07-02 23:00:00</td>\n",
       "      <td>28.554501</td>\n",
       "    </tr>\n",
       "    <tr>\n",
       "      <th>189</th>\n",
       "      <td>2016-07-02 23:15:00</td>\n",
       "      <td>28.554501</td>\n",
       "    </tr>\n",
       "    <tr>\n",
       "      <th>190</th>\n",
       "      <td>2016-07-02 23:30:00</td>\n",
       "      <td>28.554501</td>\n",
       "    </tr>\n",
       "    <tr>\n",
       "      <th>191</th>\n",
       "      <td>2016-07-02 23:45:00</td>\n",
       "      <td>28.554501</td>\n",
       "    </tr>\n",
       "  </tbody>\n",
       "</table>\n",
       "<p>192 rows × 2 columns</p>\n",
       "</div>"
      ],
      "text/plain": [
       "                   date      value\n",
       "0   2016-07-01 00:00:00  35.806000\n",
       "1   2016-07-01 00:15:00  34.926998\n",
       "2   2016-07-01 00:30:00  33.608501\n",
       "3   2016-07-01 00:45:00  32.949001\n",
       "4   2016-07-01 01:00:00  32.509998\n",
       "..                  ...        ...\n",
       "187 2016-07-02 22:45:00  28.554501\n",
       "188 2016-07-02 23:00:00  28.554501\n",
       "189 2016-07-02 23:15:00  28.554501\n",
       "190 2016-07-02 23:30:00  28.554501\n",
       "191 2016-07-02 23:45:00  28.554501\n",
       "\n",
       "[192 rows x 2 columns]"
      ]
     },
     "execution_count": 185,
     "metadata": {},
     "output_type": "execute_result"
    }
   ],
   "source": [
    "revert_y"
   ]
  },
  {
   "cell_type": "code",
   "execution_count": 186,
   "id": "66129e95-29f2-473d-ad60-5234cafd8c75",
   "metadata": {},
   "outputs": [
    {
     "data": {
      "text/plain": [
       "torch.Size([1, 96, 1])"
      ]
     },
     "execution_count": 186,
     "metadata": {},
     "output_type": "execute_result"
    }
   ],
   "source": [
    "batch_x.shape"
   ]
  },
  {
   "cell_type": "code",
   "execution_count": 187,
   "id": "878efaab-5524-4ce7-93a5-444f628670d0",
   "metadata": {},
   "outputs": [
    {
     "data": {
      "text/plain": [
       "torch.Size([1, 192, 1])"
      ]
     },
     "execution_count": 187,
     "metadata": {},
     "output_type": "execute_result"
    }
   ],
   "source": [
    "batch_y.shape"
   ]
  },
  {
   "cell_type": "code",
   "execution_count": 188,
   "id": "b2c320fa-ec95-4624-bc21-c073a40bbd38",
   "metadata": {},
   "outputs": [
    {
     "data": {
      "text/plain": [
       "torch.Size([1, 96, 5])"
      ]
     },
     "execution_count": 188,
     "metadata": {},
     "output_type": "execute_result"
    }
   ],
   "source": [
    "batch_x_mark.shape"
   ]
  },
  {
   "cell_type": "code",
   "execution_count": 189,
   "id": "99a02b37-4e88-4d1a-91c9-10d28f4f2cbb",
   "metadata": {},
   "outputs": [
    {
     "data": {
      "text/plain": [
       "torch.Size([1, 192, 5])"
      ]
     },
     "execution_count": 189,
     "metadata": {},
     "output_type": "execute_result"
    }
   ],
   "source": [
    "batch_y_mark.shape"
   ]
  },
  {
   "cell_type": "code",
   "execution_count": 190,
   "id": "3cc4bb16-4890-478f-bcb1-74e1cf7a03bb",
   "metadata": {},
   "outputs": [],
   "source": [
    "outputs, batch_y = predict(batch_x=batch_x, \n",
    "                           batch_y=batch_y, \n",
    "                           batch_x_mark=batch_x_mark, \n",
    "                           batch_y_mark=batch_y_mark, \n",
    "                           model=af, device=torch.device('cpu'))"
   ]
  },
  {
   "cell_type": "code",
   "execution_count": 191,
   "id": "ae1b0e59-193b-4a31-8128-705f0526b5bb",
   "metadata": {},
   "outputs": [],
   "source": [
    "o_processed = tensor_2_df(start_date = '2016-07-02 00:00:00', batch_to_convert = outputs, scaler = scaler)"
   ]
  },
  {
   "cell_type": "code",
   "execution_count": 192,
   "id": "bcbc3640-083a-42de-b5cd-e88db10fdb84",
   "metadata": {},
   "outputs": [
    {
     "data": {
      "text/plain": [
       "(tensor([[-0.1014],\n",
       "         [-0.1014],\n",
       "         [-0.1014],\n",
       "         [-0.1014],\n",
       "         [-0.1014]]),\n",
       " tensor([[7.8331],\n",
       "         [7.8475],\n",
       "         [7.9507],\n",
       "         [7.9378],\n",
       "         [7.8444]], grad_fn=<SliceBackward0>))"
      ]
     },
     "execution_count": 192,
     "metadata": {},
     "output_type": "execute_result"
    }
   ],
   "source": [
    "batch_y[0][:5], outputs[0][:5]"
   ]
  },
  {
   "cell_type": "code",
   "execution_count": 193,
   "id": "6024a318-5844-40d9-aa62-35b4d979939f",
   "metadata": {},
   "outputs": [
    {
     "data": {
      "text/html": [
       "<div>\n",
       "<style scoped>\n",
       "    .dataframe tbody tr th:only-of-type {\n",
       "        vertical-align: middle;\n",
       "    }\n",
       "\n",
       "    .dataframe tbody tr th {\n",
       "        vertical-align: top;\n",
       "    }\n",
       "\n",
       "    .dataframe thead th {\n",
       "        text-align: right;\n",
       "    }\n",
       "</style>\n",
       "<table border=\"1\" class=\"dataframe\">\n",
       "  <thead>\n",
       "    <tr style=\"text-align: right;\">\n",
       "      <th></th>\n",
       "      <th>date</th>\n",
       "      <th>value</th>\n",
       "    </tr>\n",
       "  </thead>\n",
       "  <tbody>\n",
       "    <tr>\n",
       "      <th>0</th>\n",
       "      <td>2016-07-02 00:00:00</td>\n",
       "      <td>117.585785</td>\n",
       "    </tr>\n",
       "    <tr>\n",
       "      <th>1</th>\n",
       "      <td>2016-07-02 00:15:00</td>\n",
       "      <td>117.751999</td>\n",
       "    </tr>\n",
       "    <tr>\n",
       "      <th>2</th>\n",
       "      <td>2016-07-02 00:30:00</td>\n",
       "      <td>118.947395</td>\n",
       "    </tr>\n",
       "    <tr>\n",
       "      <th>3</th>\n",
       "      <td>2016-07-02 00:45:00</td>\n",
       "      <td>118.797867</td>\n",
       "    </tr>\n",
       "    <tr>\n",
       "      <th>4</th>\n",
       "      <td>2016-07-02 01:00:00</td>\n",
       "      <td>117.716278</td>\n",
       "    </tr>\n",
       "    <tr>\n",
       "      <th>...</th>\n",
       "      <td>...</td>\n",
       "      <td>...</td>\n",
       "    </tr>\n",
       "    <tr>\n",
       "      <th>91</th>\n",
       "      <td>2016-07-02 22:45:00</td>\n",
       "      <td>112.427795</td>\n",
       "    </tr>\n",
       "    <tr>\n",
       "      <th>92</th>\n",
       "      <td>2016-07-02 23:00:00</td>\n",
       "      <td>114.425339</td>\n",
       "    </tr>\n",
       "    <tr>\n",
       "      <th>93</th>\n",
       "      <td>2016-07-02 23:15:00</td>\n",
       "      <td>117.492439</td>\n",
       "    </tr>\n",
       "    <tr>\n",
       "      <th>94</th>\n",
       "      <td>2016-07-02 23:30:00</td>\n",
       "      <td>120.660240</td>\n",
       "    </tr>\n",
       "    <tr>\n",
       "      <th>95</th>\n",
       "      <td>2016-07-02 23:45:00</td>\n",
       "      <td>111.651459</td>\n",
       "    </tr>\n",
       "  </tbody>\n",
       "</table>\n",
       "<p>96 rows × 2 columns</p>\n",
       "</div>"
      ],
      "text/plain": [
       "                  date       value\n",
       "0  2016-07-02 00:00:00  117.585785\n",
       "1  2016-07-02 00:15:00  117.751999\n",
       "2  2016-07-02 00:30:00  118.947395\n",
       "3  2016-07-02 00:45:00  118.797867\n",
       "4  2016-07-02 01:00:00  117.716278\n",
       "..                 ...         ...\n",
       "91 2016-07-02 22:45:00  112.427795\n",
       "92 2016-07-02 23:00:00  114.425339\n",
       "93 2016-07-02 23:15:00  117.492439\n",
       "94 2016-07-02 23:30:00  120.660240\n",
       "95 2016-07-02 23:45:00  111.651459\n",
       "\n",
       "[96 rows x 2 columns]"
      ]
     },
     "execution_count": 193,
     "metadata": {},
     "output_type": "execute_result"
    }
   ],
   "source": [
    "o_processed"
   ]
  },
  {
   "cell_type": "code",
   "execution_count": null,
   "id": "375c329b-ea29-4a8b-9b06-f8b7c5728c23",
   "metadata": {},
   "outputs": [],
   "source": []
  },
  {
   "cell_type": "code",
   "execution_count": 194,
   "id": "c4f0dc82-2034-439e-bd14-6d710c46e6f0",
   "metadata": {},
   "outputs": [],
   "source": [
    "outputs_seq = outputs.squeeze(0)"
   ]
  },
  {
   "cell_type": "code",
   "execution_count": 195,
   "id": "e6f6749c-42fd-435a-88ab-c8b10ebf7dc0",
   "metadata": {},
   "outputs": [
    {
     "data": {
      "text/plain": [
       "torch.Size([96, 1])"
      ]
     },
     "execution_count": 195,
     "metadata": {},
     "output_type": "execute_result"
    }
   ],
   "source": [
    "outputs_seq.shape"
   ]
  },
  {
   "cell_type": "code",
   "execution_count": 196,
   "id": "d2591a5b-8dbe-48ef-9356-2a08b457ddf5",
   "metadata": {},
   "outputs": [
    {
     "data": {
      "text/plain": [
       "array([[5.283537 ],\n",
       "       [5.6442604],\n",
       "       [5.805705 ],\n",
       "       [5.9802313],\n",
       "       [6.290456 ]], dtype=float32)"
      ]
     },
     "execution_count": 196,
     "metadata": {},
     "output_type": "execute_result"
    }
   ],
   "source": [
    "np_outputs_seq[:5]"
   ]
  },
  {
   "cell_type": "code",
   "execution_count": 197,
   "id": "d53a3d16-6979-46bf-853c-6666c3c34eab",
   "metadata": {},
   "outputs": [],
   "source": [
    "np_outputs_seq = outputs_seq.detach().numpy()"
   ]
  },
  {
   "cell_type": "code",
   "execution_count": 198,
   "id": "0b53c377-e7db-4ab8-9181-4cc3d7bd3e7e",
   "metadata": {},
   "outputs": [],
   "source": [
    "unscaled_output = scaler.inverse_transform(np_outputs_seq)"
   ]
  },
  {
   "cell_type": "code",
   "execution_count": 199,
   "id": "ecd35270-0bc4-4d1f-8596-0deac592b761",
   "metadata": {},
   "outputs": [
    {
     "data": {
      "text/plain": [
       "array([[117.585785],\n",
       "       [117.752   ],\n",
       "       [118.947395],\n",
       "       [118.79787 ],\n",
       "       [117.71628 ]], dtype=float32)"
      ]
     },
     "execution_count": 199,
     "metadata": {},
     "output_type": "execute_result"
    }
   ],
   "source": [
    "unscaled_output[:5]"
   ]
  },
  {
   "cell_type": "code",
   "execution_count": 200,
   "id": "fcd4acc5-9d1c-46eb-999f-fc6f07b43028",
   "metadata": {},
   "outputs": [],
   "source": [
    "import pandas as pd"
   ]
  },
  {
   "cell_type": "code",
   "execution_count": 201,
   "id": "84ac3940-c380-4e53-bfeb-4cf603af9341",
   "metadata": {},
   "outputs": [],
   "source": [
    "df_data = pd.DataFrame(unscaled_output, columns=['predicted_result'])"
   ]
  },
  {
   "cell_type": "code",
   "execution_count": 202,
   "id": "a98f2443-7696-40ec-9ed2-556403ec02db",
   "metadata": {},
   "outputs": [
    {
     "data": {
      "text/html": [
       "<div>\n",
       "<style scoped>\n",
       "    .dataframe tbody tr th:only-of-type {\n",
       "        vertical-align: middle;\n",
       "    }\n",
       "\n",
       "    .dataframe tbody tr th {\n",
       "        vertical-align: top;\n",
       "    }\n",
       "\n",
       "    .dataframe thead th {\n",
       "        text-align: right;\n",
       "    }\n",
       "</style>\n",
       "<table border=\"1\" class=\"dataframe\">\n",
       "  <thead>\n",
       "    <tr style=\"text-align: right;\">\n",
       "      <th></th>\n",
       "      <th>predicted_result</th>\n",
       "    </tr>\n",
       "  </thead>\n",
       "  <tbody>\n",
       "    <tr>\n",
       "      <th>0</th>\n",
       "      <td>117.585785</td>\n",
       "    </tr>\n",
       "    <tr>\n",
       "      <th>1</th>\n",
       "      <td>117.751999</td>\n",
       "    </tr>\n",
       "    <tr>\n",
       "      <th>2</th>\n",
       "      <td>118.947395</td>\n",
       "    </tr>\n",
       "    <tr>\n",
       "      <th>3</th>\n",
       "      <td>118.797867</td>\n",
       "    </tr>\n",
       "    <tr>\n",
       "      <th>4</th>\n",
       "      <td>117.716278</td>\n",
       "    </tr>\n",
       "    <tr>\n",
       "      <th>...</th>\n",
       "      <td>...</td>\n",
       "    </tr>\n",
       "    <tr>\n",
       "      <th>91</th>\n",
       "      <td>112.427795</td>\n",
       "    </tr>\n",
       "    <tr>\n",
       "      <th>92</th>\n",
       "      <td>114.425339</td>\n",
       "    </tr>\n",
       "    <tr>\n",
       "      <th>93</th>\n",
       "      <td>117.492439</td>\n",
       "    </tr>\n",
       "    <tr>\n",
       "      <th>94</th>\n",
       "      <td>120.660240</td>\n",
       "    </tr>\n",
       "    <tr>\n",
       "      <th>95</th>\n",
       "      <td>111.651459</td>\n",
       "    </tr>\n",
       "  </tbody>\n",
       "</table>\n",
       "<p>96 rows × 1 columns</p>\n",
       "</div>"
      ],
      "text/plain": [
       "    predicted_result\n",
       "0         117.585785\n",
       "1         117.751999\n",
       "2         118.947395\n",
       "3         118.797867\n",
       "4         117.716278\n",
       "..               ...\n",
       "91        112.427795\n",
       "92        114.425339\n",
       "93        117.492439\n",
       "94        120.660240\n",
       "95        111.651459\n",
       "\n",
       "[96 rows x 1 columns]"
      ]
     },
     "execution_count": 202,
     "metadata": {},
     "output_type": "execute_result"
    }
   ],
   "source": [
    "df_data"
   ]
  },
  {
   "cell_type": "code",
   "execution_count": 203,
   "id": "b4b9adb0-c451-4558-a712-ae1ac59a8715",
   "metadata": {},
   "outputs": [
    {
     "name": "stderr",
     "output_type": "stream",
     "text": [
      "/var/folders/3c/4336tt352pn6hnc003pk93080000gn/T/ipykernel_40353/2614966839.py:2: FutureWarning:\n",
      "\n",
      "'T' is deprecated and will be removed in a future version, please use 'min' instead.\n",
      "\n"
     ]
    }
   ],
   "source": [
    "start_date = '2016-07-02 00:00:00'\n",
    "date_range = pd.date_range(start=start_date, periods=len(df_data), freq='15T')\n",
    "df_data['date'] = date_range\n",
    "df_data = df_data[['date', 'predicted_result']]"
   ]
  },
  {
   "cell_type": "code",
   "execution_count": 204,
   "id": "bb7973d2-a74c-4273-8ac3-04020930cdfc",
   "metadata": {},
   "outputs": [
    {
     "data": {
      "text/html": [
       "<div>\n",
       "<style scoped>\n",
       "    .dataframe tbody tr th:only-of-type {\n",
       "        vertical-align: middle;\n",
       "    }\n",
       "\n",
       "    .dataframe tbody tr th {\n",
       "        vertical-align: top;\n",
       "    }\n",
       "\n",
       "    .dataframe thead th {\n",
       "        text-align: right;\n",
       "    }\n",
       "</style>\n",
       "<table border=\"1\" class=\"dataframe\">\n",
       "  <thead>\n",
       "    <tr style=\"text-align: right;\">\n",
       "      <th></th>\n",
       "      <th>date</th>\n",
       "      <th>predicted_result</th>\n",
       "    </tr>\n",
       "  </thead>\n",
       "  <tbody>\n",
       "    <tr>\n",
       "      <th>0</th>\n",
       "      <td>2016-07-02 00:00:00</td>\n",
       "      <td>117.585785</td>\n",
       "    </tr>\n",
       "    <tr>\n",
       "      <th>1</th>\n",
       "      <td>2016-07-02 00:15:00</td>\n",
       "      <td>117.751999</td>\n",
       "    </tr>\n",
       "    <tr>\n",
       "      <th>2</th>\n",
       "      <td>2016-07-02 00:30:00</td>\n",
       "      <td>118.947395</td>\n",
       "    </tr>\n",
       "    <tr>\n",
       "      <th>3</th>\n",
       "      <td>2016-07-02 00:45:00</td>\n",
       "      <td>118.797867</td>\n",
       "    </tr>\n",
       "    <tr>\n",
       "      <th>4</th>\n",
       "      <td>2016-07-02 01:00:00</td>\n",
       "      <td>117.716278</td>\n",
       "    </tr>\n",
       "    <tr>\n",
       "      <th>...</th>\n",
       "      <td>...</td>\n",
       "      <td>...</td>\n",
       "    </tr>\n",
       "    <tr>\n",
       "      <th>91</th>\n",
       "      <td>2016-07-02 22:45:00</td>\n",
       "      <td>112.427795</td>\n",
       "    </tr>\n",
       "    <tr>\n",
       "      <th>92</th>\n",
       "      <td>2016-07-02 23:00:00</td>\n",
       "      <td>114.425339</td>\n",
       "    </tr>\n",
       "    <tr>\n",
       "      <th>93</th>\n",
       "      <td>2016-07-02 23:15:00</td>\n",
       "      <td>117.492439</td>\n",
       "    </tr>\n",
       "    <tr>\n",
       "      <th>94</th>\n",
       "      <td>2016-07-02 23:30:00</td>\n",
       "      <td>120.660240</td>\n",
       "    </tr>\n",
       "    <tr>\n",
       "      <th>95</th>\n",
       "      <td>2016-07-02 23:45:00</td>\n",
       "      <td>111.651459</td>\n",
       "    </tr>\n",
       "  </tbody>\n",
       "</table>\n",
       "<p>96 rows × 2 columns</p>\n",
       "</div>"
      ],
      "text/plain": [
       "                  date  predicted_result\n",
       "0  2016-07-02 00:00:00        117.585785\n",
       "1  2016-07-02 00:15:00        117.751999\n",
       "2  2016-07-02 00:30:00        118.947395\n",
       "3  2016-07-02 00:45:00        118.797867\n",
       "4  2016-07-02 01:00:00        117.716278\n",
       "..                 ...               ...\n",
       "91 2016-07-02 22:45:00        112.427795\n",
       "92 2016-07-02 23:00:00        114.425339\n",
       "93 2016-07-02 23:15:00        117.492439\n",
       "94 2016-07-02 23:30:00        120.660240\n",
       "95 2016-07-02 23:45:00        111.651459\n",
       "\n",
       "[96 rows x 2 columns]"
      ]
     },
     "execution_count": 204,
     "metadata": {},
     "output_type": "execute_result"
    }
   ],
   "source": [
    "df_data"
   ]
  },
  {
   "cell_type": "code",
   "execution_count": 205,
   "id": "562d324b-dcf8-44ab-8046-77a28ce7010f",
   "metadata": {},
   "outputs": [],
   "source": [
    "seq_x_, seq_y_, seq_x_mark_, seq_y_mark_ = getitem(index = 0, \n",
    "                                               data_x = data_x,\n",
    "                                               data_y = data_y,\n",
    "                                               data_stamp = data_stamp,\n",
    "                                               pred_len = 96)"
   ]
  },
  {
   "cell_type": "code",
   "execution_count": null,
   "id": "772371f3-8339-4538-8080-a3e5daf28156",
   "metadata": {},
   "outputs": [],
   "source": []
  },
  {
   "cell_type": "code",
   "execution_count": 206,
   "id": "c3fbf745-b5d7-4a79-b814-476ddae0a5e0",
   "metadata": {},
   "outputs": [],
   "source": [
    "correct = scaler.inverse_transform(seq_y_)"
   ]
  },
  {
   "cell_type": "code",
   "execution_count": 207,
   "id": "d393894f-57cd-4a80-af54-040b600ab718",
   "metadata": {},
   "outputs": [
    {
     "data": {
      "text/plain": [
       "array([28.33499908])"
      ]
     },
     "execution_count": 207,
     "metadata": {},
     "output_type": "execute_result"
    }
   ],
   "source": [
    "correct[-9]"
   ]
  },
  {
   "cell_type": "code",
   "execution_count": 208,
   "id": "9c2bf6b5-e3dc-403d-919b-d0ad2b126624",
   "metadata": {},
   "outputs": [],
   "source": [
    "start_date_correct = '2016-07-01 00:00:00'\n",
    "correct_date_range = pd.date_range(start=start_date_correct, periods=len(correct), freq='15min')"
   ]
  },
  {
   "cell_type": "code",
   "execution_count": 209,
   "id": "6d918709-be06-4bed-ac57-19e829836691",
   "metadata": {},
   "outputs": [
    {
     "data": {
      "text/plain": [
       "Timestamp('2016-07-02 23:45:00')"
      ]
     },
     "execution_count": 209,
     "metadata": {},
     "output_type": "execute_result"
    }
   ],
   "source": [
    "correct_date_range[-1]"
   ]
  },
  {
   "cell_type": "code",
   "execution_count": 210,
   "id": "e8952841-b500-4ed3-81d9-d7c760593f29",
   "metadata": {},
   "outputs": [],
   "source": [
    "df_correct = pd.DataFrame(correct, columns=['correct'])"
   ]
  },
  {
   "cell_type": "code",
   "execution_count": 211,
   "id": "efc33288-24b5-4bcf-affe-2951afcf9962",
   "metadata": {},
   "outputs": [],
   "source": [
    "df_correct['date'] = correct_date_range"
   ]
  },
  {
   "cell_type": "code",
   "execution_count": 212,
   "id": "892cec16-68e2-4921-81bd-4b6aad6f4296",
   "metadata": {},
   "outputs": [],
   "source": [
    "df_correct = df_correct[['date', 'correct']]"
   ]
  },
  {
   "cell_type": "code",
   "execution_count": 213,
   "id": "37446979-981c-4605-9bf1-eb851b0ac644",
   "metadata": {},
   "outputs": [
    {
     "data": {
      "text/html": [
       "<div>\n",
       "<style scoped>\n",
       "    .dataframe tbody tr th:only-of-type {\n",
       "        vertical-align: middle;\n",
       "    }\n",
       "\n",
       "    .dataframe tbody tr th {\n",
       "        vertical-align: top;\n",
       "    }\n",
       "\n",
       "    .dataframe thead th {\n",
       "        text-align: right;\n",
       "    }\n",
       "</style>\n",
       "<table border=\"1\" class=\"dataframe\">\n",
       "  <thead>\n",
       "    <tr style=\"text-align: right;\">\n",
       "      <th></th>\n",
       "      <th>date</th>\n",
       "      <th>correct</th>\n",
       "    </tr>\n",
       "  </thead>\n",
       "  <tbody>\n",
       "    <tr>\n",
       "      <th>0</th>\n",
       "      <td>2016-07-01 00:00:00</td>\n",
       "      <td>38.661999</td>\n",
       "    </tr>\n",
       "    <tr>\n",
       "      <th>1</th>\n",
       "      <td>2016-07-01 00:15:00</td>\n",
       "      <td>38.223000</td>\n",
       "    </tr>\n",
       "    <tr>\n",
       "      <th>2</th>\n",
       "      <td>2016-07-01 00:30:00</td>\n",
       "      <td>37.344002</td>\n",
       "    </tr>\n",
       "    <tr>\n",
       "      <th>3</th>\n",
       "      <td>2016-07-01 00:45:00</td>\n",
       "      <td>37.124001</td>\n",
       "    </tr>\n",
       "    <tr>\n",
       "      <th>4</th>\n",
       "      <td>2016-07-01 01:00:00</td>\n",
       "      <td>37.124001</td>\n",
       "    </tr>\n",
       "    <tr>\n",
       "      <th>...</th>\n",
       "      <td>...</td>\n",
       "      <td>...</td>\n",
       "    </tr>\n",
       "    <tr>\n",
       "      <th>187</th>\n",
       "      <td>2016-07-02 22:45:00</td>\n",
       "      <td>27.455999</td>\n",
       "    </tr>\n",
       "    <tr>\n",
       "      <th>188</th>\n",
       "      <td>2016-07-02 23:00:00</td>\n",
       "      <td>27.236500</td>\n",
       "    </tr>\n",
       "    <tr>\n",
       "      <th>189</th>\n",
       "      <td>2016-07-02 23:15:00</td>\n",
       "      <td>27.236500</td>\n",
       "    </tr>\n",
       "    <tr>\n",
       "      <th>190</th>\n",
       "      <td>2016-07-02 23:30:00</td>\n",
       "      <td>27.236500</td>\n",
       "    </tr>\n",
       "    <tr>\n",
       "      <th>191</th>\n",
       "      <td>2016-07-02 23:45:00</td>\n",
       "      <td>27.236500</td>\n",
       "    </tr>\n",
       "  </tbody>\n",
       "</table>\n",
       "<p>192 rows × 2 columns</p>\n",
       "</div>"
      ],
      "text/plain": [
       "                   date    correct\n",
       "0   2016-07-01 00:00:00  38.661999\n",
       "1   2016-07-01 00:15:00  38.223000\n",
       "2   2016-07-01 00:30:00  37.344002\n",
       "3   2016-07-01 00:45:00  37.124001\n",
       "4   2016-07-01 01:00:00  37.124001\n",
       "..                  ...        ...\n",
       "187 2016-07-02 22:45:00  27.455999\n",
       "188 2016-07-02 23:00:00  27.236500\n",
       "189 2016-07-02 23:15:00  27.236500\n",
       "190 2016-07-02 23:30:00  27.236500\n",
       "191 2016-07-02 23:45:00  27.236500\n",
       "\n",
       "[192 rows x 2 columns]"
      ]
     },
     "execution_count": 213,
     "metadata": {},
     "output_type": "execute_result"
    }
   ],
   "source": [
    "df_correct"
   ]
  },
  {
   "cell_type": "code",
   "execution_count": 214,
   "id": "530b8e89-a14b-48e9-85f6-a6e7a747d9dc",
   "metadata": {},
   "outputs": [],
   "source": [
    "import plotly.graph_objects as go"
   ]
  },
  {
   "cell_type": "code",
   "execution_count": 215,
   "id": "62ee4836-86b8-4b70-bf0e-c65295f4ae2e",
   "metadata": {},
   "outputs": [],
   "source": [
    "highlight_length = 5"
   ]
  },
  {
   "cell_type": "code",
   "execution_count": 216,
   "id": "7016f21d-d54b-4ef4-971c-04971f7beec9",
   "metadata": {},
   "outputs": [],
   "source": [
    "fig = go.Figure(go.Scatter(x=df_correct['date'], y=df_correct['correct'], mode='lines', name='Correct Data'))"
   ]
  },
  {
   "cell_type": "code",
   "execution_count": 217,
   "id": "067041b2-55b9-4c2d-b0f0-bf274074e93c",
   "metadata": {},
   "outputs": [
    {
     "data": {
      "application/vnd.plotly.v1+json": {
       "config": {
        "plotlyServerURL": "https://plot.ly"
       },
       "data": [
        {
         "mode": "lines",
         "name": "Correct Data",
         "type": "scatter",
         "x": [
          "2016-07-01T00:00:00",
          "2016-07-01T00:15:00",
          "2016-07-01T00:30:00",
          "2016-07-01T00:45:00",
          "2016-07-01T01:00:00",
          "2016-07-01T01:15:00",
          "2016-07-01T01:30:00",
          "2016-07-01T01:45:00",
          "2016-07-01T02:00:00",
          "2016-07-01T02:15:00",
          "2016-07-01T02:30:00",
          "2016-07-01T02:45:00",
          "2016-07-01T03:00:00",
          "2016-07-01T03:15:00",
          "2016-07-01T03:30:00",
          "2016-07-01T03:45:00",
          "2016-07-01T04:00:00",
          "2016-07-01T04:15:00",
          "2016-07-01T04:30:00",
          "2016-07-01T04:45:00",
          "2016-07-01T05:00:00",
          "2016-07-01T05:15:00",
          "2016-07-01T05:30:00",
          "2016-07-01T05:45:00",
          "2016-07-01T06:00:00",
          "2016-07-01T06:15:00",
          "2016-07-01T06:30:00",
          "2016-07-01T06:45:00",
          "2016-07-01T07:00:00",
          "2016-07-01T07:15:00",
          "2016-07-01T07:30:00",
          "2016-07-01T07:45:00",
          "2016-07-01T08:00:00",
          "2016-07-01T08:15:00",
          "2016-07-01T08:30:00",
          "2016-07-01T08:45:00",
          "2016-07-01T09:00:00",
          "2016-07-01T09:15:00",
          "2016-07-01T09:30:00",
          "2016-07-01T09:45:00",
          "2016-07-01T10:00:00",
          "2016-07-01T10:15:00",
          "2016-07-01T10:30:00",
          "2016-07-01T10:45:00",
          "2016-07-01T11:00:00",
          "2016-07-01T11:15:00",
          "2016-07-01T11:30:00",
          "2016-07-01T11:45:00",
          "2016-07-01T12:00:00",
          "2016-07-01T12:15:00",
          "2016-07-01T12:30:00",
          "2016-07-01T12:45:00",
          "2016-07-01T13:00:00",
          "2016-07-01T13:15:00",
          "2016-07-01T13:30:00",
          "2016-07-01T13:45:00",
          "2016-07-01T14:00:00",
          "2016-07-01T14:15:00",
          "2016-07-01T14:30:00",
          "2016-07-01T14:45:00",
          "2016-07-01T15:00:00",
          "2016-07-01T15:15:00",
          "2016-07-01T15:30:00",
          "2016-07-01T15:45:00",
          "2016-07-01T16:00:00",
          "2016-07-01T16:15:00",
          "2016-07-01T16:30:00",
          "2016-07-01T16:45:00",
          "2016-07-01T17:00:00",
          "2016-07-01T17:15:00",
          "2016-07-01T17:30:00",
          "2016-07-01T17:45:00",
          "2016-07-01T18:00:00",
          "2016-07-01T18:15:00",
          "2016-07-01T18:30:00",
          "2016-07-01T18:45:00",
          "2016-07-01T19:00:00",
          "2016-07-01T19:15:00",
          "2016-07-01T19:30:00",
          "2016-07-01T19:45:00",
          "2016-07-01T20:00:00",
          "2016-07-01T20:15:00",
          "2016-07-01T20:30:00",
          "2016-07-01T20:45:00",
          "2016-07-01T21:00:00",
          "2016-07-01T21:15:00",
          "2016-07-01T21:30:00",
          "2016-07-01T21:45:00",
          "2016-07-01T22:00:00",
          "2016-07-01T22:15:00",
          "2016-07-01T22:30:00",
          "2016-07-01T22:45:00",
          "2016-07-01T23:00:00",
          "2016-07-01T23:15:00",
          "2016-07-01T23:30:00",
          "2016-07-01T23:45:00",
          "2016-07-02T00:00:00",
          "2016-07-02T00:15:00",
          "2016-07-02T00:30:00",
          "2016-07-02T00:45:00",
          "2016-07-02T01:00:00",
          "2016-07-02T01:15:00",
          "2016-07-02T01:30:00",
          "2016-07-02T01:45:00",
          "2016-07-02T02:00:00",
          "2016-07-02T02:15:00",
          "2016-07-02T02:30:00",
          "2016-07-02T02:45:00",
          "2016-07-02T03:00:00",
          "2016-07-02T03:15:00",
          "2016-07-02T03:30:00",
          "2016-07-02T03:45:00",
          "2016-07-02T04:00:00",
          "2016-07-02T04:15:00",
          "2016-07-02T04:30:00",
          "2016-07-02T04:45:00",
          "2016-07-02T05:00:00",
          "2016-07-02T05:15:00",
          "2016-07-02T05:30:00",
          "2016-07-02T05:45:00",
          "2016-07-02T06:00:00",
          "2016-07-02T06:15:00",
          "2016-07-02T06:30:00",
          "2016-07-02T06:45:00",
          "2016-07-02T07:00:00",
          "2016-07-02T07:15:00",
          "2016-07-02T07:30:00",
          "2016-07-02T07:45:00",
          "2016-07-02T08:00:00",
          "2016-07-02T08:15:00",
          "2016-07-02T08:30:00",
          "2016-07-02T08:45:00",
          "2016-07-02T09:00:00",
          "2016-07-02T09:15:00",
          "2016-07-02T09:30:00",
          "2016-07-02T09:45:00",
          "2016-07-02T10:00:00",
          "2016-07-02T10:15:00",
          "2016-07-02T10:30:00",
          "2016-07-02T10:45:00",
          "2016-07-02T11:00:00",
          "2016-07-02T11:15:00",
          "2016-07-02T11:30:00",
          "2016-07-02T11:45:00",
          "2016-07-02T12:00:00",
          "2016-07-02T12:15:00",
          "2016-07-02T12:30:00",
          "2016-07-02T12:45:00",
          "2016-07-02T13:00:00",
          "2016-07-02T13:15:00",
          "2016-07-02T13:30:00",
          "2016-07-02T13:45:00",
          "2016-07-02T14:00:00",
          "2016-07-02T14:15:00",
          "2016-07-02T14:30:00",
          "2016-07-02T14:45:00",
          "2016-07-02T15:00:00",
          "2016-07-02T15:15:00",
          "2016-07-02T15:30:00",
          "2016-07-02T15:45:00",
          "2016-07-02T16:00:00",
          "2016-07-02T16:15:00",
          "2016-07-02T16:30:00",
          "2016-07-02T16:45:00",
          "2016-07-02T17:00:00",
          "2016-07-02T17:15:00",
          "2016-07-02T17:30:00",
          "2016-07-02T17:45:00",
          "2016-07-02T18:00:00",
          "2016-07-02T18:15:00",
          "2016-07-02T18:30:00",
          "2016-07-02T18:45:00",
          "2016-07-02T19:00:00",
          "2016-07-02T19:15:00",
          "2016-07-02T19:30:00",
          "2016-07-02T19:45:00",
          "2016-07-02T20:00:00",
          "2016-07-02T20:15:00",
          "2016-07-02T20:30:00",
          "2016-07-02T20:45:00",
          "2016-07-02T21:00:00",
          "2016-07-02T21:15:00",
          "2016-07-02T21:30:00",
          "2016-07-02T21:45:00",
          "2016-07-02T22:00:00",
          "2016-07-02T22:15:00",
          "2016-07-02T22:30:00",
          "2016-07-02T22:45:00",
          "2016-07-02T23:00:00",
          "2016-07-02T23:15:00",
          "2016-07-02T23:30:00",
          "2016-07-02T23:45:00"
         ],
         "y": [
          38.6619987487793,
          38.22299957275391,
          37.34400177001953,
          37.124000549316406,
          37.124000549316406,
          36.90399932861328,
          36.90399932861328,
          36.46500015258789,
          36.46500015258789,
          36.46500015258789,
          35.80599975585937,
          34.92699813842773,
          33.60850143432617,
          32.94900131225586,
          32.5099983215332,
          32.290000915527344,
          31.850500106811523,
          31.631000518798828,
          31.410999298095703,
          30.97200012207031,
          30.53199958801269,
          30.53199958801269,
          30.75200080871582,
          30.3125,
          30.093000411987305,
          29.87299919128418,
          29.87299919128418,
          29.87299919128418,
          29.87299919128418,
          29.87299919128418,
          29.87299919128418,
          29.87299919128418,
          29.65299987792969,
          29.43350028991699,
          29.43350028991699,
          29.43350028991699,
          29.21349906921387,
          28.11549949645996,
          27.675500869750977,
          27.675500869750977,
          27.45599937438965,
          27.45599937438965,
          27.45599937438965,
          27.45599937438965,
          27.45599937438965,
          27.45599937438965,
          27.236499786376957,
          27.236499786376957,
          27.236499786376957,
          27.236499786376957,
          26.79700088500977,
          26.57699966430664,
          26.57699966430664,
          26.79700088500977,
          26.79700088500977,
          26.79700088500977,
          26.79700088500977,
          26.79700088500977,
          26.79700088500977,
          26.79700088500977,
          26.79700088500977,
          26.79700088500977,
          26.79700088500977,
          26.79700088500977,
          26.79700088500977,
          26.57749938964844,
          26.57749938964844,
          26.57749938964844,
          26.57749938964844,
          26.57749938964844,
          26.57749938964844,
          26.57749938964844,
          26.57749938964844,
          26.57749938964844,
          26.357500076293945,
          26.13750076293945,
          26.13750076293945,
          26.13750076293945,
          26.13750076293945,
          26.13750076293945,
          26.13750076293945,
          26.13750076293945,
          26.13750076293945,
          26.13750076293945,
          25.69849967956543,
          25.69849967956543,
          25.69849967956543,
          25.917999267578125,
          25.917999267578125,
          25.917999267578125,
          25.917999267578125,
          25.917999267578125,
          25.917999267578125,
          25.917999267578125,
          25.917999267578125,
          25.917999267578125,
          25.917999267578125,
          25.917999267578125,
          25.917999267578125,
          26.13800048828125,
          26.357500076293945,
          26.357500076293945,
          26.357500076293945,
          26.13750076293945,
          26.13750076293945,
          25.917999267578125,
          25.69849967956543,
          25.69849967956543,
          25.69849967956543,
          25.69849967956543,
          25.69849967956543,
          25.69849967956543,
          25.69849967956543,
          25.917999267578125,
          25.917999267578125,
          25.917999267578125,
          25.917999267578125,
          25.917999267578125,
          25.917999267578125,
          25.917999267578125,
          25.917999267578125,
          25.917999267578125,
          25.917999267578125,
          25.917999267578125,
          25.917999267578125,
          25.478500366210927,
          25.478500366210927,
          25.478500366210927,
          25.478500366210927,
          25.478500366210927,
          25.478500366210927,
          25.697999954223643,
          25.697999954223643,
          25.697999954223643,
          25.697999954223643,
          25.917999267578125,
          25.917999267578125,
          25.917999267578125,
          25.917999267578125,
          25.917999267578125,
          25.917999267578125,
          25.917999267578125,
          26.13800048828125,
          26.357500076293945,
          26.13750076293945,
          26.13750076293945,
          26.357500076293945,
          26.357500076293945,
          26.357500076293945,
          26.357500076293945,
          26.357500076293945,
          26.357500076293945,
          26.57749938964844,
          26.79700088500977,
          26.79700088500977,
          27.236499786376957,
          27.45599937438965,
          27.45599937438965,
          27.45599937438965,
          27.67600059509277,
          27.67600059509277,
          27.67600059509277,
          27.89550018310547,
          28.11549949645996,
          28.11549949645996,
          28.334999084472656,
          28.334999084472656,
          28.554500579833984,
          28.554500579833984,
          28.77449989318848,
          28.77449989318848,
          28.77449989318848,
          28.77449989318848,
          28.99399948120117,
          29.21349906921387,
          29.43350028991699,
          29.653499603271484,
          29.653499603271484,
          29.653499603271484,
          29.43350028991699,
          29.21349906921387,
          28.77449989318848,
          28.334999084472656,
          28.334999084472656,
          27.89550018310547,
          27.89550018310547,
          27.675500869750977,
          27.45599937438965,
          27.236499786376957,
          27.236499786376957,
          27.236499786376957,
          27.236499786376957
         ]
        },
        {
         "line": {
          "color": "orange",
          "dash": "dot",
          "width": 4
         },
         "mode": "lines",
         "name": "Used for Prediction",
         "type": "scatter",
         "x": [
          "2016-07-01T00:00:00",
          "2016-07-01T00:15:00",
          "2016-07-01T00:30:00",
          "2016-07-01T00:45:00",
          "2016-07-01T01:00:00",
          "2016-07-01T01:15:00",
          "2016-07-01T01:30:00",
          "2016-07-01T01:45:00",
          "2016-07-01T02:00:00",
          "2016-07-01T02:15:00",
          "2016-07-01T02:30:00",
          "2016-07-01T02:45:00",
          "2016-07-01T03:00:00",
          "2016-07-01T03:15:00",
          "2016-07-01T03:30:00",
          "2016-07-01T03:45:00",
          "2016-07-01T04:00:00",
          "2016-07-01T04:15:00",
          "2016-07-01T04:30:00",
          "2016-07-01T04:45:00",
          "2016-07-01T05:00:00",
          "2016-07-01T05:15:00",
          "2016-07-01T05:30:00",
          "2016-07-01T05:45:00",
          "2016-07-01T06:00:00",
          "2016-07-01T06:15:00",
          "2016-07-01T06:30:00",
          "2016-07-01T06:45:00",
          "2016-07-01T07:00:00",
          "2016-07-01T07:15:00",
          "2016-07-01T07:30:00",
          "2016-07-01T07:45:00",
          "2016-07-01T08:00:00",
          "2016-07-01T08:15:00",
          "2016-07-01T08:30:00",
          "2016-07-01T08:45:00",
          "2016-07-01T09:00:00",
          "2016-07-01T09:15:00",
          "2016-07-01T09:30:00",
          "2016-07-01T09:45:00",
          "2016-07-01T10:00:00",
          "2016-07-01T10:15:00",
          "2016-07-01T10:30:00",
          "2016-07-01T10:45:00",
          "2016-07-01T11:00:00",
          "2016-07-01T11:15:00",
          "2016-07-01T11:30:00",
          "2016-07-01T11:45:00",
          "2016-07-01T12:00:00",
          "2016-07-01T12:15:00",
          "2016-07-01T12:30:00",
          "2016-07-01T12:45:00",
          "2016-07-01T13:00:00",
          "2016-07-01T13:15:00",
          "2016-07-01T13:30:00",
          "2016-07-01T13:45:00",
          "2016-07-01T14:00:00",
          "2016-07-01T14:15:00",
          "2016-07-01T14:30:00",
          "2016-07-01T14:45:00",
          "2016-07-01T15:00:00",
          "2016-07-01T15:15:00",
          "2016-07-01T15:30:00",
          "2016-07-01T15:45:00",
          "2016-07-01T16:00:00",
          "2016-07-01T16:15:00",
          "2016-07-01T16:30:00",
          "2016-07-01T16:45:00",
          "2016-07-01T17:00:00",
          "2016-07-01T17:15:00",
          "2016-07-01T17:30:00",
          "2016-07-01T17:45:00",
          "2016-07-01T18:00:00",
          "2016-07-01T18:15:00",
          "2016-07-01T18:30:00",
          "2016-07-01T18:45:00",
          "2016-07-01T19:00:00",
          "2016-07-01T19:15:00",
          "2016-07-01T19:30:00",
          "2016-07-01T19:45:00",
          "2016-07-01T20:00:00",
          "2016-07-01T20:15:00",
          "2016-07-01T20:30:00",
          "2016-07-01T20:45:00",
          "2016-07-01T21:00:00",
          "2016-07-01T21:15:00",
          "2016-07-01T21:30:00",
          "2016-07-01T21:45:00",
          "2016-07-01T22:00:00",
          "2016-07-01T22:15:00",
          "2016-07-01T22:30:00",
          "2016-07-01T22:45:00",
          "2016-07-01T23:00:00",
          "2016-07-01T23:15:00",
          "2016-07-01T23:30:00"
         ],
         "y": [
          38.6619987487793,
          38.22299957275391,
          37.34400177001953,
          37.124000549316406,
          37.124000549316406,
          36.90399932861328,
          36.90399932861328,
          36.46500015258789,
          36.46500015258789,
          36.46500015258789,
          35.80599975585937,
          34.92699813842773,
          33.60850143432617,
          32.94900131225586,
          32.5099983215332,
          32.290000915527344,
          31.850500106811523,
          31.631000518798828,
          31.410999298095703,
          30.97200012207031,
          30.53199958801269,
          30.53199958801269,
          30.75200080871582,
          30.3125,
          30.093000411987305,
          29.87299919128418,
          29.87299919128418,
          29.87299919128418,
          29.87299919128418,
          29.87299919128418,
          29.87299919128418,
          29.87299919128418,
          29.65299987792969,
          29.43350028991699,
          29.43350028991699,
          29.43350028991699,
          29.21349906921387,
          28.11549949645996,
          27.675500869750977,
          27.675500869750977,
          27.45599937438965,
          27.45599937438965,
          27.45599937438965,
          27.45599937438965,
          27.45599937438965,
          27.45599937438965,
          27.236499786376957,
          27.236499786376957,
          27.236499786376957,
          27.236499786376957,
          26.79700088500977,
          26.57699966430664,
          26.57699966430664,
          26.79700088500977,
          26.79700088500977,
          26.79700088500977,
          26.79700088500977,
          26.79700088500977,
          26.79700088500977,
          26.79700088500977,
          26.79700088500977,
          26.79700088500977,
          26.79700088500977,
          26.79700088500977,
          26.79700088500977,
          26.57749938964844,
          26.57749938964844,
          26.57749938964844,
          26.57749938964844,
          26.57749938964844,
          26.57749938964844,
          26.57749938964844,
          26.57749938964844,
          26.57749938964844,
          26.357500076293945,
          26.13750076293945,
          26.13750076293945,
          26.13750076293945,
          26.13750076293945,
          26.13750076293945,
          26.13750076293945,
          26.13750076293945,
          26.13750076293945,
          26.13750076293945,
          25.69849967956543,
          25.69849967956543,
          25.69849967956543,
          25.917999267578125,
          25.917999267578125,
          25.917999267578125,
          25.917999267578125,
          25.917999267578125,
          25.917999267578125,
          25.917999267578125,
          25.917999267578125
         ]
        }
       ],
       "layout": {
        "autosize": true,
        "template": {
         "data": {
          "bar": [
           {
            "error_x": {
             "color": "#2a3f5f"
            },
            "error_y": {
             "color": "#2a3f5f"
            },
            "marker": {
             "line": {
              "color": "#E5ECF6",
              "width": 0.5
             },
             "pattern": {
              "fillmode": "overlay",
              "size": 10,
              "solidity": 0.2
             }
            },
            "type": "bar"
           }
          ],
          "barpolar": [
           {
            "marker": {
             "line": {
              "color": "#E5ECF6",
              "width": 0.5
             },
             "pattern": {
              "fillmode": "overlay",
              "size": 10,
              "solidity": 0.2
             }
            },
            "type": "barpolar"
           }
          ],
          "carpet": [
           {
            "aaxis": {
             "endlinecolor": "#2a3f5f",
             "gridcolor": "white",
             "linecolor": "white",
             "minorgridcolor": "white",
             "startlinecolor": "#2a3f5f"
            },
            "baxis": {
             "endlinecolor": "#2a3f5f",
             "gridcolor": "white",
             "linecolor": "white",
             "minorgridcolor": "white",
             "startlinecolor": "#2a3f5f"
            },
            "type": "carpet"
           }
          ],
          "choropleth": [
           {
            "colorbar": {
             "outlinewidth": 0,
             "ticks": ""
            },
            "type": "choropleth"
           }
          ],
          "contour": [
           {
            "colorbar": {
             "outlinewidth": 0,
             "ticks": ""
            },
            "colorscale": [
             [
              0,
              "#0d0887"
             ],
             [
              0.1111111111111111,
              "#46039f"
             ],
             [
              0.2222222222222222,
              "#7201a8"
             ],
             [
              0.3333333333333333,
              "#9c179e"
             ],
             [
              0.4444444444444444,
              "#bd3786"
             ],
             [
              0.5555555555555556,
              "#d8576b"
             ],
             [
              0.6666666666666666,
              "#ed7953"
             ],
             [
              0.7777777777777778,
              "#fb9f3a"
             ],
             [
              0.8888888888888888,
              "#fdca26"
             ],
             [
              1,
              "#f0f921"
             ]
            ],
            "type": "contour"
           }
          ],
          "contourcarpet": [
           {
            "colorbar": {
             "outlinewidth": 0,
             "ticks": ""
            },
            "type": "contourcarpet"
           }
          ],
          "heatmap": [
           {
            "colorbar": {
             "outlinewidth": 0,
             "ticks": ""
            },
            "colorscale": [
             [
              0,
              "#0d0887"
             ],
             [
              0.1111111111111111,
              "#46039f"
             ],
             [
              0.2222222222222222,
              "#7201a8"
             ],
             [
              0.3333333333333333,
              "#9c179e"
             ],
             [
              0.4444444444444444,
              "#bd3786"
             ],
             [
              0.5555555555555556,
              "#d8576b"
             ],
             [
              0.6666666666666666,
              "#ed7953"
             ],
             [
              0.7777777777777778,
              "#fb9f3a"
             ],
             [
              0.8888888888888888,
              "#fdca26"
             ],
             [
              1,
              "#f0f921"
             ]
            ],
            "type": "heatmap"
           }
          ],
          "heatmapgl": [
           {
            "colorbar": {
             "outlinewidth": 0,
             "ticks": ""
            },
            "colorscale": [
             [
              0,
              "#0d0887"
             ],
             [
              0.1111111111111111,
              "#46039f"
             ],
             [
              0.2222222222222222,
              "#7201a8"
             ],
             [
              0.3333333333333333,
              "#9c179e"
             ],
             [
              0.4444444444444444,
              "#bd3786"
             ],
             [
              0.5555555555555556,
              "#d8576b"
             ],
             [
              0.6666666666666666,
              "#ed7953"
             ],
             [
              0.7777777777777778,
              "#fb9f3a"
             ],
             [
              0.8888888888888888,
              "#fdca26"
             ],
             [
              1,
              "#f0f921"
             ]
            ],
            "type": "heatmapgl"
           }
          ],
          "histogram": [
           {
            "marker": {
             "pattern": {
              "fillmode": "overlay",
              "size": 10,
              "solidity": 0.2
             }
            },
            "type": "histogram"
           }
          ],
          "histogram2d": [
           {
            "colorbar": {
             "outlinewidth": 0,
             "ticks": ""
            },
            "colorscale": [
             [
              0,
              "#0d0887"
             ],
             [
              0.1111111111111111,
              "#46039f"
             ],
             [
              0.2222222222222222,
              "#7201a8"
             ],
             [
              0.3333333333333333,
              "#9c179e"
             ],
             [
              0.4444444444444444,
              "#bd3786"
             ],
             [
              0.5555555555555556,
              "#d8576b"
             ],
             [
              0.6666666666666666,
              "#ed7953"
             ],
             [
              0.7777777777777778,
              "#fb9f3a"
             ],
             [
              0.8888888888888888,
              "#fdca26"
             ],
             [
              1,
              "#f0f921"
             ]
            ],
            "type": "histogram2d"
           }
          ],
          "histogram2dcontour": [
           {
            "colorbar": {
             "outlinewidth": 0,
             "ticks": ""
            },
            "colorscale": [
             [
              0,
              "#0d0887"
             ],
             [
              0.1111111111111111,
              "#46039f"
             ],
             [
              0.2222222222222222,
              "#7201a8"
             ],
             [
              0.3333333333333333,
              "#9c179e"
             ],
             [
              0.4444444444444444,
              "#bd3786"
             ],
             [
              0.5555555555555556,
              "#d8576b"
             ],
             [
              0.6666666666666666,
              "#ed7953"
             ],
             [
              0.7777777777777778,
              "#fb9f3a"
             ],
             [
              0.8888888888888888,
              "#fdca26"
             ],
             [
              1,
              "#f0f921"
             ]
            ],
            "type": "histogram2dcontour"
           }
          ],
          "mesh3d": [
           {
            "colorbar": {
             "outlinewidth": 0,
             "ticks": ""
            },
            "type": "mesh3d"
           }
          ],
          "parcoords": [
           {
            "line": {
             "colorbar": {
              "outlinewidth": 0,
              "ticks": ""
             }
            },
            "type": "parcoords"
           }
          ],
          "pie": [
           {
            "automargin": true,
            "type": "pie"
           }
          ],
          "scatter": [
           {
            "fillpattern": {
             "fillmode": "overlay",
             "size": 10,
             "solidity": 0.2
            },
            "type": "scatter"
           }
          ],
          "scatter3d": [
           {
            "line": {
             "colorbar": {
              "outlinewidth": 0,
              "ticks": ""
             }
            },
            "marker": {
             "colorbar": {
              "outlinewidth": 0,
              "ticks": ""
             }
            },
            "type": "scatter3d"
           }
          ],
          "scattercarpet": [
           {
            "marker": {
             "colorbar": {
              "outlinewidth": 0,
              "ticks": ""
             }
            },
            "type": "scattercarpet"
           }
          ],
          "scattergeo": [
           {
            "marker": {
             "colorbar": {
              "outlinewidth": 0,
              "ticks": ""
             }
            },
            "type": "scattergeo"
           }
          ],
          "scattergl": [
           {
            "marker": {
             "colorbar": {
              "outlinewidth": 0,
              "ticks": ""
             }
            },
            "type": "scattergl"
           }
          ],
          "scattermapbox": [
           {
            "marker": {
             "colorbar": {
              "outlinewidth": 0,
              "ticks": ""
             }
            },
            "type": "scattermapbox"
           }
          ],
          "scatterpolar": [
           {
            "marker": {
             "colorbar": {
              "outlinewidth": 0,
              "ticks": ""
             }
            },
            "type": "scatterpolar"
           }
          ],
          "scatterpolargl": [
           {
            "marker": {
             "colorbar": {
              "outlinewidth": 0,
              "ticks": ""
             }
            },
            "type": "scatterpolargl"
           }
          ],
          "scatterternary": [
           {
            "marker": {
             "colorbar": {
              "outlinewidth": 0,
              "ticks": ""
             }
            },
            "type": "scatterternary"
           }
          ],
          "surface": [
           {
            "colorbar": {
             "outlinewidth": 0,
             "ticks": ""
            },
            "colorscale": [
             [
              0,
              "#0d0887"
             ],
             [
              0.1111111111111111,
              "#46039f"
             ],
             [
              0.2222222222222222,
              "#7201a8"
             ],
             [
              0.3333333333333333,
              "#9c179e"
             ],
             [
              0.4444444444444444,
              "#bd3786"
             ],
             [
              0.5555555555555556,
              "#d8576b"
             ],
             [
              0.6666666666666666,
              "#ed7953"
             ],
             [
              0.7777777777777778,
              "#fb9f3a"
             ],
             [
              0.8888888888888888,
              "#fdca26"
             ],
             [
              1,
              "#f0f921"
             ]
            ],
            "type": "surface"
           }
          ],
          "table": [
           {
            "cells": {
             "fill": {
              "color": "#EBF0F8"
             },
             "line": {
              "color": "white"
             }
            },
            "header": {
             "fill": {
              "color": "#C8D4E3"
             },
             "line": {
              "color": "white"
             }
            },
            "type": "table"
           }
          ]
         },
         "layout": {
          "annotationdefaults": {
           "arrowcolor": "#2a3f5f",
           "arrowhead": 0,
           "arrowwidth": 1
          },
          "autotypenumbers": "strict",
          "coloraxis": {
           "colorbar": {
            "outlinewidth": 0,
            "ticks": ""
           }
          },
          "colorscale": {
           "diverging": [
            [
             0,
             "#8e0152"
            ],
            [
             0.1,
             "#c51b7d"
            ],
            [
             0.2,
             "#de77ae"
            ],
            [
             0.3,
             "#f1b6da"
            ],
            [
             0.4,
             "#fde0ef"
            ],
            [
             0.5,
             "#f7f7f7"
            ],
            [
             0.6,
             "#e6f5d0"
            ],
            [
             0.7,
             "#b8e186"
            ],
            [
             0.8,
             "#7fbc41"
            ],
            [
             0.9,
             "#4d9221"
            ],
            [
             1,
             "#276419"
            ]
           ],
           "sequential": [
            [
             0,
             "#0d0887"
            ],
            [
             0.1111111111111111,
             "#46039f"
            ],
            [
             0.2222222222222222,
             "#7201a8"
            ],
            [
             0.3333333333333333,
             "#9c179e"
            ],
            [
             0.4444444444444444,
             "#bd3786"
            ],
            [
             0.5555555555555556,
             "#d8576b"
            ],
            [
             0.6666666666666666,
             "#ed7953"
            ],
            [
             0.7777777777777778,
             "#fb9f3a"
            ],
            [
             0.8888888888888888,
             "#fdca26"
            ],
            [
             1,
             "#f0f921"
            ]
           ],
           "sequentialminus": [
            [
             0,
             "#0d0887"
            ],
            [
             0.1111111111111111,
             "#46039f"
            ],
            [
             0.2222222222222222,
             "#7201a8"
            ],
            [
             0.3333333333333333,
             "#9c179e"
            ],
            [
             0.4444444444444444,
             "#bd3786"
            ],
            [
             0.5555555555555556,
             "#d8576b"
            ],
            [
             0.6666666666666666,
             "#ed7953"
            ],
            [
             0.7777777777777778,
             "#fb9f3a"
            ],
            [
             0.8888888888888888,
             "#fdca26"
            ],
            [
             1,
             "#f0f921"
            ]
           ]
          },
          "colorway": [
           "#636efa",
           "#EF553B",
           "#00cc96",
           "#ab63fa",
           "#FFA15A",
           "#19d3f3",
           "#FF6692",
           "#B6E880",
           "#FF97FF",
           "#FECB52"
          ],
          "font": {
           "color": "#2a3f5f"
          },
          "geo": {
           "bgcolor": "white",
           "lakecolor": "white",
           "landcolor": "#E5ECF6",
           "showlakes": true,
           "showland": true,
           "subunitcolor": "white"
          },
          "hoverlabel": {
           "align": "left"
          },
          "hovermode": "closest",
          "mapbox": {
           "style": "light"
          },
          "paper_bgcolor": "white",
          "plot_bgcolor": "#E5ECF6",
          "polar": {
           "angularaxis": {
            "gridcolor": "white",
            "linecolor": "white",
            "ticks": ""
           },
           "bgcolor": "#E5ECF6",
           "radialaxis": {
            "gridcolor": "white",
            "linecolor": "white",
            "ticks": ""
           }
          },
          "scene": {
           "xaxis": {
            "backgroundcolor": "#E5ECF6",
            "gridcolor": "white",
            "gridwidth": 2,
            "linecolor": "white",
            "showbackground": true,
            "ticks": "",
            "zerolinecolor": "white"
           },
           "yaxis": {
            "backgroundcolor": "#E5ECF6",
            "gridcolor": "white",
            "gridwidth": 2,
            "linecolor": "white",
            "showbackground": true,
            "ticks": "",
            "zerolinecolor": "white"
           },
           "zaxis": {
            "backgroundcolor": "#E5ECF6",
            "gridcolor": "white",
            "gridwidth": 2,
            "linecolor": "white",
            "showbackground": true,
            "ticks": "",
            "zerolinecolor": "white"
           }
          },
          "shapedefaults": {
           "line": {
            "color": "#2a3f5f"
           }
          },
          "ternary": {
           "aaxis": {
            "gridcolor": "white",
            "linecolor": "white",
            "ticks": ""
           },
           "baxis": {
            "gridcolor": "white",
            "linecolor": "white",
            "ticks": ""
           },
           "bgcolor": "#E5ECF6",
           "caxis": {
            "gridcolor": "white",
            "linecolor": "white",
            "ticks": ""
           }
          },
          "title": {
           "x": 0.05
          },
          "xaxis": {
           "automargin": true,
           "gridcolor": "white",
           "linecolor": "white",
           "ticks": "",
           "title": {
            "standoff": 15
           },
           "zerolinecolor": "white",
           "zerolinewidth": 2
          },
          "yaxis": {
           "automargin": true,
           "gridcolor": "white",
           "linecolor": "white",
           "ticks": "",
           "title": {
            "standoff": 15
           },
           "zerolinecolor": "white",
           "zerolinewidth": 2
          }
         }
        },
        "xaxis": {
         "autorange": true,
         "range": [
          "2016-07-01",
          "2016-07-02 23:45"
         ],
         "type": "date"
        },
        "yaxis": {
         "autorange": true,
         "range": [
          24.746083789401574,
          39.39441532558865
         ],
         "type": "linear"
        }
       }
      },
      "image/png": "[encoded data removed]",
      "text/html": [
       "<div>                            <div id=\"cb80dc76-0d67-4bd3-b088-4b2c4ae0d9dc\" class=\"plotly-graph-div\" style=\"height:525px; width:100%;\"></div>            <script type=\"text/javascript\">                require([\"plotly\"], function(Plotly) {                    window.PLOTLYENV=window.PLOTLYENV || {};                                    if (document.getElementById(\"cb80dc76-0d67-4bd3-b088-4b2c4ae0d9dc\")) {                    Plotly.newPlot(                        \"cb80dc76-0d67-4bd3-b088-4b2c4ae0d9dc\",                        [{\"mode\":\"lines\",\"name\":\"Correct Data\",\"x\":[\"2016-07-01T00:00:00\",\"2016-07-01T00:15:00\",\"2016-07-01T00:30:00\",\"2016-07-01T00:45:00\",\"2016-07-01T01:00:00\",\"2016-07-01T01:15:00\",\"2016-07-01T01:30:00\",\"2016-07-01T01:45:00\",\"2016-07-01T02:00:00\",\"2016-07-01T02:15:00\",\"2016-07-01T02:30:00\",\"2016-07-01T02:45:00\",\"2016-07-01T03:00:00\",\"2016-07-01T03:15:00\",\"2016-07-01T03:30:00\",\"2016-07-01T03:45:00\",\"2016-07-01T04:00:00\",\"2016-07-01T04:15:00\",\"2016-07-01T04:30:00\",\"2016-07-01T04:45:00\",\"2016-07-01T05:00:00\",\"2016-07-01T05:15:00\",\"2016-07-01T05:30:00\",\"2016-07-01T05:45:00\",\"2016-07-01T06:00:00\",\"2016-07-01T06:15:00\",\"2016-07-01T06:30:00\",\"2016-07-01T06:45:00\",\"2016-07-01T07:00:00\",\"2016-07-01T07:15:00\",\"2016-07-01T07:30:00\",\"2016-07-01T07:45:00\",\"2016-07-01T08:00:00\",\"2016-07-01T08:15:00\",\"2016-07-01T08:30:00\",\"2016-07-01T08:45:00\",\"2016-07-01T09:00:00\",\"2016-07-01T09:15:00\",\"2016-07-01T09:30:00\",\"2016-07-01T09:45:00\",\"2016-07-01T10:00:00\",\"2016-07-01T10:15:00\",\"2016-07-01T10:30:00\",\"2016-07-01T10:45:00\",\"2016-07-01T11:00:00\",\"2016-07-01T11:15:00\",\"2016-07-01T11:30:00\",\"2016-07-01T11:45:00\",\"2016-07-01T12:00:00\",\"2016-07-01T12:15:00\",\"2016-07-01T12:30:00\",\"2016-07-01T12:45:00\",\"2016-07-01T13:00:00\",\"2016-07-01T13:15:00\",\"2016-07-01T13:30:00\",\"2016-07-01T13:45:00\",\"2016-07-01T14:00:00\",\"2016-07-01T14:15:00\",\"2016-07-01T14:30:00\",\"2016-07-01T14:45:00\",\"2016-07-01T15:00:00\",\"2016-07-01T15:15:00\",\"2016-07-01T15:30:00\",\"2016-07-01T15:45:00\",\"2016-07-01T16:00:00\",\"2016-07-01T16:15:00\",\"2016-07-01T16:30:00\",\"2016-07-01T16:45:00\",\"2016-07-01T17:00:00\",\"2016-07-01T17:15:00\",\"2016-07-01T17:30:00\",\"2016-07-01T17:45:00\",\"2016-07-01T18:00:00\",\"2016-07-01T18:15:00\",\"2016-07-01T18:30:00\",\"2016-07-01T18:45:00\",\"2016-07-01T19:00:00\",\"2016-07-01T19:15:00\",\"2016-07-01T19:30:00\",\"2016-07-01T19:45:00\",\"2016-07-01T20:00:00\",\"2016-07-01T20:15:00\",\"2016-07-01T20:30:00\",\"2016-07-01T20:45:00\",\"2016-07-01T21:00:00\",\"2016-07-01T21:15:00\",\"2016-07-01T21:30:00\",\"2016-07-01T21:45:00\",\"2016-07-01T22:00:00\",\"2016-07-01T22:15:00\",\"2016-07-01T22:30:00\",\"2016-07-01T22:45:00\",\"2016-07-01T23:00:00\",\"2016-07-01T23:15:00\",\"2016-07-01T23:30:00\",\"2016-07-01T23:45:00\",\"2016-07-02T00:00:00\",\"2016-07-02T00:15:00\",\"2016-07-02T00:30:00\",\"2016-07-02T00:45:00\",\"2016-07-02T01:00:00\",\"2016-07-02T01:15:00\",\"2016-07-02T01:30:00\",\"2016-07-02T01:45:00\",\"2016-07-02T02:00:00\",\"2016-07-02T02:15:00\",\"2016-07-02T02:30:00\",\"2016-07-02T02:45:00\",\"2016-07-02T03:00:00\",\"2016-07-02T03:15:00\",\"2016-07-02T03:30:00\",\"2016-07-02T03:45:00\",\"2016-07-02T04:00:00\",\"2016-07-02T04:15:00\",\"2016-07-02T04:30:00\",\"2016-07-02T04:45:00\",\"2016-07-02T05:00:00\",\"2016-07-02T05:15:00\",\"2016-07-02T05:30:00\",\"2016-07-02T05:45:00\",\"2016-07-02T06:00:00\",\"2016-07-02T06:15:00\",\"2016-07-02T06:30:00\",\"2016-07-02T06:45:00\",\"2016-07-02T07:00:00\",\"2016-07-02T07:15:00\",\"2016-07-02T07:30:00\",\"2016-07-02T07:45:00\",\"2016-07-02T08:00:00\",\"2016-07-02T08:15:00\",\"2016-07-02T08:30:00\",\"2016-07-02T08:45:00\",\"2016-07-02T09:00:00\",\"2016-07-02T09:15:00\",\"2016-07-02T09:30:00\",\"2016-07-02T09:45:00\",\"2016-07-02T10:00:00\",\"2016-07-02T10:15:00\",\"2016-07-02T10:30:00\",\"2016-07-02T10:45:00\",\"2016-07-02T11:00:00\",\"2016-07-02T11:15:00\",\"2016-07-02T11:30:00\",\"2016-07-02T11:45:00\",\"2016-07-02T12:00:00\",\"2016-07-02T12:15:00\",\"2016-07-02T12:30:00\",\"2016-07-02T12:45:00\",\"2016-07-02T13:00:00\",\"2016-07-02T13:15:00\",\"2016-07-02T13:30:00\",\"2016-07-02T13:45:00\",\"2016-07-02T14:00:00\",\"2016-07-02T14:15:00\",\"2016-07-02T14:30:00\",\"2016-07-02T14:45:00\",\"2016-07-02T15:00:00\",\"2016-07-02T15:15:00\",\"2016-07-02T15:30:00\",\"2016-07-02T15:45:00\",\"2016-07-02T16:00:00\",\"2016-07-02T16:15:00\",\"2016-07-02T16:30:00\",\"2016-07-02T16:45:00\",\"2016-07-02T17:00:00\",\"2016-07-02T17:15:00\",\"2016-07-02T17:30:00\",\"2016-07-02T17:45:00\",\"2016-07-02T18:00:00\",\"2016-07-02T18:15:00\",\"2016-07-02T18:30:00\",\"2016-07-02T18:45:00\",\"2016-07-02T19:00:00\",\"2016-07-02T19:15:00\",\"2016-07-02T19:30:00\",\"2016-07-02T19:45:00\",\"2016-07-02T20:00:00\",\"2016-07-02T20:15:00\",\"2016-07-02T20:30:00\",\"2016-07-02T20:45:00\",\"2016-07-02T21:00:00\",\"2016-07-02T21:15:00\",\"2016-07-02T21:30:00\",\"2016-07-02T21:45:00\",\"2016-07-02T22:00:00\",\"2016-07-02T22:15:00\",\"2016-07-02T22:30:00\",\"2016-07-02T22:45:00\",\"2016-07-02T23:00:00\",\"2016-07-02T23:15:00\",\"2016-07-02T23:30:00\",\"2016-07-02T23:45:00\"],\"y\":[38.6619987487793,38.22299957275391,37.34400177001953,37.124000549316406,37.124000549316406,36.90399932861328,36.90399932861328,36.46500015258789,36.46500015258789,36.46500015258789,35.80599975585937,34.92699813842773,33.60850143432617,32.94900131225586,32.5099983215332,32.290000915527344,31.850500106811523,31.631000518798828,31.410999298095703,30.97200012207031,30.53199958801269,30.53199958801269,30.75200080871582,30.3125,30.093000411987305,29.87299919128418,29.87299919128418,29.87299919128418,29.87299919128418,29.87299919128418,29.87299919128418,29.87299919128418,29.65299987792969,29.43350028991699,29.43350028991699,29.43350028991699,29.21349906921387,28.11549949645996,27.675500869750977,27.675500869750977,27.45599937438965,27.45599937438965,27.45599937438965,27.45599937438965,27.45599937438965,27.45599937438965,27.236499786376957,27.236499786376957,27.236499786376957,27.236499786376957,26.79700088500977,26.57699966430664,26.57699966430664,26.79700088500977,26.79700088500977,26.79700088500977,26.79700088500977,26.79700088500977,26.79700088500977,26.79700088500977,26.79700088500977,26.79700088500977,26.79700088500977,26.79700088500977,26.79700088500977,26.57749938964844,26.57749938964844,26.57749938964844,26.57749938964844,26.57749938964844,26.57749938964844,26.57749938964844,26.57749938964844,26.57749938964844,26.357500076293945,26.13750076293945,26.13750076293945,26.13750076293945,26.13750076293945,26.13750076293945,26.13750076293945,26.13750076293945,26.13750076293945,26.13750076293945,25.69849967956543,25.69849967956543,25.69849967956543,25.917999267578125,25.917999267578125,25.917999267578125,25.917999267578125,25.917999267578125,25.917999267578125,25.917999267578125,25.917999267578125,25.917999267578125,25.917999267578125,25.917999267578125,25.917999267578125,26.13800048828125,26.357500076293945,26.357500076293945,26.357500076293945,26.13750076293945,26.13750076293945,25.917999267578125,25.69849967956543,25.69849967956543,25.69849967956543,25.69849967956543,25.69849967956543,25.69849967956543,25.69849967956543,25.917999267578125,25.917999267578125,25.917999267578125,25.917999267578125,25.917999267578125,25.917999267578125,25.917999267578125,25.917999267578125,25.917999267578125,25.917999267578125,25.917999267578125,25.917999267578125,25.478500366210927,25.478500366210927,25.478500366210927,25.478500366210927,25.478500366210927,25.478500366210927,25.697999954223643,25.697999954223643,25.697999954223643,25.697999954223643,25.917999267578125,25.917999267578125,25.917999267578125,25.917999267578125,25.917999267578125,25.917999267578125,25.917999267578125,26.13800048828125,26.357500076293945,26.13750076293945,26.13750076293945,26.357500076293945,26.357500076293945,26.357500076293945,26.357500076293945,26.357500076293945,26.357500076293945,26.57749938964844,26.79700088500977,26.79700088500977,27.236499786376957,27.45599937438965,27.45599937438965,27.45599937438965,27.67600059509277,27.67600059509277,27.67600059509277,27.89550018310547,28.11549949645996,28.11549949645996,28.334999084472656,28.334999084472656,28.554500579833984,28.554500579833984,28.77449989318848,28.77449989318848,28.77449989318848,28.77449989318848,28.99399948120117,29.21349906921387,29.43350028991699,29.653499603271484,29.653499603271484,29.653499603271484,29.43350028991699,29.21349906921387,28.77449989318848,28.334999084472656,28.334999084472656,27.89550018310547,27.89550018310547,27.675500869750977,27.45599937438965,27.236499786376957,27.236499786376957,27.236499786376957,27.236499786376957],\"type\":\"scatter\"},{\"line\":{\"color\":\"orange\",\"dash\":\"dot\",\"width\":4},\"mode\":\"lines\",\"name\":\"Used for Prediction\",\"x\":[\"2016-07-01T00:00:00\",\"2016-07-01T00:15:00\",\"2016-07-01T00:30:00\",\"2016-07-01T00:45:00\",\"2016-07-01T01:00:00\",\"2016-07-01T01:15:00\",\"2016-07-01T01:30:00\",\"2016-07-01T01:45:00\",\"2016-07-01T02:00:00\",\"2016-07-01T02:15:00\",\"2016-07-01T02:30:00\",\"2016-07-01T02:45:00\",\"2016-07-01T03:00:00\",\"2016-07-01T03:15:00\",\"2016-07-01T03:30:00\",\"2016-07-01T03:45:00\",\"2016-07-01T04:00:00\",\"2016-07-01T04:15:00\",\"2016-07-01T04:30:00\",\"2016-07-01T04:45:00\",\"2016-07-01T05:00:00\",\"2016-07-01T05:15:00\",\"2016-07-01T05:30:00\",\"2016-07-01T05:45:00\",\"2016-07-01T06:00:00\",\"2016-07-01T06:15:00\",\"2016-07-01T06:30:00\",\"2016-07-01T06:45:00\",\"2016-07-01T07:00:00\",\"2016-07-01T07:15:00\",\"2016-07-01T07:30:00\",\"2016-07-01T07:45:00\",\"2016-07-01T08:00:00\",\"2016-07-01T08:15:00\",\"2016-07-01T08:30:00\",\"2016-07-01T08:45:00\",\"2016-07-01T09:00:00\",\"2016-07-01T09:15:00\",\"2016-07-01T09:30:00\",\"2016-07-01T09:45:00\",\"2016-07-01T10:00:00\",\"2016-07-01T10:15:00\",\"2016-07-01T10:30:00\",\"2016-07-01T10:45:00\",\"2016-07-01T11:00:00\",\"2016-07-01T11:15:00\",\"2016-07-01T11:30:00\",\"2016-07-01T11:45:00\",\"2016-07-01T12:00:00\",\"2016-07-01T12:15:00\",\"2016-07-01T12:30:00\",\"2016-07-01T12:45:00\",\"2016-07-01T13:00:00\",\"2016-07-01T13:15:00\",\"2016-07-01T13:30:00\",\"2016-07-01T13:45:00\",\"2016-07-01T14:00:00\",\"2016-07-01T14:15:00\",\"2016-07-01T14:30:00\",\"2016-07-01T14:45:00\",\"2016-07-01T15:00:00\",\"2016-07-01T15:15:00\",\"2016-07-01T15:30:00\",\"2016-07-01T15:45:00\",\"2016-07-01T16:00:00\",\"2016-07-01T16:15:00\",\"2016-07-01T16:30:00\",\"2016-07-01T16:45:00\",\"2016-07-01T17:00:00\",\"2016-07-01T17:15:00\",\"2016-07-01T17:30:00\",\"2016-07-01T17:45:00\",\"2016-07-01T18:00:00\",\"2016-07-01T18:15:00\",\"2016-07-01T18:30:00\",\"2016-07-01T18:45:00\",\"2016-07-01T19:00:00\",\"2016-07-01T19:15:00\",\"2016-07-01T19:30:00\",\"2016-07-01T19:45:00\",\"2016-07-01T20:00:00\",\"2016-07-01T20:15:00\",\"2016-07-01T20:30:00\",\"2016-07-01T20:45:00\",\"2016-07-01T21:00:00\",\"2016-07-01T21:15:00\",\"2016-07-01T21:30:00\",\"2016-07-01T21:45:00\",\"2016-07-01T22:00:00\",\"2016-07-01T22:15:00\",\"2016-07-01T22:30:00\",\"2016-07-01T22:45:00\",\"2016-07-01T23:00:00\",\"2016-07-01T23:15:00\",\"2016-07-01T23:30:00\"],\"y\":[38.6619987487793,38.22299957275391,37.34400177001953,37.124000549316406,37.124000549316406,36.90399932861328,36.90399932861328,36.46500015258789,36.46500015258789,36.46500015258789,35.80599975585937,34.92699813842773,33.60850143432617,32.94900131225586,32.5099983215332,32.290000915527344,31.850500106811523,31.631000518798828,31.410999298095703,30.97200012207031,30.53199958801269,30.53199958801269,30.75200080871582,30.3125,30.093000411987305,29.87299919128418,29.87299919128418,29.87299919128418,29.87299919128418,29.87299919128418,29.87299919128418,29.87299919128418,29.65299987792969,29.43350028991699,29.43350028991699,29.43350028991699,29.21349906921387,28.11549949645996,27.675500869750977,27.675500869750977,27.45599937438965,27.45599937438965,27.45599937438965,27.45599937438965,27.45599937438965,27.45599937438965,27.236499786376957,27.236499786376957,27.236499786376957,27.236499786376957,26.79700088500977,26.57699966430664,26.57699966430664,26.79700088500977,26.79700088500977,26.79700088500977,26.79700088500977,26.79700088500977,26.79700088500977,26.79700088500977,26.79700088500977,26.79700088500977,26.79700088500977,26.79700088500977,26.79700088500977,26.57749938964844,26.57749938964844,26.57749938964844,26.57749938964844,26.57749938964844,26.57749938964844,26.57749938964844,26.57749938964844,26.57749938964844,26.357500076293945,26.13750076293945,26.13750076293945,26.13750076293945,26.13750076293945,26.13750076293945,26.13750076293945,26.13750076293945,26.13750076293945,26.13750076293945,25.69849967956543,25.69849967956543,25.69849967956543,25.917999267578125,25.917999267578125,25.917999267578125,25.917999267578125,25.917999267578125,25.917999267578125,25.917999267578125,25.917999267578125],\"type\":\"scatter\"}],                        {\"template\":{\"data\":{\"histogram2dcontour\":[{\"type\":\"histogram2dcontour\",\"colorbar\":{\"outlinewidth\":0,\"ticks\":\"\"},\"colorscale\":[[0.0,\"#0d0887\"],[0.1111111111111111,\"#46039f\"],[0.2222222222222222,\"#7201a8\"],[0.3333333333333333,\"#9c179e\"],[0.4444444444444444,\"#bd3786\"],[0.5555555555555556,\"#d8576b\"],[0.6666666666666666,\"#ed7953\"],[0.7777777777777778,\"#fb9f3a\"],[0.8888888888888888,\"#fdca26\"],[1.0,\"#f0f921\"]]}],\"choropleth\":[{\"type\":\"choropleth\",\"colorbar\":{\"outlinewidth\":0,\"ticks\":\"\"}}],\"histogram2d\":[{\"type\":\"histogram2d\",\"colorbar\":{\"outlinewidth\":0,\"ticks\":\"\"},\"colorscale\":[[0.0,\"#0d0887\"],[0.1111111111111111,\"#46039f\"],[0.2222222222222222,\"#7201a8\"],[0.3333333333333333,\"#9c179e\"],[0.4444444444444444,\"#bd3786\"],[0.5555555555555556,\"#d8576b\"],[0.6666666666666666,\"#ed7953\"],[0.7777777777777778,\"#fb9f3a\"],[0.8888888888888888,\"#fdca26\"],[1.0,\"#f0f921\"]]}],\"heatmap\":[{\"type\":\"heatmap\",\"colorbar\":{\"outlinewidth\":0,\"ticks\":\"\"},\"colorscale\":[[0.0,\"#0d0887\"],[0.1111111111111111,\"#46039f\"],[0.2222222222222222,\"#7201a8\"],[0.3333333333333333,\"#9c179e\"],[0.4444444444444444,\"#bd3786\"],[0.5555555555555556,\"#d8576b\"],[0.6666666666666666,\"#ed7953\"],[0.7777777777777778,\"#fb9f3a\"],[0.8888888888888888,\"#fdca26\"],[1.0,\"#f0f921\"]]}],\"heatmapgl\":[{\"type\":\"heatmapgl\",\"colorbar\":{\"outlinewidth\":0,\"ticks\":\"\"},\"colorscale\":[[0.0,\"#0d0887\"],[0.1111111111111111,\"#46039f\"],[0.2222222222222222,\"#7201a8\"],[0.3333333333333333,\"#9c179e\"],[0.4444444444444444,\"#bd3786\"],[0.5555555555555556,\"#d8576b\"],[0.6666666666666666,\"#ed7953\"],[0.7777777777777778,\"#fb9f3a\"],[0.8888888888888888,\"#fdca26\"],[1.0,\"#f0f921\"]]}],\"contourcarpet\":[{\"type\":\"contourcarpet\",\"colorbar\":{\"outlinewidth\":0,\"ticks\":\"\"}}],\"contour\":[{\"type\":\"contour\",\"colorbar\":{\"outlinewidth\":0,\"ticks\":\"\"},\"colorscale\":[[0.0,\"#0d0887\"],[0.1111111111111111,\"#46039f\"],[0.2222222222222222,\"#7201a8\"],[0.3333333333333333,\"#9c179e\"],[0.4444444444444444,\"#bd3786\"],[0.5555555555555556,\"#d8576b\"],[0.6666666666666666,\"#ed7953\"],[0.7777777777777778,\"#fb9f3a\"],[0.8888888888888888,\"#fdca26\"],[1.0,\"#f0f921\"]]}],\"surface\":[{\"type\":\"surface\",\"colorbar\":{\"outlinewidth\":0,\"ticks\":\"\"},\"colorscale\":[[0.0,\"#0d0887\"],[0.1111111111111111,\"#46039f\"],[0.2222222222222222,\"#7201a8\"],[0.3333333333333333,\"#9c179e\"],[0.4444444444444444,\"#bd3786\"],[0.5555555555555556,\"#d8576b\"],[0.6666666666666666,\"#ed7953\"],[0.7777777777777778,\"#fb9f3a\"],[0.8888888888888888,\"#fdca26\"],[1.0,\"#f0f921\"]]}],\"mesh3d\":[{\"type\":\"mesh3d\",\"colorbar\":{\"outlinewidth\":0,\"ticks\":\"\"}}],\"scatter\":[{\"fillpattern\":{\"fillmode\":\"overlay\",\"size\":10,\"solidity\":0.2},\"type\":\"scatter\"}],\"parcoords\":[{\"type\":\"parcoords\",\"line\":{\"colorbar\":{\"outlinewidth\":0,\"ticks\":\"\"}}}],\"scatterpolargl\":[{\"type\":\"scatterpolargl\",\"marker\":{\"colorbar\":{\"outlinewidth\":0,\"ticks\":\"\"}}}],\"bar\":[{\"error_x\":{\"color\":\"#2a3f5f\"},\"error_y\":{\"color\":\"#2a3f5f\"},\"marker\":{\"line\":{\"color\":\"#E5ECF6\",\"width\":0.5},\"pattern\":{\"fillmode\":\"overlay\",\"size\":10,\"solidity\":0.2}},\"type\":\"bar\"}],\"scattergeo\":[{\"type\":\"scattergeo\",\"marker\":{\"colorbar\":{\"outlinewidth\":0,\"ticks\":\"\"}}}],\"scatterpolar\":[{\"type\":\"scatterpolar\",\"marker\":{\"colorbar\":{\"outlinewidth\":0,\"ticks\":\"\"}}}],\"histogram\":[{\"marker\":{\"pattern\":{\"fillmode\":\"overlay\",\"size\":10,\"solidity\":0.2}},\"type\":\"histogram\"}],\"scattergl\":[{\"type\":\"scattergl\",\"marker\":{\"colorbar\":{\"outlinewidth\":0,\"ticks\":\"\"}}}],\"scatter3d\":[{\"type\":\"scatter3d\",\"line\":{\"colorbar\":{\"outlinewidth\":0,\"ticks\":\"\"}},\"marker\":{\"colorbar\":{\"outlinewidth\":0,\"ticks\":\"\"}}}],\"scattermapbox\":[{\"type\":\"scattermapbox\",\"marker\":{\"colorbar\":{\"outlinewidth\":0,\"ticks\":\"\"}}}],\"scatterternary\":[{\"type\":\"scatterternary\",\"marker\":{\"colorbar\":{\"outlinewidth\":0,\"ticks\":\"\"}}}],\"scattercarpet\":[{\"type\":\"scattercarpet\",\"marker\":{\"colorbar\":{\"outlinewidth\":0,\"ticks\":\"\"}}}],\"carpet\":[{\"aaxis\":{\"endlinecolor\":\"#2a3f5f\",\"gridcolor\":\"white\",\"linecolor\":\"white\",\"minorgridcolor\":\"white\",\"startlinecolor\":\"#2a3f5f\"},\"baxis\":{\"endlinecolor\":\"#2a3f5f\",\"gridcolor\":\"white\",\"linecolor\":\"white\",\"minorgridcolor\":\"white\",\"startlinecolor\":\"#2a3f5f\"},\"type\":\"carpet\"}],\"table\":[{\"cells\":{\"fill\":{\"color\":\"#EBF0F8\"},\"line\":{\"color\":\"white\"}},\"header\":{\"fill\":{\"color\":\"#C8D4E3\"},\"line\":{\"color\":\"white\"}},\"type\":\"table\"}],\"barpolar\":[{\"marker\":{\"line\":{\"color\":\"#E5ECF6\",\"width\":0.5},\"pattern\":{\"fillmode\":\"overlay\",\"size\":10,\"solidity\":0.2}},\"type\":\"barpolar\"}],\"pie\":[{\"automargin\":true,\"type\":\"pie\"}]},\"layout\":{\"autotypenumbers\":\"strict\",\"colorway\":[\"#636efa\",\"#EF553B\",\"#00cc96\",\"#ab63fa\",\"#FFA15A\",\"#19d3f3\",\"#FF6692\",\"#B6E880\",\"#FF97FF\",\"#FECB52\"],\"font\":{\"color\":\"#2a3f5f\"},\"hovermode\":\"closest\",\"hoverlabel\":{\"align\":\"left\"},\"paper_bgcolor\":\"white\",\"plot_bgcolor\":\"#E5ECF6\",\"polar\":{\"bgcolor\":\"#E5ECF6\",\"angularaxis\":{\"gridcolor\":\"white\",\"linecolor\":\"white\",\"ticks\":\"\"},\"radialaxis\":{\"gridcolor\":\"white\",\"linecolor\":\"white\",\"ticks\":\"\"}},\"ternary\":{\"bgcolor\":\"#E5ECF6\",\"aaxis\":{\"gridcolor\":\"white\",\"linecolor\":\"white\",\"ticks\":\"\"},\"baxis\":{\"gridcolor\":\"white\",\"linecolor\":\"white\",\"ticks\":\"\"},\"caxis\":{\"gridcolor\":\"white\",\"linecolor\":\"white\",\"ticks\":\"\"}},\"coloraxis\":{\"colorbar\":{\"outlinewidth\":0,\"ticks\":\"\"}},\"colorscale\":{\"sequential\":[[0.0,\"#0d0887\"],[0.1111111111111111,\"#46039f\"],[0.2222222222222222,\"#7201a8\"],[0.3333333333333333,\"#9c179e\"],[0.4444444444444444,\"#bd3786\"],[0.5555555555555556,\"#d8576b\"],[0.6666666666666666,\"#ed7953\"],[0.7777777777777778,\"#fb9f3a\"],[0.8888888888888888,\"#fdca26\"],[1.0,\"#f0f921\"]],\"sequentialminus\":[[0.0,\"#0d0887\"],[0.1111111111111111,\"#46039f\"],[0.2222222222222222,\"#7201a8\"],[0.3333333333333333,\"#9c179e\"],[0.4444444444444444,\"#bd3786\"],[0.5555555555555556,\"#d8576b\"],[0.6666666666666666,\"#ed7953\"],[0.7777777777777778,\"#fb9f3a\"],[0.8888888888888888,\"#fdca26\"],[1.0,\"#f0f921\"]],\"diverging\":[[0,\"#8e0152\"],[0.1,\"#c51b7d\"],[0.2,\"#de77ae\"],[0.3,\"#f1b6da\"],[0.4,\"#fde0ef\"],[0.5,\"#f7f7f7\"],[0.6,\"#e6f5d0\"],[0.7,\"#b8e186\"],[0.8,\"#7fbc41\"],[0.9,\"#4d9221\"],[1,\"#276419\"]]},\"xaxis\":{\"gridcolor\":\"white\",\"linecolor\":\"white\",\"ticks\":\"\",\"title\":{\"standoff\":15},\"zerolinecolor\":\"white\",\"automargin\":true,\"zerolinewidth\":2},\"yaxis\":{\"gridcolor\":\"white\",\"linecolor\":\"white\",\"ticks\":\"\",\"title\":{\"standoff\":15},\"zerolinecolor\":\"white\",\"automargin\":true,\"zerolinewidth\":2},\"scene\":{\"xaxis\":{\"backgroundcolor\":\"#E5ECF6\",\"gridcolor\":\"white\",\"linecolor\":\"white\",\"showbackground\":true,\"ticks\":\"\",\"zerolinecolor\":\"white\",\"gridwidth\":2},\"yaxis\":{\"backgroundcolor\":\"#E5ECF6\",\"gridcolor\":\"white\",\"linecolor\":\"white\",\"showbackground\":true,\"ticks\":\"\",\"zerolinecolor\":\"white\",\"gridwidth\":2},\"zaxis\":{\"backgroundcolor\":\"#E5ECF6\",\"gridcolor\":\"white\",\"linecolor\":\"white\",\"showbackground\":true,\"ticks\":\"\",\"zerolinecolor\":\"white\",\"gridwidth\":2}},\"shapedefaults\":{\"line\":{\"color\":\"#2a3f5f\"}},\"annotationdefaults\":{\"arrowcolor\":\"#2a3f5f\",\"arrowhead\":0,\"arrowwidth\":1},\"geo\":{\"bgcolor\":\"white\",\"landcolor\":\"#E5ECF6\",\"subunitcolor\":\"white\",\"showland\":true,\"showlakes\":true,\"lakecolor\":\"white\"},\"title\":{\"x\":0.05},\"mapbox\":{\"style\":\"light\"}}}},                        {\"responsive\": true}                    ).then(function(){\n",
       "                            \n",
       "var gd = document.getElementById('cb80dc76-0d67-4bd3-b088-4b2c4ae0d9dc');\n",
       "var x = new MutationObserver(function (mutations, observer) {{\n",
       "        var display = window.getComputedStyle(gd).display;\n",
       "        if (!display || display === 'none') {{\n",
       "            console.log([gd, 'removed!']);\n",
       "            Plotly.purge(gd);\n",
       "            observer.disconnect();\n",
       "        }}\n",
       "}});\n",
       "\n",
       "// Listen for the removal of the full notebook cells\n",
       "var notebookContainer = gd.closest('#notebook-container');\n",
       "if (notebookContainer) {{\n",
       "    x.observe(notebookContainer, {childList: true});\n",
       "}}\n",
       "\n",
       "// Listen for the clearing of the current output cell\n",
       "var outputEl = gd.closest('.output');\n",
       "if (outputEl) {{\n",
       "    x.observe(outputEl, {childList: true});\n",
       "}}\n",
       "\n",
       "                        })                };                });            </script>        </div>"
      ]
     },
     "metadata": {},
     "output_type": "display_data"
    }
   ],
   "source": [
    "fig.add_trace(go.Scatter(x=df_correct['date'][:95], y=df_correct['correct'][:95],\n",
    "                         mode='lines', name='Used for Prediction', line=dict(color='orange', width=4, dash='dot')))\n"
   ]
  },
  {
   "cell_type": "code",
   "execution_count": 218,
   "id": "fe4dd33c-59df-4c23-9e9d-0e82039eba5d",
   "metadata": {},
   "outputs": [
    {
     "data": {
      "application/vnd.plotly.v1+json": {
       "config": {
        "plotlyServerURL": "https://plot.ly"
       },
       "data": [
        {
         "mode": "lines",
         "name": "Correct Data",
         "type": "scatter",
         "x": [
          "2016-07-01T00:00:00",
          "2016-07-01T00:15:00",
          "2016-07-01T00:30:00",
          "2016-07-01T00:45:00",
          "2016-07-01T01:00:00",
          "2016-07-01T01:15:00",
          "2016-07-01T01:30:00",
          "2016-07-01T01:45:00",
          "2016-07-01T02:00:00",
          "2016-07-01T02:15:00",
          "2016-07-01T02:30:00",
          "2016-07-01T02:45:00",
          "2016-07-01T03:00:00",
          "2016-07-01T03:15:00",
          "2016-07-01T03:30:00",
          "2016-07-01T03:45:00",
          "2016-07-01T04:00:00",
          "2016-07-01T04:15:00",
          "2016-07-01T04:30:00",
          "2016-07-01T04:45:00",
          "2016-07-01T05:00:00",
          "2016-07-01T05:15:00",
          "2016-07-01T05:30:00",
          "2016-07-01T05:45:00",
          "2016-07-01T06:00:00",
          "2016-07-01T06:15:00",
          "2016-07-01T06:30:00",
          "2016-07-01T06:45:00",
          "2016-07-01T07:00:00",
          "2016-07-01T07:15:00",
          "2016-07-01T07:30:00",
          "2016-07-01T07:45:00",
          "2016-07-01T08:00:00",
          "2016-07-01T08:15:00",
          "2016-07-01T08:30:00",
          "2016-07-01T08:45:00",
          "2016-07-01T09:00:00",
          "2016-07-01T09:15:00",
          "2016-07-01T09:30:00",
          "2016-07-01T09:45:00",
          "2016-07-01T10:00:00",
          "2016-07-01T10:15:00",
          "2016-07-01T10:30:00",
          "2016-07-01T10:45:00",
          "2016-07-01T11:00:00",
          "2016-07-01T11:15:00",
          "2016-07-01T11:30:00",
          "2016-07-01T11:45:00",
          "2016-07-01T12:00:00",
          "2016-07-01T12:15:00",
          "2016-07-01T12:30:00",
          "2016-07-01T12:45:00",
          "2016-07-01T13:00:00",
          "2016-07-01T13:15:00",
          "2016-07-01T13:30:00",
          "2016-07-01T13:45:00",
          "2016-07-01T14:00:00",
          "2016-07-01T14:15:00",
          "2016-07-01T14:30:00",
          "2016-07-01T14:45:00",
          "2016-07-01T15:00:00",
          "2016-07-01T15:15:00",
          "2016-07-01T15:30:00",
          "2016-07-01T15:45:00",
          "2016-07-01T16:00:00",
          "2016-07-01T16:15:00",
          "2016-07-01T16:30:00",
          "2016-07-01T16:45:00",
          "2016-07-01T17:00:00",
          "2016-07-01T17:15:00",
          "2016-07-01T17:30:00",
          "2016-07-01T17:45:00",
          "2016-07-01T18:00:00",
          "2016-07-01T18:15:00",
          "2016-07-01T18:30:00",
          "2016-07-01T18:45:00",
          "2016-07-01T19:00:00",
          "2016-07-01T19:15:00",
          "2016-07-01T19:30:00",
          "2016-07-01T19:45:00",
          "2016-07-01T20:00:00",
          "2016-07-01T20:15:00",
          "2016-07-01T20:30:00",
          "2016-07-01T20:45:00",
          "2016-07-01T21:00:00",
          "2016-07-01T21:15:00",
          "2016-07-01T21:30:00",
          "2016-07-01T21:45:00",
          "2016-07-01T22:00:00",
          "2016-07-01T22:15:00",
          "2016-07-01T22:30:00",
          "2016-07-01T22:45:00",
          "2016-07-01T23:00:00",
          "2016-07-01T23:15:00",
          "2016-07-01T23:30:00",
          "2016-07-01T23:45:00",
          "2016-07-02T00:00:00",
          "2016-07-02T00:15:00",
          "2016-07-02T00:30:00",
          "2016-07-02T00:45:00",
          "2016-07-02T01:00:00",
          "2016-07-02T01:15:00",
          "2016-07-02T01:30:00",
          "2016-07-02T01:45:00",
          "2016-07-02T02:00:00",
          "2016-07-02T02:15:00",
          "2016-07-02T02:30:00",
          "2016-07-02T02:45:00",
          "2016-07-02T03:00:00",
          "2016-07-02T03:15:00",
          "2016-07-02T03:30:00",
          "2016-07-02T03:45:00",
          "2016-07-02T04:00:00",
          "2016-07-02T04:15:00",
          "2016-07-02T04:30:00",
          "2016-07-02T04:45:00",
          "2016-07-02T05:00:00",
          "2016-07-02T05:15:00",
          "2016-07-02T05:30:00",
          "2016-07-02T05:45:00",
          "2016-07-02T06:00:00",
          "2016-07-02T06:15:00",
          "2016-07-02T06:30:00",
          "2016-07-02T06:45:00",
          "2016-07-02T07:00:00",
          "2016-07-02T07:15:00",
          "2016-07-02T07:30:00",
          "2016-07-02T07:45:00",
          "2016-07-02T08:00:00",
          "2016-07-02T08:15:00",
          "2016-07-02T08:30:00",
          "2016-07-02T08:45:00",
          "2016-07-02T09:00:00",
          "2016-07-02T09:15:00",
          "2016-07-02T09:30:00",
          "2016-07-02T09:45:00",
          "2016-07-02T10:00:00",
          "2016-07-02T10:15:00",
          "2016-07-02T10:30:00",
          "2016-07-02T10:45:00",
          "2016-07-02T11:00:00",
          "2016-07-02T11:15:00",
          "2016-07-02T11:30:00",
          "2016-07-02T11:45:00",
          "2016-07-02T12:00:00",
          "2016-07-02T12:15:00",
          "2016-07-02T12:30:00",
          "2016-07-02T12:45:00",
          "2016-07-02T13:00:00",
          "2016-07-02T13:15:00",
          "2016-07-02T13:30:00",
          "2016-07-02T13:45:00",
          "2016-07-02T14:00:00",
          "2016-07-02T14:15:00",
          "2016-07-02T14:30:00",
          "2016-07-02T14:45:00",
          "2016-07-02T15:00:00",
          "2016-07-02T15:15:00",
          "2016-07-02T15:30:00",
          "2016-07-02T15:45:00",
          "2016-07-02T16:00:00",
          "2016-07-02T16:15:00",
          "2016-07-02T16:30:00",
          "2016-07-02T16:45:00",
          "2016-07-02T17:00:00",
          "2016-07-02T17:15:00",
          "2016-07-02T17:30:00",
          "2016-07-02T17:45:00",
          "2016-07-02T18:00:00",
          "2016-07-02T18:15:00",
          "2016-07-02T18:30:00",
          "2016-07-02T18:45:00",
          "2016-07-02T19:00:00",
          "2016-07-02T19:15:00",
          "2016-07-02T19:30:00",
          "2016-07-02T19:45:00",
          "2016-07-02T20:00:00",
          "2016-07-02T20:15:00",
          "2016-07-02T20:30:00",
          "2016-07-02T20:45:00",
          "2016-07-02T21:00:00",
          "2016-07-02T21:15:00",
          "2016-07-02T21:30:00",
          "2016-07-02T21:45:00",
          "2016-07-02T22:00:00",
          "2016-07-02T22:15:00",
          "2016-07-02T22:30:00",
          "2016-07-02T22:45:00",
          "2016-07-02T23:00:00",
          "2016-07-02T23:15:00",
          "2016-07-02T23:30:00",
          "2016-07-02T23:45:00"
         ],
         "y": [
          38.6619987487793,
          38.22299957275391,
          37.34400177001953,
          37.124000549316406,
          37.124000549316406,
          36.90399932861328,
          36.90399932861328,
          36.46500015258789,
          36.46500015258789,
          36.46500015258789,
          35.80599975585937,
          34.92699813842773,
          33.60850143432617,
          32.94900131225586,
          32.5099983215332,
          32.290000915527344,
          31.850500106811523,
          31.631000518798828,
          31.410999298095703,
          30.97200012207031,
          30.53199958801269,
          30.53199958801269,
          30.75200080871582,
          30.3125,
          30.093000411987305,
          29.87299919128418,
          29.87299919128418,
          29.87299919128418,
          29.87299919128418,
          29.87299919128418,
          29.87299919128418,
          29.87299919128418,
          29.65299987792969,
          29.43350028991699,
          29.43350028991699,
          29.43350028991699,
          29.21349906921387,
          28.11549949645996,
          27.675500869750977,
          27.675500869750977,
          27.45599937438965,
          27.45599937438965,
          27.45599937438965,
          27.45599937438965,
          27.45599937438965,
          27.45599937438965,
          27.236499786376957,
          27.236499786376957,
          27.236499786376957,
          27.236499786376957,
          26.79700088500977,
          26.57699966430664,
          26.57699966430664,
          26.79700088500977,
          26.79700088500977,
          26.79700088500977,
          26.79700088500977,
          26.79700088500977,
          26.79700088500977,
          26.79700088500977,
          26.79700088500977,
          26.79700088500977,
          26.79700088500977,
          26.79700088500977,
          26.79700088500977,
          26.57749938964844,
          26.57749938964844,
          26.57749938964844,
          26.57749938964844,
          26.57749938964844,
          26.57749938964844,
          26.57749938964844,
          26.57749938964844,
          26.57749938964844,
          26.357500076293945,
          26.13750076293945,
          26.13750076293945,
          26.13750076293945,
          26.13750076293945,
          26.13750076293945,
          26.13750076293945,
          26.13750076293945,
          26.13750076293945,
          26.13750076293945,
          25.69849967956543,
          25.69849967956543,
          25.69849967956543,
          25.917999267578125,
          25.917999267578125,
          25.917999267578125,
          25.917999267578125,
          25.917999267578125,
          25.917999267578125,
          25.917999267578125,
          25.917999267578125,
          25.917999267578125,
          25.917999267578125,
          25.917999267578125,
          25.917999267578125,
          26.13800048828125,
          26.357500076293945,
          26.357500076293945,
          26.357500076293945,
          26.13750076293945,
          26.13750076293945,
          25.917999267578125,
          25.69849967956543,
          25.69849967956543,
          25.69849967956543,
          25.69849967956543,
          25.69849967956543,
          25.69849967956543,
          25.69849967956543,
          25.917999267578125,
          25.917999267578125,
          25.917999267578125,
          25.917999267578125,
          25.917999267578125,
          25.917999267578125,
          25.917999267578125,
          25.917999267578125,
          25.917999267578125,
          25.917999267578125,
          25.917999267578125,
          25.917999267578125,
          25.478500366210927,
          25.478500366210927,
          25.478500366210927,
          25.478500366210927,
          25.478500366210927,
          25.478500366210927,
          25.697999954223643,
          25.697999954223643,
          25.697999954223643,
          25.697999954223643,
          25.917999267578125,
          25.917999267578125,
          25.917999267578125,
          25.917999267578125,
          25.917999267578125,
          25.917999267578125,
          25.917999267578125,
          26.13800048828125,
          26.357500076293945,
          26.13750076293945,
          26.13750076293945,
          26.357500076293945,
          26.357500076293945,
          26.357500076293945,
          26.357500076293945,
          26.357500076293945,
          26.357500076293945,
          26.57749938964844,
          26.79700088500977,
          26.79700088500977,
          27.236499786376957,
          27.45599937438965,
          27.45599937438965,
          27.45599937438965,
          27.67600059509277,
          27.67600059509277,
          27.67600059509277,
          27.89550018310547,
          28.11549949645996,
          28.11549949645996,
          28.334999084472656,
          28.334999084472656,
          28.554500579833984,
          28.554500579833984,
          28.77449989318848,
          28.77449989318848,
          28.77449989318848,
          28.77449989318848,
          28.99399948120117,
          29.21349906921387,
          29.43350028991699,
          29.653499603271484,
          29.653499603271484,
          29.653499603271484,
          29.43350028991699,
          29.21349906921387,
          28.77449989318848,
          28.334999084472656,
          28.334999084472656,
          27.89550018310547,
          27.89550018310547,
          27.675500869750977,
          27.45599937438965,
          27.236499786376957,
          27.236499786376957,
          27.236499786376957,
          27.236499786376957
         ]
        },
        {
         "line": {
          "color": "orange",
          "dash": "dot",
          "width": 4
         },
         "mode": "lines",
         "name": "Used for Prediction",
         "type": "scatter",
         "x": [
          "2016-07-01T00:00:00",
          "2016-07-01T00:15:00",
          "2016-07-01T00:30:00",
          "2016-07-01T00:45:00",
          "2016-07-01T01:00:00",
          "2016-07-01T01:15:00",
          "2016-07-01T01:30:00",
          "2016-07-01T01:45:00",
          "2016-07-01T02:00:00",
          "2016-07-01T02:15:00",
          "2016-07-01T02:30:00",
          "2016-07-01T02:45:00",
          "2016-07-01T03:00:00",
          "2016-07-01T03:15:00",
          "2016-07-01T03:30:00",
          "2016-07-01T03:45:00",
          "2016-07-01T04:00:00",
          "2016-07-01T04:15:00",
          "2016-07-01T04:30:00",
          "2016-07-01T04:45:00",
          "2016-07-01T05:00:00",
          "2016-07-01T05:15:00",
          "2016-07-01T05:30:00",
          "2016-07-01T05:45:00",
          "2016-07-01T06:00:00",
          "2016-07-01T06:15:00",
          "2016-07-01T06:30:00",
          "2016-07-01T06:45:00",
          "2016-07-01T07:00:00",
          "2016-07-01T07:15:00",
          "2016-07-01T07:30:00",
          "2016-07-01T07:45:00",
          "2016-07-01T08:00:00",
          "2016-07-01T08:15:00",
          "2016-07-01T08:30:00",
          "2016-07-01T08:45:00",
          "2016-07-01T09:00:00",
          "2016-07-01T09:15:00",
          "2016-07-01T09:30:00",
          "2016-07-01T09:45:00",
          "2016-07-01T10:00:00",
          "2016-07-01T10:15:00",
          "2016-07-01T10:30:00",
          "2016-07-01T10:45:00",
          "2016-07-01T11:00:00",
          "2016-07-01T11:15:00",
          "2016-07-01T11:30:00",
          "2016-07-01T11:45:00",
          "2016-07-01T12:00:00",
          "2016-07-01T12:15:00",
          "2016-07-01T12:30:00",
          "2016-07-01T12:45:00",
          "2016-07-01T13:00:00",
          "2016-07-01T13:15:00",
          "2016-07-01T13:30:00",
          "2016-07-01T13:45:00",
          "2016-07-01T14:00:00",
          "2016-07-01T14:15:00",
          "2016-07-01T14:30:00",
          "2016-07-01T14:45:00",
          "2016-07-01T15:00:00",
          "2016-07-01T15:15:00",
          "2016-07-01T15:30:00",
          "2016-07-01T15:45:00",
          "2016-07-01T16:00:00",
          "2016-07-01T16:15:00",
          "2016-07-01T16:30:00",
          "2016-07-01T16:45:00",
          "2016-07-01T17:00:00",
          "2016-07-01T17:15:00",
          "2016-07-01T17:30:00",
          "2016-07-01T17:45:00",
          "2016-07-01T18:00:00",
          "2016-07-01T18:15:00",
          "2016-07-01T18:30:00",
          "2016-07-01T18:45:00",
          "2016-07-01T19:00:00",
          "2016-07-01T19:15:00",
          "2016-07-01T19:30:00",
          "2016-07-01T19:45:00",
          "2016-07-01T20:00:00",
          "2016-07-01T20:15:00",
          "2016-07-01T20:30:00",
          "2016-07-01T20:45:00",
          "2016-07-01T21:00:00",
          "2016-07-01T21:15:00",
          "2016-07-01T21:30:00",
          "2016-07-01T21:45:00",
          "2016-07-01T22:00:00",
          "2016-07-01T22:15:00",
          "2016-07-01T22:30:00",
          "2016-07-01T22:45:00",
          "2016-07-01T23:00:00",
          "2016-07-01T23:15:00",
          "2016-07-01T23:30:00"
         ],
         "y": [
          38.6619987487793,
          38.22299957275391,
          37.34400177001953,
          37.124000549316406,
          37.124000549316406,
          36.90399932861328,
          36.90399932861328,
          36.46500015258789,
          36.46500015258789,
          36.46500015258789,
          35.80599975585937,
          34.92699813842773,
          33.60850143432617,
          32.94900131225586,
          32.5099983215332,
          32.290000915527344,
          31.850500106811523,
          31.631000518798828,
          31.410999298095703,
          30.97200012207031,
          30.53199958801269,
          30.53199958801269,
          30.75200080871582,
          30.3125,
          30.093000411987305,
          29.87299919128418,
          29.87299919128418,
          29.87299919128418,
          29.87299919128418,
          29.87299919128418,
          29.87299919128418,
          29.87299919128418,
          29.65299987792969,
          29.43350028991699,
          29.43350028991699,
          29.43350028991699,
          29.21349906921387,
          28.11549949645996,
          27.675500869750977,
          27.675500869750977,
          27.45599937438965,
          27.45599937438965,
          27.45599937438965,
          27.45599937438965,
          27.45599937438965,
          27.45599937438965,
          27.236499786376957,
          27.236499786376957,
          27.236499786376957,
          27.236499786376957,
          26.79700088500977,
          26.57699966430664,
          26.57699966430664,
          26.79700088500977,
          26.79700088500977,
          26.79700088500977,
          26.79700088500977,
          26.79700088500977,
          26.79700088500977,
          26.79700088500977,
          26.79700088500977,
          26.79700088500977,
          26.79700088500977,
          26.79700088500977,
          26.79700088500977,
          26.57749938964844,
          26.57749938964844,
          26.57749938964844,
          26.57749938964844,
          26.57749938964844,
          26.57749938964844,
          26.57749938964844,
          26.57749938964844,
          26.57749938964844,
          26.357500076293945,
          26.13750076293945,
          26.13750076293945,
          26.13750076293945,
          26.13750076293945,
          26.13750076293945,
          26.13750076293945,
          26.13750076293945,
          26.13750076293945,
          26.13750076293945,
          25.69849967956543,
          25.69849967956543,
          25.69849967956543,
          25.917999267578125,
          25.917999267578125,
          25.917999267578125,
          25.917999267578125,
          25.917999267578125,
          25.917999267578125,
          25.917999267578125,
          25.917999267578125
         ]
        },
        {
         "line": {
          "color": "red"
         },
         "mode": "lines",
         "name": "Predicted Data",
         "type": "scatter",
         "x": [
          "2016-07-02T00:00:00",
          "2016-07-02T00:15:00",
          "2016-07-02T00:30:00",
          "2016-07-02T00:45:00",
          "2016-07-02T01:00:00",
          "2016-07-02T01:15:00",
          "2016-07-02T01:30:00",
          "2016-07-02T01:45:00",
          "2016-07-02T02:00:00",
          "2016-07-02T02:15:00",
          "2016-07-02T02:30:00",
          "2016-07-02T02:45:00",
          "2016-07-02T03:00:00",
          "2016-07-02T03:15:00",
          "2016-07-02T03:30:00",
          "2016-07-02T03:45:00",
          "2016-07-02T04:00:00",
          "2016-07-02T04:15:00",
          "2016-07-02T04:30:00",
          "2016-07-02T04:45:00",
          "2016-07-02T05:00:00",
          "2016-07-02T05:15:00",
          "2016-07-02T05:30:00",
          "2016-07-02T05:45:00",
          "2016-07-02T06:00:00",
          "2016-07-02T06:15:00",
          "2016-07-02T06:30:00",
          "2016-07-02T06:45:00",
          "2016-07-02T07:00:00",
          "2016-07-02T07:15:00",
          "2016-07-02T07:30:00",
          "2016-07-02T07:45:00",
          "2016-07-02T08:00:00",
          "2016-07-02T08:15:00",
          "2016-07-02T08:30:00",
          "2016-07-02T08:45:00",
          "2016-07-02T09:00:00",
          "2016-07-02T09:15:00",
          "2016-07-02T09:30:00",
          "2016-07-02T09:45:00",
          "2016-07-02T10:00:00",
          "2016-07-02T10:15:00",
          "2016-07-02T10:30:00",
          "2016-07-02T10:45:00",
          "2016-07-02T11:00:00",
          "2016-07-02T11:15:00",
          "2016-07-02T11:30:00",
          "2016-07-02T11:45:00",
          "2016-07-02T12:00:00",
          "2016-07-02T12:15:00",
          "2016-07-02T12:30:00",
          "2016-07-02T12:45:00",
          "2016-07-02T13:00:00",
          "2016-07-02T13:15:00",
          "2016-07-02T13:30:00",
          "2016-07-02T13:45:00",
          "2016-07-02T14:00:00",
          "2016-07-02T14:15:00",
          "2016-07-02T14:30:00",
          "2016-07-02T14:45:00",
          "2016-07-02T15:00:00",
          "2016-07-02T15:15:00",
          "2016-07-02T15:30:00",
          "2016-07-02T15:45:00",
          "2016-07-02T16:00:00",
          "2016-07-02T16:15:00",
          "2016-07-02T16:30:00",
          "2016-07-02T16:45:00",
          "2016-07-02T17:00:00",
          "2016-07-02T17:15:00",
          "2016-07-02T17:30:00",
          "2016-07-02T17:45:00",
          "2016-07-02T18:00:00",
          "2016-07-02T18:15:00",
          "2016-07-02T18:30:00",
          "2016-07-02T18:45:00",
          "2016-07-02T19:00:00",
          "2016-07-02T19:15:00",
          "2016-07-02T19:30:00",
          "2016-07-02T19:45:00",
          "2016-07-02T20:00:00",
          "2016-07-02T20:15:00",
          "2016-07-02T20:30:00",
          "2016-07-02T20:45:00",
          "2016-07-02T21:00:00",
          "2016-07-02T21:15:00",
          "2016-07-02T21:30:00",
          "2016-07-02T21:45:00",
          "2016-07-02T22:00:00",
          "2016-07-02T22:15:00",
          "2016-07-02T22:30:00",
          "2016-07-02T22:45:00",
          "2016-07-02T23:00:00",
          "2016-07-02T23:15:00",
          "2016-07-02T23:30:00",
          "2016-07-02T23:45:00"
         ],
         "y": [
          117.58578491210938,
          117.75199890136719,
          118.94739532470703,
          118.79786682128906,
          117.71627807617188,
          116.19010162353516,
          115.58253479003906,
          117.53365325927734,
          116.79459381103516,
          114.09852600097656,
          118.71216583251953,
          119.38877868652344,
          119.21048736572266,
          116.94279479980469,
          117.85267639160156,
          116.47310638427734,
          116.62870788574219,
          116.43843841552734,
          117.30706787109375,
          115.09244537353516,
          117.33988952636719,
          116.09221649169922,
          115.32077026367188,
          116.95429229736328,
          117.08241271972656,
          114.35780334472656,
          114.22789001464844,
          113.63550567626953,
          111.42255401611328,
          106.2852554321289,
          106.65061950683594,
          106.37596893310547,
          101.4599609375,
          99.82384490966797,
          92.9247817993164,
          92.66231536865234,
          90.76791381835938,
          85.68689727783203,
          82.71488189697266,
          82.15239715576172,
          82.98616790771484,
          78.71051025390625,
          77.05156707763672,
          73.65621948242188,
          72.72808074951172,
          65.52440643310547,
          65.22373962402344,
          64.13196563720703,
          59.76210021972656,
          56.70507049560547,
          52.81578063964844,
          56.0810432434082,
          53.20289611816406,
          53.93680953979492,
          52.355342864990234,
          51.984806060791016,
          47.38014221191406,
          46.7598876953125,
          44.725013732910156,
          48.323707580566406,
          46.90936279296875,
          47.18324279785156,
          47.2746467590332,
          47.711795806884766,
          47.91118240356445,
          50.16130065917969,
          49.9686164855957,
          50.18272399902344,
          48.92887496948242,
          51.4658317565918,
          51.9640998840332,
          52.476600646972656,
          51.59761428833008,
          56.966007232666016,
          58.29490280151367,
          62.165401458740234,
          66.48120880126953,
          65.64118957519531,
          71.31626892089844,
          77.65238189697266,
          78.60868835449219,
          83.59138488769531,
          89.24889373779297,
          94.95368957519531,
          96.21592712402344,
          95.84613037109375,
          102.03986358642578,
          105.54475402832031,
          106.78996276855469,
          108.52079772949219,
          112.18050384521484,
          112.42779541015625,
          114.42533874511719,
          117.49243927001953,
          120.66024017333984,
          111.65145874023438
         ]
        }
       ],
       "layout": {
        "autosize": true,
        "template": {
         "data": {
          "bar": [
           {
            "error_x": {
             "color": "#2a3f5f"
            },
            "error_y": {
             "color": "#2a3f5f"
            },
            "marker": {
             "line": {
              "color": "#E5ECF6",
              "width": 0.5
             },
             "pattern": {
              "fillmode": "overlay",
              "size": 10,
              "solidity": 0.2
             }
            },
            "type": "bar"
           }
          ],
          "barpolar": [
           {
            "marker": {
             "line": {
              "color": "#E5ECF6",
              "width": 0.5
             },
             "pattern": {
              "fillmode": "overlay",
              "size": 10,
              "solidity": 0.2
             }
            },
            "type": "barpolar"
           }
          ],
          "carpet": [
           {
            "aaxis": {
             "endlinecolor": "#2a3f5f",
             "gridcolor": "white",
             "linecolor": "white",
             "minorgridcolor": "white",
             "startlinecolor": "#2a3f5f"
            },
            "baxis": {
             "endlinecolor": "#2a3f5f",
             "gridcolor": "white",
             "linecolor": "white",
             "minorgridcolor": "white",
             "startlinecolor": "#2a3f5f"
            },
            "type": "carpet"
           }
          ],
          "choropleth": [
           {
            "colorbar": {
             "outlinewidth": 0,
             "ticks": ""
            },
            "type": "choropleth"
           }
          ],
          "contour": [
           {
            "colorbar": {
             "outlinewidth": 0,
             "ticks": ""
            },
            "colorscale": [
             [
              0,
              "#0d0887"
             ],
             [
              0.1111111111111111,
              "#46039f"
             ],
             [
              0.2222222222222222,
              "#7201a8"
             ],
             [
              0.3333333333333333,
              "#9c179e"
             ],
             [
              0.4444444444444444,
              "#bd3786"
             ],
             [
              0.5555555555555556,
              "#d8576b"
             ],
             [
              0.6666666666666666,
              "#ed7953"
             ],
             [
              0.7777777777777778,
              "#fb9f3a"
             ],
             [
              0.8888888888888888,
              "#fdca26"
             ],
             [
              1,
              "#f0f921"
             ]
            ],
            "type": "contour"
           }
          ],
          "contourcarpet": [
           {
            "colorbar": {
             "outlinewidth": 0,
             "ticks": ""
            },
            "type": "contourcarpet"
           }
          ],
          "heatmap": [
           {
            "colorbar": {
             "outlinewidth": 0,
             "ticks": ""
            },
            "colorscale": [
             [
              0,
              "#0d0887"
             ],
             [
              0.1111111111111111,
              "#46039f"
             ],
             [
              0.2222222222222222,
              "#7201a8"
             ],
             [
              0.3333333333333333,
              "#9c179e"
             ],
             [
              0.4444444444444444,
              "#bd3786"
             ],
             [
              0.5555555555555556,
              "#d8576b"
             ],
             [
              0.6666666666666666,
              "#ed7953"
             ],
             [
              0.7777777777777778,
              "#fb9f3a"
             ],
             [
              0.8888888888888888,
              "#fdca26"
             ],
             [
              1,
              "#f0f921"
             ]
            ],
            "type": "heatmap"
           }
          ],
          "heatmapgl": [
           {
            "colorbar": {
             "outlinewidth": 0,
             "ticks": ""
            },
            "colorscale": [
             [
              0,
              "#0d0887"
             ],
             [
              0.1111111111111111,
              "#46039f"
             ],
             [
              0.2222222222222222,
              "#7201a8"
             ],
             [
              0.3333333333333333,
              "#9c179e"
             ],
             [
              0.4444444444444444,
              "#bd3786"
             ],
             [
              0.5555555555555556,
              "#d8576b"
             ],
             [
              0.6666666666666666,
              "#ed7953"
             ],
             [
              0.7777777777777778,
              "#fb9f3a"
             ],
             [
              0.8888888888888888,
              "#fdca26"
             ],
             [
              1,
              "#f0f921"
             ]
            ],
            "type": "heatmapgl"
           }
          ],
          "histogram": [
           {
            "marker": {
             "pattern": {
              "fillmode": "overlay",
              "size": 10,
              "solidity": 0.2
             }
            },
            "type": "histogram"
           }
          ],
          "histogram2d": [
           {
            "colorbar": {
             "outlinewidth": 0,
             "ticks": ""
            },
            "colorscale": [
             [
              0,
              "#0d0887"
             ],
             [
              0.1111111111111111,
              "#46039f"
             ],
             [
              0.2222222222222222,
              "#7201a8"
             ],
             [
              0.3333333333333333,
              "#9c179e"
             ],
             [
              0.4444444444444444,
              "#bd3786"
             ],
             [
              0.5555555555555556,
              "#d8576b"
             ],
             [
              0.6666666666666666,
              "#ed7953"
             ],
             [
              0.7777777777777778,
              "#fb9f3a"
             ],
             [
              0.8888888888888888,
              "#fdca26"
             ],
             [
              1,
              "#f0f921"
             ]
            ],
            "type": "histogram2d"
           }
          ],
          "histogram2dcontour": [
           {
            "colorbar": {
             "outlinewidth": 0,
             "ticks": ""
            },
            "colorscale": [
             [
              0,
              "#0d0887"
             ],
             [
              0.1111111111111111,
              "#46039f"
             ],
             [
              0.2222222222222222,
              "#7201a8"
             ],
             [
              0.3333333333333333,
              "#9c179e"
             ],
             [
              0.4444444444444444,
              "#bd3786"
             ],
             [
              0.5555555555555556,
              "#d8576b"
             ],
             [
              0.6666666666666666,
              "#ed7953"
             ],
             [
              0.7777777777777778,
              "#fb9f3a"
             ],
             [
              0.8888888888888888,
              "#fdca26"
             ],
             [
              1,
              "#f0f921"
             ]
            ],
            "type": "histogram2dcontour"
           }
          ],
          "mesh3d": [
           {
            "colorbar": {
             "outlinewidth": 0,
             "ticks": ""
            },
            "type": "mesh3d"
           }
          ],
          "parcoords": [
           {
            "line": {
             "colorbar": {
              "outlinewidth": 0,
              "ticks": ""
             }
            },
            "type": "parcoords"
           }
          ],
          "pie": [
           {
            "automargin": true,
            "type": "pie"
           }
          ],
          "scatter": [
           {
            "fillpattern": {
             "fillmode": "overlay",
             "size": 10,
             "solidity": 0.2
            },
            "type": "scatter"
           }
          ],
          "scatter3d": [
           {
            "line": {
             "colorbar": {
              "outlinewidth": 0,
              "ticks": ""
             }
            },
            "marker": {
             "colorbar": {
              "outlinewidth": 0,
              "ticks": ""
             }
            },
            "type": "scatter3d"
           }
          ],
          "scattercarpet": [
           {
            "marker": {
             "colorbar": {
              "outlinewidth": 0,
              "ticks": ""
             }
            },
            "type": "scattercarpet"
           }
          ],
          "scattergeo": [
           {
            "marker": {
             "colorbar": {
              "outlinewidth": 0,
              "ticks": ""
             }
            },
            "type": "scattergeo"
           }
          ],
          "scattergl": [
           {
            "marker": {
             "colorbar": {
              "outlinewidth": 0,
              "ticks": ""
             }
            },
            "type": "scattergl"
           }
          ],
          "scattermapbox": [
           {
            "marker": {
             "colorbar": {
              "outlinewidth": 0,
              "ticks": ""
             }
            },
            "type": "scattermapbox"
           }
          ],
          "scatterpolar": [
           {
            "marker": {
             "colorbar": {
              "outlinewidth": 0,
              "ticks": ""
             }
            },
            "type": "scatterpolar"
           }
          ],
          "scatterpolargl": [
           {
            "marker": {
             "colorbar": {
              "outlinewidth": 0,
              "ticks": ""
             }
            },
            "type": "scatterpolargl"
           }
          ],
          "scatterternary": [
           {
            "marker": {
             "colorbar": {
              "outlinewidth": 0,
              "ticks": ""
             }
            },
            "type": "scatterternary"
           }
          ],
          "surface": [
           {
            "colorbar": {
             "outlinewidth": 0,
             "ticks": ""
            },
            "colorscale": [
             [
              0,
              "#0d0887"
             ],
             [
              0.1111111111111111,
              "#46039f"
             ],
             [
              0.2222222222222222,
              "#7201a8"
             ],
             [
              0.3333333333333333,
              "#9c179e"
             ],
             [
              0.4444444444444444,
              "#bd3786"
             ],
             [
              0.5555555555555556,
              "#d8576b"
             ],
             [
              0.6666666666666666,
              "#ed7953"
             ],
             [
              0.7777777777777778,
              "#fb9f3a"
             ],
             [
              0.8888888888888888,
              "#fdca26"
             ],
             [
              1,
              "#f0f921"
             ]
            ],
            "type": "surface"
           }
          ],
          "table": [
           {
            "cells": {
             "fill": {
              "color": "#EBF0F8"
             },
             "line": {
              "color": "white"
             }
            },
            "header": {
             "fill": {
              "color": "#C8D4E3"
             },
             "line": {
              "color": "white"
             }
            },
            "type": "table"
           }
          ]
         },
         "layout": {
          "annotationdefaults": {
           "arrowcolor": "#2a3f5f",
           "arrowhead": 0,
           "arrowwidth": 1
          },
          "autotypenumbers": "strict",
          "coloraxis": {
           "colorbar": {
            "outlinewidth": 0,
            "ticks": ""
           }
          },
          "colorscale": {
           "diverging": [
            [
             0,
             "#8e0152"
            ],
            [
             0.1,
             "#c51b7d"
            ],
            [
             0.2,
             "#de77ae"
            ],
            [
             0.3,
             "#f1b6da"
            ],
            [
             0.4,
             "#fde0ef"
            ],
            [
             0.5,
             "#f7f7f7"
            ],
            [
             0.6,
             "#e6f5d0"
            ],
            [
             0.7,
             "#b8e186"
            ],
            [
             0.8,
             "#7fbc41"
            ],
            [
             0.9,
             "#4d9221"
            ],
            [
             1,
             "#276419"
            ]
           ],
           "sequential": [
            [
             0,
             "#0d0887"
            ],
            [
             0.1111111111111111,
             "#46039f"
            ],
            [
             0.2222222222222222,
             "#7201a8"
            ],
            [
             0.3333333333333333,
             "#9c179e"
            ],
            [
             0.4444444444444444,
             "#bd3786"
            ],
            [
             0.5555555555555556,
             "#d8576b"
            ],
            [
             0.6666666666666666,
             "#ed7953"
            ],
            [
             0.7777777777777778,
             "#fb9f3a"
            ],
            [
             0.8888888888888888,
             "#fdca26"
            ],
            [
             1,
             "#f0f921"
            ]
           ],
           "sequentialminus": [
            [
             0,
             "#0d0887"
            ],
            [
             0.1111111111111111,
             "#46039f"
            ],
            [
             0.2222222222222222,
             "#7201a8"
            ],
            [
             0.3333333333333333,
             "#9c179e"
            ],
            [
             0.4444444444444444,
             "#bd3786"
            ],
            [
             0.5555555555555556,
             "#d8576b"
            ],
            [
             0.6666666666666666,
             "#ed7953"
            ],
            [
             0.7777777777777778,
             "#fb9f3a"
            ],
            [
             0.8888888888888888,
             "#fdca26"
            ],
            [
             1,
             "#f0f921"
            ]
           ]
          },
          "colorway": [
           "#636efa",
           "#EF553B",
           "#00cc96",
           "#ab63fa",
           "#FFA15A",
           "#19d3f3",
           "#FF6692",
           "#B6E880",
           "#FF97FF",
           "#FECB52"
          ],
          "font": {
           "color": "#2a3f5f"
          },
          "geo": {
           "bgcolor": "white",
           "lakecolor": "white",
           "landcolor": "#E5ECF6",
           "showlakes": true,
           "showland": true,
           "subunitcolor": "white"
          },
          "hoverlabel": {
           "align": "left"
          },
          "hovermode": "closest",
          "mapbox": {
           "style": "light"
          },
          "paper_bgcolor": "white",
          "plot_bgcolor": "#E5ECF6",
          "polar": {
           "angularaxis": {
            "gridcolor": "white",
            "linecolor": "white",
            "ticks": ""
           },
           "bgcolor": "#E5ECF6",
           "radialaxis": {
            "gridcolor": "white",
            "linecolor": "white",
            "ticks": ""
           }
          },
          "scene": {
           "xaxis": {
            "backgroundcolor": "#E5ECF6",
            "gridcolor": "white",
            "gridwidth": 2,
            "linecolor": "white",
            "showbackground": true,
            "ticks": "",
            "zerolinecolor": "white"
           },
           "yaxis": {
            "backgroundcolor": "#E5ECF6",
            "gridcolor": "white",
            "gridwidth": 2,
            "linecolor": "white",
            "showbackground": true,
            "ticks": "",
            "zerolinecolor": "white"
           },
           "zaxis": {
            "backgroundcolor": "#E5ECF6",
            "gridcolor": "white",
            "gridwidth": 2,
            "linecolor": "white",
            "showbackground": true,
            "ticks": "",
            "zerolinecolor": "white"
           }
          },
          "shapedefaults": {
           "line": {
            "color": "#2a3f5f"
           }
          },
          "ternary": {
           "aaxis": {
            "gridcolor": "white",
            "linecolor": "white",
            "ticks": ""
           },
           "baxis": {
            "gridcolor": "white",
            "linecolor": "white",
            "ticks": ""
           },
           "bgcolor": "#E5ECF6",
           "caxis": {
            "gridcolor": "white",
            "linecolor": "white",
            "ticks": ""
           }
          },
          "title": {
           "x": 0.05
          },
          "xaxis": {
           "automargin": true,
           "gridcolor": "white",
           "linecolor": "white",
           "ticks": "",
           "title": {
            "standoff": 15
           },
           "zerolinecolor": "white",
           "zerolinewidth": 2
          },
          "yaxis": {
           "automargin": true,
           "gridcolor": "white",
           "linecolor": "white",
           "ticks": "",
           "title": {
            "standoff": 15
           },
           "zerolinecolor": "white",
           "zerolinewidth": 2
          }
         }
        },
        "xaxis": {
         "autorange": true,
         "range": [
          "2016-07-01",
          "2016-07-02 23:45"
         ],
         "type": "date"
        },
        "yaxis": {
         "autorange": true,
         "range": [
          20.19062593248154,
          125.94811460706923
         ],
         "type": "linear"
        }
       }
      },
      "image/png": "[encoded data removed]",
      "text/html": [
       "<div>                            <div id=\"4dff8818-d5e3-4528-8b60-c52234de89e2\" class=\"plotly-graph-div\" style=\"height:525px; width:100%;\"></div>            <script type=\"text/javascript\">                require([\"plotly\"], function(Plotly) {                    window.PLOTLYENV=window.PLOTLYENV || {};                                    if (document.getElementById(\"4dff8818-d5e3-4528-8b60-c52234de89e2\")) {                    Plotly.newPlot(                        \"4dff8818-d5e3-4528-8b60-c52234de89e2\",                        [{\"mode\":\"lines\",\"name\":\"Correct Data\",\"x\":[\"2016-07-01T00:00:00\",\"2016-07-01T00:15:00\",\"2016-07-01T00:30:00\",\"2016-07-01T00:45:00\",\"2016-07-01T01:00:00\",\"2016-07-01T01:15:00\",\"2016-07-01T01:30:00\",\"2016-07-01T01:45:00\",\"2016-07-01T02:00:00\",\"2016-07-01T02:15:00\",\"2016-07-01T02:30:00\",\"2016-07-01T02:45:00\",\"2016-07-01T03:00:00\",\"2016-07-01T03:15:00\",\"2016-07-01T03:30:00\",\"2016-07-01T03:45:00\",\"2016-07-01T04:00:00\",\"2016-07-01T04:15:00\",\"2016-07-01T04:30:00\",\"2016-07-01T04:45:00\",\"2016-07-01T05:00:00\",\"2016-07-01T05:15:00\",\"2016-07-01T05:30:00\",\"2016-07-01T05:45:00\",\"2016-07-01T06:00:00\",\"2016-07-01T06:15:00\",\"2016-07-01T06:30:00\",\"2016-07-01T06:45:00\",\"2016-07-01T07:00:00\",\"2016-07-01T07:15:00\",\"2016-07-01T07:30:00\",\"2016-07-01T07:45:00\",\"2016-07-01T08:00:00\",\"2016-07-01T08:15:00\",\"2016-07-01T08:30:00\",\"2016-07-01T08:45:00\",\"2016-07-01T09:00:00\",\"2016-07-01T09:15:00\",\"2016-07-01T09:30:00\",\"2016-07-01T09:45:00\",\"2016-07-01T10:00:00\",\"2016-07-01T10:15:00\",\"2016-07-01T10:30:00\",\"2016-07-01T10:45:00\",\"2016-07-01T11:00:00\",\"2016-07-01T11:15:00\",\"2016-07-01T11:30:00\",\"2016-07-01T11:45:00\",\"2016-07-01T12:00:00\",\"2016-07-01T12:15:00\",\"2016-07-01T12:30:00\",\"2016-07-01T12:45:00\",\"2016-07-01T13:00:00\",\"2016-07-01T13:15:00\",\"2016-07-01T13:30:00\",\"2016-07-01T13:45:00\",\"2016-07-01T14:00:00\",\"2016-07-01T14:15:00\",\"2016-07-01T14:30:00\",\"2016-07-01T14:45:00\",\"2016-07-01T15:00:00\",\"2016-07-01T15:15:00\",\"2016-07-01T15:30:00\",\"2016-07-01T15:45:00\",\"2016-07-01T16:00:00\",\"2016-07-01T16:15:00\",\"2016-07-01T16:30:00\",\"2016-07-01T16:45:00\",\"2016-07-01T17:00:00\",\"2016-07-01T17:15:00\",\"2016-07-01T17:30:00\",\"2016-07-01T17:45:00\",\"2016-07-01T18:00:00\",\"2016-07-01T18:15:00\",\"2016-07-01T18:30:00\",\"2016-07-01T18:45:00\",\"2016-07-01T19:00:00\",\"2016-07-01T19:15:00\",\"2016-07-01T19:30:00\",\"2016-07-01T19:45:00\",\"2016-07-01T20:00:00\",\"2016-07-01T20:15:00\",\"2016-07-01T20:30:00\",\"2016-07-01T20:45:00\",\"2016-07-01T21:00:00\",\"2016-07-01T21:15:00\",\"2016-07-01T21:30:00\",\"2016-07-01T21:45:00\",\"2016-07-01T22:00:00\",\"2016-07-01T22:15:00\",\"2016-07-01T22:30:00\",\"2016-07-01T22:45:00\",\"2016-07-01T23:00:00\",\"2016-07-01T23:15:00\",\"2016-07-01T23:30:00\",\"2016-07-01T23:45:00\",\"2016-07-02T00:00:00\",\"2016-07-02T00:15:00\",\"2016-07-02T00:30:00\",\"2016-07-02T00:45:00\",\"2016-07-02T01:00:00\",\"2016-07-02T01:15:00\",\"2016-07-02T01:30:00\",\"2016-07-02T01:45:00\",\"2016-07-02T02:00:00\",\"2016-07-02T02:15:00\",\"2016-07-02T02:30:00\",\"2016-07-02T02:45:00\",\"2016-07-02T03:00:00\",\"2016-07-02T03:15:00\",\"2016-07-02T03:30:00\",\"2016-07-02T03:45:00\",\"2016-07-02T04:00:00\",\"2016-07-02T04:15:00\",\"2016-07-02T04:30:00\",\"2016-07-02T04:45:00\",\"2016-07-02T05:00:00\",\"2016-07-02T05:15:00\",\"2016-07-02T05:30:00\",\"2016-07-02T05:45:00\",\"2016-07-02T06:00:00\",\"2016-07-02T06:15:00\",\"2016-07-02T06:30:00\",\"2016-07-02T06:45:00\",\"2016-07-02T07:00:00\",\"2016-07-02T07:15:00\",\"2016-07-02T07:30:00\",\"2016-07-02T07:45:00\",\"2016-07-02T08:00:00\",\"2016-07-02T08:15:00\",\"2016-07-02T08:30:00\",\"2016-07-02T08:45:00\",\"2016-07-02T09:00:00\",\"2016-07-02T09:15:00\",\"2016-07-02T09:30:00\",\"2016-07-02T09:45:00\",\"2016-07-02T10:00:00\",\"2016-07-02T10:15:00\",\"2016-07-02T10:30:00\",\"2016-07-02T10:45:00\",\"2016-07-02T11:00:00\",\"2016-07-02T11:15:00\",\"2016-07-02T11:30:00\",\"2016-07-02T11:45:00\",\"2016-07-02T12:00:00\",\"2016-07-02T12:15:00\",\"2016-07-02T12:30:00\",\"2016-07-02T12:45:00\",\"2016-07-02T13:00:00\",\"2016-07-02T13:15:00\",\"2016-07-02T13:30:00\",\"2016-07-02T13:45:00\",\"2016-07-02T14:00:00\",\"2016-07-02T14:15:00\",\"2016-07-02T14:30:00\",\"2016-07-02T14:45:00\",\"2016-07-02T15:00:00\",\"2016-07-02T15:15:00\",\"2016-07-02T15:30:00\",\"2016-07-02T15:45:00\",\"2016-07-02T16:00:00\",\"2016-07-02T16:15:00\",\"2016-07-02T16:30:00\",\"2016-07-02T16:45:00\",\"2016-07-02T17:00:00\",\"2016-07-02T17:15:00\",\"2016-07-02T17:30:00\",\"2016-07-02T17:45:00\",\"2016-07-02T18:00:00\",\"2016-07-02T18:15:00\",\"2016-07-02T18:30:00\",\"2016-07-02T18:45:00\",\"2016-07-02T19:00:00\",\"2016-07-02T19:15:00\",\"2016-07-02T19:30:00\",\"2016-07-02T19:45:00\",\"2016-07-02T20:00:00\",\"2016-07-02T20:15:00\",\"2016-07-02T20:30:00\",\"2016-07-02T20:45:00\",\"2016-07-02T21:00:00\",\"2016-07-02T21:15:00\",\"2016-07-02T21:30:00\",\"2016-07-02T21:45:00\",\"2016-07-02T22:00:00\",\"2016-07-02T22:15:00\",\"2016-07-02T22:30:00\",\"2016-07-02T22:45:00\",\"2016-07-02T23:00:00\",\"2016-07-02T23:15:00\",\"2016-07-02T23:30:00\",\"2016-07-02T23:45:00\"],\"y\":[38.6619987487793,38.22299957275391,37.34400177001953,37.124000549316406,37.124000549316406,36.90399932861328,36.90399932861328,36.46500015258789,36.46500015258789,36.46500015258789,35.80599975585937,34.92699813842773,33.60850143432617,32.94900131225586,32.5099983215332,32.290000915527344,31.850500106811523,31.631000518798828,31.410999298095703,30.97200012207031,30.53199958801269,30.53199958801269,30.75200080871582,30.3125,30.093000411987305,29.87299919128418,29.87299919128418,29.87299919128418,29.87299919128418,29.87299919128418,29.87299919128418,29.87299919128418,29.65299987792969,29.43350028991699,29.43350028991699,29.43350028991699,29.21349906921387,28.11549949645996,27.675500869750977,27.675500869750977,27.45599937438965,27.45599937438965,27.45599937438965,27.45599937438965,27.45599937438965,27.45599937438965,27.236499786376957,27.236499786376957,27.236499786376957,27.236499786376957,26.79700088500977,26.57699966430664,26.57699966430664,26.79700088500977,26.79700088500977,26.79700088500977,26.79700088500977,26.79700088500977,26.79700088500977,26.79700088500977,26.79700088500977,26.79700088500977,26.79700088500977,26.79700088500977,26.79700088500977,26.57749938964844,26.57749938964844,26.57749938964844,26.57749938964844,26.57749938964844,26.57749938964844,26.57749938964844,26.57749938964844,26.57749938964844,26.357500076293945,26.13750076293945,26.13750076293945,26.13750076293945,26.13750076293945,26.13750076293945,26.13750076293945,26.13750076293945,26.13750076293945,26.13750076293945,25.69849967956543,25.69849967956543,25.69849967956543,25.917999267578125,25.917999267578125,25.917999267578125,25.917999267578125,25.917999267578125,25.917999267578125,25.917999267578125,25.917999267578125,25.917999267578125,25.917999267578125,25.917999267578125,25.917999267578125,26.13800048828125,26.357500076293945,26.357500076293945,26.357500076293945,26.13750076293945,26.13750076293945,25.917999267578125,25.69849967956543,25.69849967956543,25.69849967956543,25.69849967956543,25.69849967956543,25.69849967956543,25.69849967956543,25.917999267578125,25.917999267578125,25.917999267578125,25.917999267578125,25.917999267578125,25.917999267578125,25.917999267578125,25.917999267578125,25.917999267578125,25.917999267578125,25.917999267578125,25.917999267578125,25.478500366210927,25.478500366210927,25.478500366210927,25.478500366210927,25.478500366210927,25.478500366210927,25.697999954223643,25.697999954223643,25.697999954223643,25.697999954223643,25.917999267578125,25.917999267578125,25.917999267578125,25.917999267578125,25.917999267578125,25.917999267578125,25.917999267578125,26.13800048828125,26.357500076293945,26.13750076293945,26.13750076293945,26.357500076293945,26.357500076293945,26.357500076293945,26.357500076293945,26.357500076293945,26.357500076293945,26.57749938964844,26.79700088500977,26.79700088500977,27.236499786376957,27.45599937438965,27.45599937438965,27.45599937438965,27.67600059509277,27.67600059509277,27.67600059509277,27.89550018310547,28.11549949645996,28.11549949645996,28.334999084472656,28.334999084472656,28.554500579833984,28.554500579833984,28.77449989318848,28.77449989318848,28.77449989318848,28.77449989318848,28.99399948120117,29.21349906921387,29.43350028991699,29.653499603271484,29.653499603271484,29.653499603271484,29.43350028991699,29.21349906921387,28.77449989318848,28.334999084472656,28.334999084472656,27.89550018310547,27.89550018310547,27.675500869750977,27.45599937438965,27.236499786376957,27.236499786376957,27.236499786376957,27.236499786376957],\"type\":\"scatter\"},{\"line\":{\"color\":\"orange\",\"dash\":\"dot\",\"width\":4},\"mode\":\"lines\",\"name\":\"Used for Prediction\",\"x\":[\"2016-07-01T00:00:00\",\"2016-07-01T00:15:00\",\"2016-07-01T00:30:00\",\"2016-07-01T00:45:00\",\"2016-07-01T01:00:00\",\"2016-07-01T01:15:00\",\"2016-07-01T01:30:00\",\"2016-07-01T01:45:00\",\"2016-07-01T02:00:00\",\"2016-07-01T02:15:00\",\"2016-07-01T02:30:00\",\"2016-07-01T02:45:00\",\"2016-07-01T03:00:00\",\"2016-07-01T03:15:00\",\"2016-07-01T03:30:00\",\"2016-07-01T03:45:00\",\"2016-07-01T04:00:00\",\"2016-07-01T04:15:00\",\"2016-07-01T04:30:00\",\"2016-07-01T04:45:00\",\"2016-07-01T05:00:00\",\"2016-07-01T05:15:00\",\"2016-07-01T05:30:00\",\"2016-07-01T05:45:00\",\"2016-07-01T06:00:00\",\"2016-07-01T06:15:00\",\"2016-07-01T06:30:00\",\"2016-07-01T06:45:00\",\"2016-07-01T07:00:00\",\"2016-07-01T07:15:00\",\"2016-07-01T07:30:00\",\"2016-07-01T07:45:00\",\"2016-07-01T08:00:00\",\"2016-07-01T08:15:00\",\"2016-07-01T08:30:00\",\"2016-07-01T08:45:00\",\"2016-07-01T09:00:00\",\"2016-07-01T09:15:00\",\"2016-07-01T09:30:00\",\"2016-07-01T09:45:00\",\"2016-07-01T10:00:00\",\"2016-07-01T10:15:00\",\"2016-07-01T10:30:00\",\"2016-07-01T10:45:00\",\"2016-07-01T11:00:00\",\"2016-07-01T11:15:00\",\"2016-07-01T11:30:00\",\"2016-07-01T11:45:00\",\"2016-07-01T12:00:00\",\"2016-07-01T12:15:00\",\"2016-07-01T12:30:00\",\"2016-07-01T12:45:00\",\"2016-07-01T13:00:00\",\"2016-07-01T13:15:00\",\"2016-07-01T13:30:00\",\"2016-07-01T13:45:00\",\"2016-07-01T14:00:00\",\"2016-07-01T14:15:00\",\"2016-07-01T14:30:00\",\"2016-07-01T14:45:00\",\"2016-07-01T15:00:00\",\"2016-07-01T15:15:00\",\"2016-07-01T15:30:00\",\"2016-07-01T15:45:00\",\"2016-07-01T16:00:00\",\"2016-07-01T16:15:00\",\"2016-07-01T16:30:00\",\"2016-07-01T16:45:00\",\"2016-07-01T17:00:00\",\"2016-07-01T17:15:00\",\"2016-07-01T17:30:00\",\"2016-07-01T17:45:00\",\"2016-07-01T18:00:00\",\"2016-07-01T18:15:00\",\"2016-07-01T18:30:00\",\"2016-07-01T18:45:00\",\"2016-07-01T19:00:00\",\"2016-07-01T19:15:00\",\"2016-07-01T19:30:00\",\"2016-07-01T19:45:00\",\"2016-07-01T20:00:00\",\"2016-07-01T20:15:00\",\"2016-07-01T20:30:00\",\"2016-07-01T20:45:00\",\"2016-07-01T21:00:00\",\"2016-07-01T21:15:00\",\"2016-07-01T21:30:00\",\"2016-07-01T21:45:00\",\"2016-07-01T22:00:00\",\"2016-07-01T22:15:00\",\"2016-07-01T22:30:00\",\"2016-07-01T22:45:00\",\"2016-07-01T23:00:00\",\"2016-07-01T23:15:00\",\"2016-07-01T23:30:00\"],\"y\":[38.6619987487793,38.22299957275391,37.34400177001953,37.124000549316406,37.124000549316406,36.90399932861328,36.90399932861328,36.46500015258789,36.46500015258789,36.46500015258789,35.80599975585937,34.92699813842773,33.60850143432617,32.94900131225586,32.5099983215332,32.290000915527344,31.850500106811523,31.631000518798828,31.410999298095703,30.97200012207031,30.53199958801269,30.53199958801269,30.75200080871582,30.3125,30.093000411987305,29.87299919128418,29.87299919128418,29.87299919128418,29.87299919128418,29.87299919128418,29.87299919128418,29.87299919128418,29.65299987792969,29.43350028991699,29.43350028991699,29.43350028991699,29.21349906921387,28.11549949645996,27.675500869750977,27.675500869750977,27.45599937438965,27.45599937438965,27.45599937438965,27.45599937438965,27.45599937438965,27.45599937438965,27.236499786376957,27.236499786376957,27.236499786376957,27.236499786376957,26.79700088500977,26.57699966430664,26.57699966430664,26.79700088500977,26.79700088500977,26.79700088500977,26.79700088500977,26.79700088500977,26.79700088500977,26.79700088500977,26.79700088500977,26.79700088500977,26.79700088500977,26.79700088500977,26.79700088500977,26.57749938964844,26.57749938964844,26.57749938964844,26.57749938964844,26.57749938964844,26.57749938964844,26.57749938964844,26.57749938964844,26.57749938964844,26.357500076293945,26.13750076293945,26.13750076293945,26.13750076293945,26.13750076293945,26.13750076293945,26.13750076293945,26.13750076293945,26.13750076293945,26.13750076293945,25.69849967956543,25.69849967956543,25.69849967956543,25.917999267578125,25.917999267578125,25.917999267578125,25.917999267578125,25.917999267578125,25.917999267578125,25.917999267578125,25.917999267578125],\"type\":\"scatter\"},{\"line\":{\"color\":\"red\"},\"mode\":\"lines\",\"name\":\"Predicted Data\",\"x\":[\"2016-07-02T00:00:00\",\"2016-07-02T00:15:00\",\"2016-07-02T00:30:00\",\"2016-07-02T00:45:00\",\"2016-07-02T01:00:00\",\"2016-07-02T01:15:00\",\"2016-07-02T01:30:00\",\"2016-07-02T01:45:00\",\"2016-07-02T02:00:00\",\"2016-07-02T02:15:00\",\"2016-07-02T02:30:00\",\"2016-07-02T02:45:00\",\"2016-07-02T03:00:00\",\"2016-07-02T03:15:00\",\"2016-07-02T03:30:00\",\"2016-07-02T03:45:00\",\"2016-07-02T04:00:00\",\"2016-07-02T04:15:00\",\"2016-07-02T04:30:00\",\"2016-07-02T04:45:00\",\"2016-07-02T05:00:00\",\"2016-07-02T05:15:00\",\"2016-07-02T05:30:00\",\"2016-07-02T05:45:00\",\"2016-07-02T06:00:00\",\"2016-07-02T06:15:00\",\"2016-07-02T06:30:00\",\"2016-07-02T06:45:00\",\"2016-07-02T07:00:00\",\"2016-07-02T07:15:00\",\"2016-07-02T07:30:00\",\"2016-07-02T07:45:00\",\"2016-07-02T08:00:00\",\"2016-07-02T08:15:00\",\"2016-07-02T08:30:00\",\"2016-07-02T08:45:00\",\"2016-07-02T09:00:00\",\"2016-07-02T09:15:00\",\"2016-07-02T09:30:00\",\"2016-07-02T09:45:00\",\"2016-07-02T10:00:00\",\"2016-07-02T10:15:00\",\"2016-07-02T10:30:00\",\"2016-07-02T10:45:00\",\"2016-07-02T11:00:00\",\"2016-07-02T11:15:00\",\"2016-07-02T11:30:00\",\"2016-07-02T11:45:00\",\"2016-07-02T12:00:00\",\"2016-07-02T12:15:00\",\"2016-07-02T12:30:00\",\"2016-07-02T12:45:00\",\"2016-07-02T13:00:00\",\"2016-07-02T13:15:00\",\"2016-07-02T13:30:00\",\"2016-07-02T13:45:00\",\"2016-07-02T14:00:00\",\"2016-07-02T14:15:00\",\"2016-07-02T14:30:00\",\"2016-07-02T14:45:00\",\"2016-07-02T15:00:00\",\"2016-07-02T15:15:00\",\"2016-07-02T15:30:00\",\"2016-07-02T15:45:00\",\"2016-07-02T16:00:00\",\"2016-07-02T16:15:00\",\"2016-07-02T16:30:00\",\"2016-07-02T16:45:00\",\"2016-07-02T17:00:00\",\"2016-07-02T17:15:00\",\"2016-07-02T17:30:00\",\"2016-07-02T17:45:00\",\"2016-07-02T18:00:00\",\"2016-07-02T18:15:00\",\"2016-07-02T18:30:00\",\"2016-07-02T18:45:00\",\"2016-07-02T19:00:00\",\"2016-07-02T19:15:00\",\"2016-07-02T19:30:00\",\"2016-07-02T19:45:00\",\"2016-07-02T20:00:00\",\"2016-07-02T20:15:00\",\"2016-07-02T20:30:00\",\"2016-07-02T20:45:00\",\"2016-07-02T21:00:00\",\"2016-07-02T21:15:00\",\"2016-07-02T21:30:00\",\"2016-07-02T21:45:00\",\"2016-07-02T22:00:00\",\"2016-07-02T22:15:00\",\"2016-07-02T22:30:00\",\"2016-07-02T22:45:00\",\"2016-07-02T23:00:00\",\"2016-07-02T23:15:00\",\"2016-07-02T23:30:00\",\"2016-07-02T23:45:00\"],\"y\":[117.58578491210938,117.75199890136719,118.94739532470703,118.79786682128906,117.71627807617188,116.19010162353516,115.58253479003906,117.53365325927734,116.79459381103516,114.09852600097656,118.71216583251953,119.38877868652344,119.21048736572266,116.94279479980469,117.85267639160156,116.47310638427734,116.62870788574219,116.43843841552734,117.30706787109375,115.09244537353516,117.33988952636719,116.09221649169922,115.32077026367188,116.95429229736328,117.08241271972656,114.35780334472656,114.22789001464844,113.63550567626953,111.42255401611328,106.2852554321289,106.65061950683594,106.37596893310547,101.4599609375,99.82384490966797,92.9247817993164,92.66231536865234,90.76791381835938,85.68689727783203,82.71488189697266,82.15239715576172,82.98616790771484,78.71051025390625,77.05156707763672,73.65621948242188,72.72808074951172,65.52440643310547,65.22373962402344,64.13196563720703,59.76210021972656,56.70507049560547,52.81578063964844,56.0810432434082,53.20289611816406,53.93680953979492,52.355342864990234,51.984806060791016,47.38014221191406,46.7598876953125,44.725013732910156,48.323707580566406,46.90936279296875,47.18324279785156,47.2746467590332,47.711795806884766,47.91118240356445,50.16130065917969,49.9686164855957,50.18272399902344,48.92887496948242,51.4658317565918,51.9640998840332,52.476600646972656,51.59761428833008,56.966007232666016,58.29490280151367,62.165401458740234,66.48120880126953,65.64118957519531,71.31626892089844,77.65238189697266,78.60868835449219,83.59138488769531,89.24889373779297,94.95368957519531,96.21592712402344,95.84613037109375,102.03986358642578,105.54475402832031,106.78996276855469,108.52079772949219,112.18050384521484,112.42779541015625,114.42533874511719,117.49243927001953,120.66024017333984,111.65145874023438],\"type\":\"scatter\"}],                        {\"template\":{\"data\":{\"histogram2dcontour\":[{\"type\":\"histogram2dcontour\",\"colorbar\":{\"outlinewidth\":0,\"ticks\":\"\"},\"colorscale\":[[0.0,\"#0d0887\"],[0.1111111111111111,\"#46039f\"],[0.2222222222222222,\"#7201a8\"],[0.3333333333333333,\"#9c179e\"],[0.4444444444444444,\"#bd3786\"],[0.5555555555555556,\"#d8576b\"],[0.6666666666666666,\"#ed7953\"],[0.7777777777777778,\"#fb9f3a\"],[0.8888888888888888,\"#fdca26\"],[1.0,\"#f0f921\"]]}],\"choropleth\":[{\"type\":\"choropleth\",\"colorbar\":{\"outlinewidth\":0,\"ticks\":\"\"}}],\"histogram2d\":[{\"type\":\"histogram2d\",\"colorbar\":{\"outlinewidth\":0,\"ticks\":\"\"},\"colorscale\":[[0.0,\"#0d0887\"],[0.1111111111111111,\"#46039f\"],[0.2222222222222222,\"#7201a8\"],[0.3333333333333333,\"#9c179e\"],[0.4444444444444444,\"#bd3786\"],[0.5555555555555556,\"#d8576b\"],[0.6666666666666666,\"#ed7953\"],[0.7777777777777778,\"#fb9f3a\"],[0.8888888888888888,\"#fdca26\"],[1.0,\"#f0f921\"]]}],\"heatmap\":[{\"type\":\"heatmap\",\"colorbar\":{\"outlinewidth\":0,\"ticks\":\"\"},\"colorscale\":[[0.0,\"#0d0887\"],[0.1111111111111111,\"#46039f\"],[0.2222222222222222,\"#7201a8\"],[0.3333333333333333,\"#9c179e\"],[0.4444444444444444,\"#bd3786\"],[0.5555555555555556,\"#d8576b\"],[0.6666666666666666,\"#ed7953\"],[0.7777777777777778,\"#fb9f3a\"],[0.8888888888888888,\"#fdca26\"],[1.0,\"#f0f921\"]]}],\"heatmapgl\":[{\"type\":\"heatmapgl\",\"colorbar\":{\"outlinewidth\":0,\"ticks\":\"\"},\"colorscale\":[[0.0,\"#0d0887\"],[0.1111111111111111,\"#46039f\"],[0.2222222222222222,\"#7201a8\"],[0.3333333333333333,\"#9c179e\"],[0.4444444444444444,\"#bd3786\"],[0.5555555555555556,\"#d8576b\"],[0.6666666666666666,\"#ed7953\"],[0.7777777777777778,\"#fb9f3a\"],[0.8888888888888888,\"#fdca26\"],[1.0,\"#f0f921\"]]}],\"contourcarpet\":[{\"type\":\"contourcarpet\",\"colorbar\":{\"outlinewidth\":0,\"ticks\":\"\"}}],\"contour\":[{\"type\":\"contour\",\"colorbar\":{\"outlinewidth\":0,\"ticks\":\"\"},\"colorscale\":[[0.0,\"#0d0887\"],[0.1111111111111111,\"#46039f\"],[0.2222222222222222,\"#7201a8\"],[0.3333333333333333,\"#9c179e\"],[0.4444444444444444,\"#bd3786\"],[0.5555555555555556,\"#d8576b\"],[0.6666666666666666,\"#ed7953\"],[0.7777777777777778,\"#fb9f3a\"],[0.8888888888888888,\"#fdca26\"],[1.0,\"#f0f921\"]]}],\"surface\":[{\"type\":\"surface\",\"colorbar\":{\"outlinewidth\":0,\"ticks\":\"\"},\"colorscale\":[[0.0,\"#0d0887\"],[0.1111111111111111,\"#46039f\"],[0.2222222222222222,\"#7201a8\"],[0.3333333333333333,\"#9c179e\"],[0.4444444444444444,\"#bd3786\"],[0.5555555555555556,\"#d8576b\"],[0.6666666666666666,\"#ed7953\"],[0.7777777777777778,\"#fb9f3a\"],[0.8888888888888888,\"#fdca26\"],[1.0,\"#f0f921\"]]}],\"mesh3d\":[{\"type\":\"mesh3d\",\"colorbar\":{\"outlinewidth\":0,\"ticks\":\"\"}}],\"scatter\":[{\"fillpattern\":{\"fillmode\":\"overlay\",\"size\":10,\"solidity\":0.2},\"type\":\"scatter\"}],\"parcoords\":[{\"type\":\"parcoords\",\"line\":{\"colorbar\":{\"outlinewidth\":0,\"ticks\":\"\"}}}],\"scatterpolargl\":[{\"type\":\"scatterpolargl\",\"marker\":{\"colorbar\":{\"outlinewidth\":0,\"ticks\":\"\"}}}],\"bar\":[{\"error_x\":{\"color\":\"#2a3f5f\"},\"error_y\":{\"color\":\"#2a3f5f\"},\"marker\":{\"line\":{\"color\":\"#E5ECF6\",\"width\":0.5},\"pattern\":{\"fillmode\":\"overlay\",\"size\":10,\"solidity\":0.2}},\"type\":\"bar\"}],\"scattergeo\":[{\"type\":\"scattergeo\",\"marker\":{\"colorbar\":{\"outlinewidth\":0,\"ticks\":\"\"}}}],\"scatterpolar\":[{\"type\":\"scatterpolar\",\"marker\":{\"colorbar\":{\"outlinewidth\":0,\"ticks\":\"\"}}}],\"histogram\":[{\"marker\":{\"pattern\":{\"fillmode\":\"overlay\",\"size\":10,\"solidity\":0.2}},\"type\":\"histogram\"}],\"scattergl\":[{\"type\":\"scattergl\",\"marker\":{\"colorbar\":{\"outlinewidth\":0,\"ticks\":\"\"}}}],\"scatter3d\":[{\"type\":\"scatter3d\",\"line\":{\"colorbar\":{\"outlinewidth\":0,\"ticks\":\"\"}},\"marker\":{\"colorbar\":{\"outlinewidth\":0,\"ticks\":\"\"}}}],\"scattermapbox\":[{\"type\":\"scattermapbox\",\"marker\":{\"colorbar\":{\"outlinewidth\":0,\"ticks\":\"\"}}}],\"scatterternary\":[{\"type\":\"scatterternary\",\"marker\":{\"colorbar\":{\"outlinewidth\":0,\"ticks\":\"\"}}}],\"scattercarpet\":[{\"type\":\"scattercarpet\",\"marker\":{\"colorbar\":{\"outlinewidth\":0,\"ticks\":\"\"}}}],\"carpet\":[{\"aaxis\":{\"endlinecolor\":\"#2a3f5f\",\"gridcolor\":\"white\",\"linecolor\":\"white\",\"minorgridcolor\":\"white\",\"startlinecolor\":\"#2a3f5f\"},\"baxis\":{\"endlinecolor\":\"#2a3f5f\",\"gridcolor\":\"white\",\"linecolor\":\"white\",\"minorgridcolor\":\"white\",\"startlinecolor\":\"#2a3f5f\"},\"type\":\"carpet\"}],\"table\":[{\"cells\":{\"fill\":{\"color\":\"#EBF0F8\"},\"line\":{\"color\":\"white\"}},\"header\":{\"fill\":{\"color\":\"#C8D4E3\"},\"line\":{\"color\":\"white\"}},\"type\":\"table\"}],\"barpolar\":[{\"marker\":{\"line\":{\"color\":\"#E5ECF6\",\"width\":0.5},\"pattern\":{\"fillmode\":\"overlay\",\"size\":10,\"solidity\":0.2}},\"type\":\"barpolar\"}],\"pie\":[{\"automargin\":true,\"type\":\"pie\"}]},\"layout\":{\"autotypenumbers\":\"strict\",\"colorway\":[\"#636efa\",\"#EF553B\",\"#00cc96\",\"#ab63fa\",\"#FFA15A\",\"#19d3f3\",\"#FF6692\",\"#B6E880\",\"#FF97FF\",\"#FECB52\"],\"font\":{\"color\":\"#2a3f5f\"},\"hovermode\":\"closest\",\"hoverlabel\":{\"align\":\"left\"},\"paper_bgcolor\":\"white\",\"plot_bgcolor\":\"#E5ECF6\",\"polar\":{\"bgcolor\":\"#E5ECF6\",\"angularaxis\":{\"gridcolor\":\"white\",\"linecolor\":\"white\",\"ticks\":\"\"},\"radialaxis\":{\"gridcolor\":\"white\",\"linecolor\":\"white\",\"ticks\":\"\"}},\"ternary\":{\"bgcolor\":\"#E5ECF6\",\"aaxis\":{\"gridcolor\":\"white\",\"linecolor\":\"white\",\"ticks\":\"\"},\"baxis\":{\"gridcolor\":\"white\",\"linecolor\":\"white\",\"ticks\":\"\"},\"caxis\":{\"gridcolor\":\"white\",\"linecolor\":\"white\",\"ticks\":\"\"}},\"coloraxis\":{\"colorbar\":{\"outlinewidth\":0,\"ticks\":\"\"}},\"colorscale\":{\"sequential\":[[0.0,\"#0d0887\"],[0.1111111111111111,\"#46039f\"],[0.2222222222222222,\"#7201a8\"],[0.3333333333333333,\"#9c179e\"],[0.4444444444444444,\"#bd3786\"],[0.5555555555555556,\"#d8576b\"],[0.6666666666666666,\"#ed7953\"],[0.7777777777777778,\"#fb9f3a\"],[0.8888888888888888,\"#fdca26\"],[1.0,\"#f0f921\"]],\"sequentialminus\":[[0.0,\"#0d0887\"],[0.1111111111111111,\"#46039f\"],[0.2222222222222222,\"#7201a8\"],[0.3333333333333333,\"#9c179e\"],[0.4444444444444444,\"#bd3786\"],[0.5555555555555556,\"#d8576b\"],[0.6666666666666666,\"#ed7953\"],[0.7777777777777778,\"#fb9f3a\"],[0.8888888888888888,\"#fdca26\"],[1.0,\"#f0f921\"]],\"diverging\":[[0,\"#8e0152\"],[0.1,\"#c51b7d\"],[0.2,\"#de77ae\"],[0.3,\"#f1b6da\"],[0.4,\"#fde0ef\"],[0.5,\"#f7f7f7\"],[0.6,\"#e6f5d0\"],[0.7,\"#b8e186\"],[0.8,\"#7fbc41\"],[0.9,\"#4d9221\"],[1,\"#276419\"]]},\"xaxis\":{\"gridcolor\":\"white\",\"linecolor\":\"white\",\"ticks\":\"\",\"title\":{\"standoff\":15},\"zerolinecolor\":\"white\",\"automargin\":true,\"zerolinewidth\":2},\"yaxis\":{\"gridcolor\":\"white\",\"linecolor\":\"white\",\"ticks\":\"\",\"title\":{\"standoff\":15},\"zerolinecolor\":\"white\",\"automargin\":true,\"zerolinewidth\":2},\"scene\":{\"xaxis\":{\"backgroundcolor\":\"#E5ECF6\",\"gridcolor\":\"white\",\"linecolor\":\"white\",\"showbackground\":true,\"ticks\":\"\",\"zerolinecolor\":\"white\",\"gridwidth\":2},\"yaxis\":{\"backgroundcolor\":\"#E5ECF6\",\"gridcolor\":\"white\",\"linecolor\":\"white\",\"showbackground\":true,\"ticks\":\"\",\"zerolinecolor\":\"white\",\"gridwidth\":2},\"zaxis\":{\"backgroundcolor\":\"#E5ECF6\",\"gridcolor\":\"white\",\"linecolor\":\"white\",\"showbackground\":true,\"ticks\":\"\",\"zerolinecolor\":\"white\",\"gridwidth\":2}},\"shapedefaults\":{\"line\":{\"color\":\"#2a3f5f\"}},\"annotationdefaults\":{\"arrowcolor\":\"#2a3f5f\",\"arrowhead\":0,\"arrowwidth\":1},\"geo\":{\"bgcolor\":\"white\",\"landcolor\":\"#E5ECF6\",\"subunitcolor\":\"white\",\"showland\":true,\"showlakes\":true,\"lakecolor\":\"white\"},\"title\":{\"x\":0.05},\"mapbox\":{\"style\":\"light\"}}}},                        {\"responsive\": true}                    ).then(function(){\n",
       "                            \n",
       "var gd = document.getElementById('4dff8818-d5e3-4528-8b60-c52234de89e2');\n",
       "var x = new MutationObserver(function (mutations, observer) {{\n",
       "        var display = window.getComputedStyle(gd).display;\n",
       "        if (!display || display === 'none') {{\n",
       "            console.log([gd, 'removed!']);\n",
       "            Plotly.purge(gd);\n",
       "            observer.disconnect();\n",
       "        }}\n",
       "}});\n",
       "\n",
       "// Listen for the removal of the full notebook cells\n",
       "var notebookContainer = gd.closest('#notebook-container');\n",
       "if (notebookContainer) {{\n",
       "    x.observe(notebookContainer, {childList: true});\n",
       "}}\n",
       "\n",
       "// Listen for the clearing of the current output cell\n",
       "var outputEl = gd.closest('.output');\n",
       "if (outputEl) {{\n",
       "    x.observe(outputEl, {childList: true});\n",
       "}}\n",
       "\n",
       "                        })                };                });            </script>        </div>"
      ]
     },
     "metadata": {},
     "output_type": "display_data"
    }
   ],
   "source": [
    "fig.add_trace(go.Scatter(x=df_data['date'], y=df_data['predicted_result'],\n",
    "                         mode='lines', name='Predicted Data', line=dict(color='red')))"
   ]
  },
  {
   "cell_type": "code",
   "execution_count": 219,
   "id": "9541f3ce-fe8c-4e2a-a591-15861d105388",
   "metadata": {},
   "outputs": [
    {
     "data": {
      "application/vnd.plotly.v1+json": {
       "config": {
        "plotlyServerURL": "https://plot.ly"
       },
       "data": [
        {
         "mode": "lines",
         "name": "Correct Data",
         "type": "scatter",
         "x": [
          "2016-07-01T00:00:00",
          "2016-07-01T00:15:00",
          "2016-07-01T00:30:00",
          "2016-07-01T00:45:00",
          "2016-07-01T01:00:00",
          "2016-07-01T01:15:00",
          "2016-07-01T01:30:00",
          "2016-07-01T01:45:00",
          "2016-07-01T02:00:00",
          "2016-07-01T02:15:00",
          "2016-07-01T02:30:00",
          "2016-07-01T02:45:00",
          "2016-07-01T03:00:00",
          "2016-07-01T03:15:00",
          "2016-07-01T03:30:00",
          "2016-07-01T03:45:00",
          "2016-07-01T04:00:00",
          "2016-07-01T04:15:00",
          "2016-07-01T04:30:00",
          "2016-07-01T04:45:00",
          "2016-07-01T05:00:00",
          "2016-07-01T05:15:00",
          "2016-07-01T05:30:00",
          "2016-07-01T05:45:00",
          "2016-07-01T06:00:00",
          "2016-07-01T06:15:00",
          "2016-07-01T06:30:00",
          "2016-07-01T06:45:00",
          "2016-07-01T07:00:00",
          "2016-07-01T07:15:00",
          "2016-07-01T07:30:00",
          "2016-07-01T07:45:00",
          "2016-07-01T08:00:00",
          "2016-07-01T08:15:00",
          "2016-07-01T08:30:00",
          "2016-07-01T08:45:00",
          "2016-07-01T09:00:00",
          "2016-07-01T09:15:00",
          "2016-07-01T09:30:00",
          "2016-07-01T09:45:00",
          "2016-07-01T10:00:00",
          "2016-07-01T10:15:00",
          "2016-07-01T10:30:00",
          "2016-07-01T10:45:00",
          "2016-07-01T11:00:00",
          "2016-07-01T11:15:00",
          "2016-07-01T11:30:00",
          "2016-07-01T11:45:00",
          "2016-07-01T12:00:00",
          "2016-07-01T12:15:00",
          "2016-07-01T12:30:00",
          "2016-07-01T12:45:00",
          "2016-07-01T13:00:00",
          "2016-07-01T13:15:00",
          "2016-07-01T13:30:00",
          "2016-07-01T13:45:00",
          "2016-07-01T14:00:00",
          "2016-07-01T14:15:00",
          "2016-07-01T14:30:00",
          "2016-07-01T14:45:00",
          "2016-07-01T15:00:00",
          "2016-07-01T15:15:00",
          "2016-07-01T15:30:00",
          "2016-07-01T15:45:00",
          "2016-07-01T16:00:00",
          "2016-07-01T16:15:00",
          "2016-07-01T16:30:00",
          "2016-07-01T16:45:00",
          "2016-07-01T17:00:00",
          "2016-07-01T17:15:00",
          "2016-07-01T17:30:00",
          "2016-07-01T17:45:00",
          "2016-07-01T18:00:00",
          "2016-07-01T18:15:00",
          "2016-07-01T18:30:00",
          "2016-07-01T18:45:00",
          "2016-07-01T19:00:00",
          "2016-07-01T19:15:00",
          "2016-07-01T19:30:00",
          "2016-07-01T19:45:00",
          "2016-07-01T20:00:00",
          "2016-07-01T20:15:00",
          "2016-07-01T20:30:00",
          "2016-07-01T20:45:00",
          "2016-07-01T21:00:00",
          "2016-07-01T21:15:00",
          "2016-07-01T21:30:00",
          "2016-07-01T21:45:00",
          "2016-07-01T22:00:00",
          "2016-07-01T22:15:00",
          "2016-07-01T22:30:00",
          "2016-07-01T22:45:00",
          "2016-07-01T23:00:00",
          "2016-07-01T23:15:00",
          "2016-07-01T23:30:00",
          "2016-07-01T23:45:00",
          "2016-07-02T00:00:00",
          "2016-07-02T00:15:00",
          "2016-07-02T00:30:00",
          "2016-07-02T00:45:00",
          "2016-07-02T01:00:00",
          "2016-07-02T01:15:00",
          "2016-07-02T01:30:00",
          "2016-07-02T01:45:00",
          "2016-07-02T02:00:00",
          "2016-07-02T02:15:00",
          "2016-07-02T02:30:00",
          "2016-07-02T02:45:00",
          "2016-07-02T03:00:00",
          "2016-07-02T03:15:00",
          "2016-07-02T03:30:00",
          "2016-07-02T03:45:00",
          "2016-07-02T04:00:00",
          "2016-07-02T04:15:00",
          "2016-07-02T04:30:00",
          "2016-07-02T04:45:00",
          "2016-07-02T05:00:00",
          "2016-07-02T05:15:00",
          "2016-07-02T05:30:00",
          "2016-07-02T05:45:00",
          "2016-07-02T06:00:00",
          "2016-07-02T06:15:00",
          "2016-07-02T06:30:00",
          "2016-07-02T06:45:00",
          "2016-07-02T07:00:00",
          "2016-07-02T07:15:00",
          "2016-07-02T07:30:00",
          "2016-07-02T07:45:00",
          "2016-07-02T08:00:00",
          "2016-07-02T08:15:00",
          "2016-07-02T08:30:00",
          "2016-07-02T08:45:00",
          "2016-07-02T09:00:00",
          "2016-07-02T09:15:00",
          "2016-07-02T09:30:00",
          "2016-07-02T09:45:00",
          "2016-07-02T10:00:00",
          "2016-07-02T10:15:00",
          "2016-07-02T10:30:00",
          "2016-07-02T10:45:00",
          "2016-07-02T11:00:00",
          "2016-07-02T11:15:00",
          "2016-07-02T11:30:00",
          "2016-07-02T11:45:00",
          "2016-07-02T12:00:00",
          "2016-07-02T12:15:00",
          "2016-07-02T12:30:00",
          "2016-07-02T12:45:00",
          "2016-07-02T13:00:00",
          "2016-07-02T13:15:00",
          "2016-07-02T13:30:00",
          "2016-07-02T13:45:00",
          "2016-07-02T14:00:00",
          "2016-07-02T14:15:00",
          "2016-07-02T14:30:00",
          "2016-07-02T14:45:00",
          "2016-07-02T15:00:00",
          "2016-07-02T15:15:00",
          "2016-07-02T15:30:00",
          "2016-07-02T15:45:00",
          "2016-07-02T16:00:00",
          "2016-07-02T16:15:00",
          "2016-07-02T16:30:00",
          "2016-07-02T16:45:00",
          "2016-07-02T17:00:00",
          "2016-07-02T17:15:00",
          "2016-07-02T17:30:00",
          "2016-07-02T17:45:00",
          "2016-07-02T18:00:00",
          "2016-07-02T18:15:00",
          "2016-07-02T18:30:00",
          "2016-07-02T18:45:00",
          "2016-07-02T19:00:00",
          "2016-07-02T19:15:00",
          "2016-07-02T19:30:00",
          "2016-07-02T19:45:00",
          "2016-07-02T20:00:00",
          "2016-07-02T20:15:00",
          "2016-07-02T20:30:00",
          "2016-07-02T20:45:00",
          "2016-07-02T21:00:00",
          "2016-07-02T21:15:00",
          "2016-07-02T21:30:00",
          "2016-07-02T21:45:00",
          "2016-07-02T22:00:00",
          "2016-07-02T22:15:00",
          "2016-07-02T22:30:00",
          "2016-07-02T22:45:00",
          "2016-07-02T23:00:00",
          "2016-07-02T23:15:00",
          "2016-07-02T23:30:00",
          "2016-07-02T23:45:00"
         ],
         "y": [
          38.6619987487793,
          38.22299957275391,
          37.34400177001953,
          37.124000549316406,
          37.124000549316406,
          36.90399932861328,
          36.90399932861328,
          36.46500015258789,
          36.46500015258789,
          36.46500015258789,
          35.80599975585937,
          34.92699813842773,
          33.60850143432617,
          32.94900131225586,
          32.5099983215332,
          32.290000915527344,
          31.850500106811523,
          31.631000518798828,
          31.410999298095703,
          30.97200012207031,
          30.53199958801269,
          30.53199958801269,
          30.75200080871582,
          30.3125,
          30.093000411987305,
          29.87299919128418,
          29.87299919128418,
          29.87299919128418,
          29.87299919128418,
          29.87299919128418,
          29.87299919128418,
          29.87299919128418,
          29.65299987792969,
          29.43350028991699,
          29.43350028991699,
          29.43350028991699,
          29.21349906921387,
          28.11549949645996,
          27.675500869750977,
          27.675500869750977,
          27.45599937438965,
          27.45599937438965,
          27.45599937438965,
          27.45599937438965,
          27.45599937438965,
          27.45599937438965,
          27.236499786376957,
          27.236499786376957,
          27.236499786376957,
          27.236499786376957,
          26.79700088500977,
          26.57699966430664,
          26.57699966430664,
          26.79700088500977,
          26.79700088500977,
          26.79700088500977,
          26.79700088500977,
          26.79700088500977,
          26.79700088500977,
          26.79700088500977,
          26.79700088500977,
          26.79700088500977,
          26.79700088500977,
          26.79700088500977,
          26.79700088500977,
          26.57749938964844,
          26.57749938964844,
          26.57749938964844,
          26.57749938964844,
          26.57749938964844,
          26.57749938964844,
          26.57749938964844,
          26.57749938964844,
          26.57749938964844,
          26.357500076293945,
          26.13750076293945,
          26.13750076293945,
          26.13750076293945,
          26.13750076293945,
          26.13750076293945,
          26.13750076293945,
          26.13750076293945,
          26.13750076293945,
          26.13750076293945,
          25.69849967956543,
          25.69849967956543,
          25.69849967956543,
          25.917999267578125,
          25.917999267578125,
          25.917999267578125,
          25.917999267578125,
          25.917999267578125,
          25.917999267578125,
          25.917999267578125,
          25.917999267578125,
          25.917999267578125,
          25.917999267578125,
          25.917999267578125,
          25.917999267578125,
          26.13800048828125,
          26.357500076293945,
          26.357500076293945,
          26.357500076293945,
          26.13750076293945,
          26.13750076293945,
          25.917999267578125,
          25.69849967956543,
          25.69849967956543,
          25.69849967956543,
          25.69849967956543,
          25.69849967956543,
          25.69849967956543,
          25.69849967956543,
          25.917999267578125,
          25.917999267578125,
          25.917999267578125,
          25.917999267578125,
          25.917999267578125,
          25.917999267578125,
          25.917999267578125,
          25.917999267578125,
          25.917999267578125,
          25.917999267578125,
          25.917999267578125,
          25.917999267578125,
          25.478500366210927,
          25.478500366210927,
          25.478500366210927,
          25.478500366210927,
          25.478500366210927,
          25.478500366210927,
          25.697999954223643,
          25.697999954223643,
          25.697999954223643,
          25.697999954223643,
          25.917999267578125,
          25.917999267578125,
          25.917999267578125,
          25.917999267578125,
          25.917999267578125,
          25.917999267578125,
          25.917999267578125,
          26.13800048828125,
          26.357500076293945,
          26.13750076293945,
          26.13750076293945,
          26.357500076293945,
          26.357500076293945,
          26.357500076293945,
          26.357500076293945,
          26.357500076293945,
          26.357500076293945,
          26.57749938964844,
          26.79700088500977,
          26.79700088500977,
          27.236499786376957,
          27.45599937438965,
          27.45599937438965,
          27.45599937438965,
          27.67600059509277,
          27.67600059509277,
          27.67600059509277,
          27.89550018310547,
          28.11549949645996,
          28.11549949645996,
          28.334999084472656,
          28.334999084472656,
          28.554500579833984,
          28.554500579833984,
          28.77449989318848,
          28.77449989318848,
          28.77449989318848,
          28.77449989318848,
          28.99399948120117,
          29.21349906921387,
          29.43350028991699,
          29.653499603271484,
          29.653499603271484,
          29.653499603271484,
          29.43350028991699,
          29.21349906921387,
          28.77449989318848,
          28.334999084472656,
          28.334999084472656,
          27.89550018310547,
          27.89550018310547,
          27.675500869750977,
          27.45599937438965,
          27.236499786376957,
          27.236499786376957,
          27.236499786376957,
          27.236499786376957
         ]
        },
        {
         "line": {
          "color": "orange",
          "dash": "dot",
          "width": 4
         },
         "mode": "lines",
         "name": "Used for Prediction",
         "type": "scatter",
         "x": [
          "2016-07-01T00:00:00",
          "2016-07-01T00:15:00",
          "2016-07-01T00:30:00",
          "2016-07-01T00:45:00",
          "2016-07-01T01:00:00",
          "2016-07-01T01:15:00",
          "2016-07-01T01:30:00",
          "2016-07-01T01:45:00",
          "2016-07-01T02:00:00",
          "2016-07-01T02:15:00",
          "2016-07-01T02:30:00",
          "2016-07-01T02:45:00",
          "2016-07-01T03:00:00",
          "2016-07-01T03:15:00",
          "2016-07-01T03:30:00",
          "2016-07-01T03:45:00",
          "2016-07-01T04:00:00",
          "2016-07-01T04:15:00",
          "2016-07-01T04:30:00",
          "2016-07-01T04:45:00",
          "2016-07-01T05:00:00",
          "2016-07-01T05:15:00",
          "2016-07-01T05:30:00",
          "2016-07-01T05:45:00",
          "2016-07-01T06:00:00",
          "2016-07-01T06:15:00",
          "2016-07-01T06:30:00",
          "2016-07-01T06:45:00",
          "2016-07-01T07:00:00",
          "2016-07-01T07:15:00",
          "2016-07-01T07:30:00",
          "2016-07-01T07:45:00",
          "2016-07-01T08:00:00",
          "2016-07-01T08:15:00",
          "2016-07-01T08:30:00",
          "2016-07-01T08:45:00",
          "2016-07-01T09:00:00",
          "2016-07-01T09:15:00",
          "2016-07-01T09:30:00",
          "2016-07-01T09:45:00",
          "2016-07-01T10:00:00",
          "2016-07-01T10:15:00",
          "2016-07-01T10:30:00",
          "2016-07-01T10:45:00",
          "2016-07-01T11:00:00",
          "2016-07-01T11:15:00",
          "2016-07-01T11:30:00",
          "2016-07-01T11:45:00",
          "2016-07-01T12:00:00",
          "2016-07-01T12:15:00",
          "2016-07-01T12:30:00",
          "2016-07-01T12:45:00",
          "2016-07-01T13:00:00",
          "2016-07-01T13:15:00",
          "2016-07-01T13:30:00",
          "2016-07-01T13:45:00",
          "2016-07-01T14:00:00",
          "2016-07-01T14:15:00",
          "2016-07-01T14:30:00",
          "2016-07-01T14:45:00",
          "2016-07-01T15:00:00",
          "2016-07-01T15:15:00",
          "2016-07-01T15:30:00",
          "2016-07-01T15:45:00",
          "2016-07-01T16:00:00",
          "2016-07-01T16:15:00",
          "2016-07-01T16:30:00",
          "2016-07-01T16:45:00",
          "2016-07-01T17:00:00",
          "2016-07-01T17:15:00",
          "2016-07-01T17:30:00",
          "2016-07-01T17:45:00",
          "2016-07-01T18:00:00",
          "2016-07-01T18:15:00",
          "2016-07-01T18:30:00",
          "2016-07-01T18:45:00",
          "2016-07-01T19:00:00",
          "2016-07-01T19:15:00",
          "2016-07-01T19:30:00",
          "2016-07-01T19:45:00",
          "2016-07-01T20:00:00",
          "2016-07-01T20:15:00",
          "2016-07-01T20:30:00",
          "2016-07-01T20:45:00",
          "2016-07-01T21:00:00",
          "2016-07-01T21:15:00",
          "2016-07-01T21:30:00",
          "2016-07-01T21:45:00",
          "2016-07-01T22:00:00",
          "2016-07-01T22:15:00",
          "2016-07-01T22:30:00",
          "2016-07-01T22:45:00",
          "2016-07-01T23:00:00",
          "2016-07-01T23:15:00",
          "2016-07-01T23:30:00"
         ],
         "y": [
          38.6619987487793,
          38.22299957275391,
          37.34400177001953,
          37.124000549316406,
          37.124000549316406,
          36.90399932861328,
          36.90399932861328,
          36.46500015258789,
          36.46500015258789,
          36.46500015258789,
          35.80599975585937,
          34.92699813842773,
          33.60850143432617,
          32.94900131225586,
          32.5099983215332,
          32.290000915527344,
          31.850500106811523,
          31.631000518798828,
          31.410999298095703,
          30.97200012207031,
          30.53199958801269,
          30.53199958801269,
          30.75200080871582,
          30.3125,
          30.093000411987305,
          29.87299919128418,
          29.87299919128418,
          29.87299919128418,
          29.87299919128418,
          29.87299919128418,
          29.87299919128418,
          29.87299919128418,
          29.65299987792969,
          29.43350028991699,
          29.43350028991699,
          29.43350028991699,
          29.21349906921387,
          28.11549949645996,
          27.675500869750977,
          27.675500869750977,
          27.45599937438965,
          27.45599937438965,
          27.45599937438965,
          27.45599937438965,
          27.45599937438965,
          27.45599937438965,
          27.236499786376957,
          27.236499786376957,
          27.236499786376957,
          27.236499786376957,
          26.79700088500977,
          26.57699966430664,
          26.57699966430664,
          26.79700088500977,
          26.79700088500977,
          26.79700088500977,
          26.79700088500977,
          26.79700088500977,
          26.79700088500977,
          26.79700088500977,
          26.79700088500977,
          26.79700088500977,
          26.79700088500977,
          26.79700088500977,
          26.79700088500977,
          26.57749938964844,
          26.57749938964844,
          26.57749938964844,
          26.57749938964844,
          26.57749938964844,
          26.57749938964844,
          26.57749938964844,
          26.57749938964844,
          26.57749938964844,
          26.357500076293945,
          26.13750076293945,
          26.13750076293945,
          26.13750076293945,
          26.13750076293945,
          26.13750076293945,
          26.13750076293945,
          26.13750076293945,
          26.13750076293945,
          26.13750076293945,
          25.69849967956543,
          25.69849967956543,
          25.69849967956543,
          25.917999267578125,
          25.917999267578125,
          25.917999267578125,
          25.917999267578125,
          25.917999267578125,
          25.917999267578125,
          25.917999267578125,
          25.917999267578125
         ]
        },
        {
         "line": {
          "color": "red"
         },
         "mode": "lines",
         "name": "Predicted Data",
         "type": "scatter",
         "x": [
          "2016-07-02T00:00:00",
          "2016-07-02T00:15:00",
          "2016-07-02T00:30:00",
          "2016-07-02T00:45:00",
          "2016-07-02T01:00:00",
          "2016-07-02T01:15:00",
          "2016-07-02T01:30:00",
          "2016-07-02T01:45:00",
          "2016-07-02T02:00:00",
          "2016-07-02T02:15:00",
          "2016-07-02T02:30:00",
          "2016-07-02T02:45:00",
          "2016-07-02T03:00:00",
          "2016-07-02T03:15:00",
          "2016-07-02T03:30:00",
          "2016-07-02T03:45:00",
          "2016-07-02T04:00:00",
          "2016-07-02T04:15:00",
          "2016-07-02T04:30:00",
          "2016-07-02T04:45:00",
          "2016-07-02T05:00:00",
          "2016-07-02T05:15:00",
          "2016-07-02T05:30:00",
          "2016-07-02T05:45:00",
          "2016-07-02T06:00:00",
          "2016-07-02T06:15:00",
          "2016-07-02T06:30:00",
          "2016-07-02T06:45:00",
          "2016-07-02T07:00:00",
          "2016-07-02T07:15:00",
          "2016-07-02T07:30:00",
          "2016-07-02T07:45:00",
          "2016-07-02T08:00:00",
          "2016-07-02T08:15:00",
          "2016-07-02T08:30:00",
          "2016-07-02T08:45:00",
          "2016-07-02T09:00:00",
          "2016-07-02T09:15:00",
          "2016-07-02T09:30:00",
          "2016-07-02T09:45:00",
          "2016-07-02T10:00:00",
          "2016-07-02T10:15:00",
          "2016-07-02T10:30:00",
          "2016-07-02T10:45:00",
          "2016-07-02T11:00:00",
          "2016-07-02T11:15:00",
          "2016-07-02T11:30:00",
          "2016-07-02T11:45:00",
          "2016-07-02T12:00:00",
          "2016-07-02T12:15:00",
          "2016-07-02T12:30:00",
          "2016-07-02T12:45:00",
          "2016-07-02T13:00:00",
          "2016-07-02T13:15:00",
          "2016-07-02T13:30:00",
          "2016-07-02T13:45:00",
          "2016-07-02T14:00:00",
          "2016-07-02T14:15:00",
          "2016-07-02T14:30:00",
          "2016-07-02T14:45:00",
          "2016-07-02T15:00:00",
          "2016-07-02T15:15:00",
          "2016-07-02T15:30:00",
          "2016-07-02T15:45:00",
          "2016-07-02T16:00:00",
          "2016-07-02T16:15:00",
          "2016-07-02T16:30:00",
          "2016-07-02T16:45:00",
          "2016-07-02T17:00:00",
          "2016-07-02T17:15:00",
          "2016-07-02T17:30:00",
          "2016-07-02T17:45:00",
          "2016-07-02T18:00:00",
          "2016-07-02T18:15:00",
          "2016-07-02T18:30:00",
          "2016-07-02T18:45:00",
          "2016-07-02T19:00:00",
          "2016-07-02T19:15:00",
          "2016-07-02T19:30:00",
          "2016-07-02T19:45:00",
          "2016-07-02T20:00:00",
          "2016-07-02T20:15:00",
          "2016-07-02T20:30:00",
          "2016-07-02T20:45:00",
          "2016-07-02T21:00:00",
          "2016-07-02T21:15:00",
          "2016-07-02T21:30:00",
          "2016-07-02T21:45:00",
          "2016-07-02T22:00:00",
          "2016-07-02T22:15:00",
          "2016-07-02T22:30:00",
          "2016-07-02T22:45:00",
          "2016-07-02T23:00:00",
          "2016-07-02T23:15:00",
          "2016-07-02T23:30:00",
          "2016-07-02T23:45:00"
         ],
         "y": [
          117.58578491210938,
          117.75199890136719,
          118.94739532470703,
          118.79786682128906,
          117.71627807617188,
          116.19010162353516,
          115.58253479003906,
          117.53365325927734,
          116.79459381103516,
          114.09852600097656,
          118.71216583251953,
          119.38877868652344,
          119.21048736572266,
          116.94279479980469,
          117.85267639160156,
          116.47310638427734,
          116.62870788574219,
          116.43843841552734,
          117.30706787109375,
          115.09244537353516,
          117.33988952636719,
          116.09221649169922,
          115.32077026367188,
          116.95429229736328,
          117.08241271972656,
          114.35780334472656,
          114.22789001464844,
          113.63550567626953,
          111.42255401611328,
          106.2852554321289,
          106.65061950683594,
          106.37596893310547,
          101.4599609375,
          99.82384490966797,
          92.9247817993164,
          92.66231536865234,
          90.76791381835938,
          85.68689727783203,
          82.71488189697266,
          82.15239715576172,
          82.98616790771484,
          78.71051025390625,
          77.05156707763672,
          73.65621948242188,
          72.72808074951172,
          65.52440643310547,
          65.22373962402344,
          64.13196563720703,
          59.76210021972656,
          56.70507049560547,
          52.81578063964844,
          56.0810432434082,
          53.20289611816406,
          53.93680953979492,
          52.355342864990234,
          51.984806060791016,
          47.38014221191406,
          46.7598876953125,
          44.725013732910156,
          48.323707580566406,
          46.90936279296875,
          47.18324279785156,
          47.2746467590332,
          47.711795806884766,
          47.91118240356445,
          50.16130065917969,
          49.9686164855957,
          50.18272399902344,
          48.92887496948242,
          51.4658317565918,
          51.9640998840332,
          52.476600646972656,
          51.59761428833008,
          56.966007232666016,
          58.29490280151367,
          62.165401458740234,
          66.48120880126953,
          65.64118957519531,
          71.31626892089844,
          77.65238189697266,
          78.60868835449219,
          83.59138488769531,
          89.24889373779297,
          94.95368957519531,
          96.21592712402344,
          95.84613037109375,
          102.03986358642578,
          105.54475402832031,
          106.78996276855469,
          108.52079772949219,
          112.18050384521484,
          112.42779541015625,
          114.42533874511719,
          117.49243927001953,
          120.66024017333984,
          111.65145874023438
         ]
        }
       ],
       "layout": {
        "autosize": true,
        "legend": {
         "x": 0.01,
         "xanchor": "left",
         "y": 0.99,
         "yanchor": "top"
        },
        "template": {
         "data": {
          "bar": [
           {
            "error_x": {
             "color": "#2a3f5f"
            },
            "error_y": {
             "color": "#2a3f5f"
            },
            "marker": {
             "line": {
              "color": "#E5ECF6",
              "width": 0.5
             },
             "pattern": {
              "fillmode": "overlay",
              "size": 10,
              "solidity": 0.2
             }
            },
            "type": "bar"
           }
          ],
          "barpolar": [
           {
            "marker": {
             "line": {
              "color": "#E5ECF6",
              "width": 0.5
             },
             "pattern": {
              "fillmode": "overlay",
              "size": 10,
              "solidity": 0.2
             }
            },
            "type": "barpolar"
           }
          ],
          "carpet": [
           {
            "aaxis": {
             "endlinecolor": "#2a3f5f",
             "gridcolor": "white",
             "linecolor": "white",
             "minorgridcolor": "white",
             "startlinecolor": "#2a3f5f"
            },
            "baxis": {
             "endlinecolor": "#2a3f5f",
             "gridcolor": "white",
             "linecolor": "white",
             "minorgridcolor": "white",
             "startlinecolor": "#2a3f5f"
            },
            "type": "carpet"
           }
          ],
          "choropleth": [
           {
            "colorbar": {
             "outlinewidth": 0,
             "ticks": ""
            },
            "type": "choropleth"
           }
          ],
          "contour": [
           {
            "colorbar": {
             "outlinewidth": 0,
             "ticks": ""
            },
            "colorscale": [
             [
              0,
              "#0d0887"
             ],
             [
              0.1111111111111111,
              "#46039f"
             ],
             [
              0.2222222222222222,
              "#7201a8"
             ],
             [
              0.3333333333333333,
              "#9c179e"
             ],
             [
              0.4444444444444444,
              "#bd3786"
             ],
             [
              0.5555555555555556,
              "#d8576b"
             ],
             [
              0.6666666666666666,
              "#ed7953"
             ],
             [
              0.7777777777777778,
              "#fb9f3a"
             ],
             [
              0.8888888888888888,
              "#fdca26"
             ],
             [
              1,
              "#f0f921"
             ]
            ],
            "type": "contour"
           }
          ],
          "contourcarpet": [
           {
            "colorbar": {
             "outlinewidth": 0,
             "ticks": ""
            },
            "type": "contourcarpet"
           }
          ],
          "heatmap": [
           {
            "colorbar": {
             "outlinewidth": 0,
             "ticks": ""
            },
            "colorscale": [
             [
              0,
              "#0d0887"
             ],
             [
              0.1111111111111111,
              "#46039f"
             ],
             [
              0.2222222222222222,
              "#7201a8"
             ],
             [
              0.3333333333333333,
              "#9c179e"
             ],
             [
              0.4444444444444444,
              "#bd3786"
             ],
             [
              0.5555555555555556,
              "#d8576b"
             ],
             [
              0.6666666666666666,
              "#ed7953"
             ],
             [
              0.7777777777777778,
              "#fb9f3a"
             ],
             [
              0.8888888888888888,
              "#fdca26"
             ],
             [
              1,
              "#f0f921"
             ]
            ],
            "type": "heatmap"
           }
          ],
          "heatmapgl": [
           {
            "colorbar": {
             "outlinewidth": 0,
             "ticks": ""
            },
            "colorscale": [
             [
              0,
              "#0d0887"
             ],
             [
              0.1111111111111111,
              "#46039f"
             ],
             [
              0.2222222222222222,
              "#7201a8"
             ],
             [
              0.3333333333333333,
              "#9c179e"
             ],
             [
              0.4444444444444444,
              "#bd3786"
             ],
             [
              0.5555555555555556,
              "#d8576b"
             ],
             [
              0.6666666666666666,
              "#ed7953"
             ],
             [
              0.7777777777777778,
              "#fb9f3a"
             ],
             [
              0.8888888888888888,
              "#fdca26"
             ],
             [
              1,
              "#f0f921"
             ]
            ],
            "type": "heatmapgl"
           }
          ],
          "histogram": [
           {
            "marker": {
             "pattern": {
              "fillmode": "overlay",
              "size": 10,
              "solidity": 0.2
             }
            },
            "type": "histogram"
           }
          ],
          "histogram2d": [
           {
            "colorbar": {
             "outlinewidth": 0,
             "ticks": ""
            },
            "colorscale": [
             [
              0,
              "#0d0887"
             ],
             [
              0.1111111111111111,
              "#46039f"
             ],
             [
              0.2222222222222222,
              "#7201a8"
             ],
             [
              0.3333333333333333,
              "#9c179e"
             ],
             [
              0.4444444444444444,
              "#bd3786"
             ],
             [
              0.5555555555555556,
              "#d8576b"
             ],
             [
              0.6666666666666666,
              "#ed7953"
             ],
             [
              0.7777777777777778,
              "#fb9f3a"
             ],
             [
              0.8888888888888888,
              "#fdca26"
             ],
             [
              1,
              "#f0f921"
             ]
            ],
            "type": "histogram2d"
           }
          ],
          "histogram2dcontour": [
           {
            "colorbar": {
             "outlinewidth": 0,
             "ticks": ""
            },
            "colorscale": [
             [
              0,
              "#0d0887"
             ],
             [
              0.1111111111111111,
              "#46039f"
             ],
             [
              0.2222222222222222,
              "#7201a8"
             ],
             [
              0.3333333333333333,
              "#9c179e"
             ],
             [
              0.4444444444444444,
              "#bd3786"
             ],
             [
              0.5555555555555556,
              "#d8576b"
             ],
             [
              0.6666666666666666,
              "#ed7953"
             ],
             [
              0.7777777777777778,
              "#fb9f3a"
             ],
             [
              0.8888888888888888,
              "#fdca26"
             ],
             [
              1,
              "#f0f921"
             ]
            ],
            "type": "histogram2dcontour"
           }
          ],
          "mesh3d": [
           {
            "colorbar": {
             "outlinewidth": 0,
             "ticks": ""
            },
            "type": "mesh3d"
           }
          ],
          "parcoords": [
           {
            "line": {
             "colorbar": {
              "outlinewidth": 0,
              "ticks": ""
             }
            },
            "type": "parcoords"
           }
          ],
          "pie": [
           {
            "automargin": true,
            "type": "pie"
           }
          ],
          "scatter": [
           {
            "fillpattern": {
             "fillmode": "overlay",
             "size": 10,
             "solidity": 0.2
            },
            "type": "scatter"
           }
          ],
          "scatter3d": [
           {
            "line": {
             "colorbar": {
              "outlinewidth": 0,
              "ticks": ""
             }
            },
            "marker": {
             "colorbar": {
              "outlinewidth": 0,
              "ticks": ""
             }
            },
            "type": "scatter3d"
           }
          ],
          "scattercarpet": [
           {
            "marker": {
             "colorbar": {
              "outlinewidth": 0,
              "ticks": ""
             }
            },
            "type": "scattercarpet"
           }
          ],
          "scattergeo": [
           {
            "marker": {
             "colorbar": {
              "outlinewidth": 0,
              "ticks": ""
             }
            },
            "type": "scattergeo"
           }
          ],
          "scattergl": [
           {
            "marker": {
             "colorbar": {
              "outlinewidth": 0,
              "ticks": ""
             }
            },
            "type": "scattergl"
           }
          ],
          "scattermapbox": [
           {
            "marker": {
             "colorbar": {
              "outlinewidth": 0,
              "ticks": ""
             }
            },
            "type": "scattermapbox"
           }
          ],
          "scatterpolar": [
           {
            "marker": {
             "colorbar": {
              "outlinewidth": 0,
              "ticks": ""
             }
            },
            "type": "scatterpolar"
           }
          ],
          "scatterpolargl": [
           {
            "marker": {
             "colorbar": {
              "outlinewidth": 0,
              "ticks": ""
             }
            },
            "type": "scatterpolargl"
           }
          ],
          "scatterternary": [
           {
            "marker": {
             "colorbar": {
              "outlinewidth": 0,
              "ticks": ""
             }
            },
            "type": "scatterternary"
           }
          ],
          "surface": [
           {
            "colorbar": {
             "outlinewidth": 0,
             "ticks": ""
            },
            "colorscale": [
             [
              0,
              "#0d0887"
             ],
             [
              0.1111111111111111,
              "#46039f"
             ],
             [
              0.2222222222222222,
              "#7201a8"
             ],
             [
              0.3333333333333333,
              "#9c179e"
             ],
             [
              0.4444444444444444,
              "#bd3786"
             ],
             [
              0.5555555555555556,
              "#d8576b"
             ],
             [
              0.6666666666666666,
              "#ed7953"
             ],
             [
              0.7777777777777778,
              "#fb9f3a"
             ],
             [
              0.8888888888888888,
              "#fdca26"
             ],
             [
              1,
              "#f0f921"
             ]
            ],
            "type": "surface"
           }
          ],
          "table": [
           {
            "cells": {
             "fill": {
              "color": "#EBF0F8"
             },
             "line": {
              "color": "white"
             }
            },
            "header": {
             "fill": {
              "color": "#C8D4E3"
             },
             "line": {
              "color": "white"
             }
            },
            "type": "table"
           }
          ]
         },
         "layout": {
          "annotationdefaults": {
           "arrowcolor": "#2a3f5f",
           "arrowhead": 0,
           "arrowwidth": 1
          },
          "autotypenumbers": "strict",
          "coloraxis": {
           "colorbar": {
            "outlinewidth": 0,
            "ticks": ""
           }
          },
          "colorscale": {
           "diverging": [
            [
             0,
             "#8e0152"
            ],
            [
             0.1,
             "#c51b7d"
            ],
            [
             0.2,
             "#de77ae"
            ],
            [
             0.3,
             "#f1b6da"
            ],
            [
             0.4,
             "#fde0ef"
            ],
            [
             0.5,
             "#f7f7f7"
            ],
            [
             0.6,
             "#e6f5d0"
            ],
            [
             0.7,
             "#b8e186"
            ],
            [
             0.8,
             "#7fbc41"
            ],
            [
             0.9,
             "#4d9221"
            ],
            [
             1,
             "#276419"
            ]
           ],
           "sequential": [
            [
             0,
             "#0d0887"
            ],
            [
             0.1111111111111111,
             "#46039f"
            ],
            [
             0.2222222222222222,
             "#7201a8"
            ],
            [
             0.3333333333333333,
             "#9c179e"
            ],
            [
             0.4444444444444444,
             "#bd3786"
            ],
            [
             0.5555555555555556,
             "#d8576b"
            ],
            [
             0.6666666666666666,
             "#ed7953"
            ],
            [
             0.7777777777777778,
             "#fb9f3a"
            ],
            [
             0.8888888888888888,
             "#fdca26"
            ],
            [
             1,
             "#f0f921"
            ]
           ],
           "sequentialminus": [
            [
             0,
             "#0d0887"
            ],
            [
             0.1111111111111111,
             "#46039f"
            ],
            [
             0.2222222222222222,
             "#7201a8"
            ],
            [
             0.3333333333333333,
             "#9c179e"
            ],
            [
             0.4444444444444444,
             "#bd3786"
            ],
            [
             0.5555555555555556,
             "#d8576b"
            ],
            [
             0.6666666666666666,
             "#ed7953"
            ],
            [
             0.7777777777777778,
             "#fb9f3a"
            ],
            [
             0.8888888888888888,
             "#fdca26"
            ],
            [
             1,
             "#f0f921"
            ]
           ]
          },
          "colorway": [
           "#636efa",
           "#EF553B",
           "#00cc96",
           "#ab63fa",
           "#FFA15A",
           "#19d3f3",
           "#FF6692",
           "#B6E880",
           "#FF97FF",
           "#FECB52"
          ],
          "font": {
           "color": "#2a3f5f"
          },
          "geo": {
           "bgcolor": "white",
           "lakecolor": "white",
           "landcolor": "#E5ECF6",
           "showlakes": true,
           "showland": true,
           "subunitcolor": "white"
          },
          "hoverlabel": {
           "align": "left"
          },
          "hovermode": "closest",
          "mapbox": {
           "style": "light"
          },
          "paper_bgcolor": "white",
          "plot_bgcolor": "#E5ECF6",
          "polar": {
           "angularaxis": {
            "gridcolor": "white",
            "linecolor": "white",
            "ticks": ""
           },
           "bgcolor": "#E5ECF6",
           "radialaxis": {
            "gridcolor": "white",
            "linecolor": "white",
            "ticks": ""
           }
          },
          "scene": {
           "xaxis": {
            "backgroundcolor": "#E5ECF6",
            "gridcolor": "white",
            "gridwidth": 2,
            "linecolor": "white",
            "showbackground": true,
            "ticks": "",
            "zerolinecolor": "white"
           },
           "yaxis": {
            "backgroundcolor": "#E5ECF6",
            "gridcolor": "white",
            "gridwidth": 2,
            "linecolor": "white",
            "showbackground": true,
            "ticks": "",
            "zerolinecolor": "white"
           },
           "zaxis": {
            "backgroundcolor": "#E5ECF6",
            "gridcolor": "white",
            "gridwidth": 2,
            "linecolor": "white",
            "showbackground": true,
            "ticks": "",
            "zerolinecolor": "white"
           }
          },
          "shapedefaults": {
           "line": {
            "color": "#2a3f5f"
           }
          },
          "ternary": {
           "aaxis": {
            "gridcolor": "white",
            "linecolor": "white",
            "ticks": ""
           },
           "baxis": {
            "gridcolor": "white",
            "linecolor": "white",
            "ticks": ""
           },
           "bgcolor": "#E5ECF6",
           "caxis": {
            "gridcolor": "white",
            "linecolor": "white",
            "ticks": ""
           }
          },
          "title": {
           "x": 0.05
          },
          "xaxis": {
           "automargin": true,
           "gridcolor": "white",
           "linecolor": "white",
           "ticks": "",
           "title": {
            "standoff": 15
           },
           "zerolinecolor": "white",
           "zerolinewidth": 2
          },
          "yaxis": {
           "automargin": true,
           "gridcolor": "white",
           "linecolor": "white",
           "ticks": "",
           "title": {
            "standoff": 15
           },
           "zerolinecolor": "white",
           "zerolinewidth": 2
          }
         }
        },
        "title": {
         "text": "Correct vs Predicted Data"
        },
        "xaxis": {
         "autorange": true,
         "range": [
          "2016-07-01",
          "2016-07-02 23:45"
         ],
         "title": {
          "text": "Timestamp"
         },
         "type": "date"
        },
        "yaxis": {
         "autorange": true,
         "range": [
          20.19062593248154,
          125.94811460706923
         ],
         "title": {
          "text": "Value"
         },
         "type": "linear"
        }
       }
      },
      "image/png": "[encoded data removed]",
      "text/html": [
       "<div>                            <div id=\"55920512-61a8-45f1-a0fc-214fd1be0d8c\" class=\"plotly-graph-div\" style=\"height:525px; width:100%;\"></div>            <script type=\"text/javascript\">                require([\"plotly\"], function(Plotly) {                    window.PLOTLYENV=window.PLOTLYENV || {};                                    if (document.getElementById(\"55920512-61a8-45f1-a0fc-214fd1be0d8c\")) {                    Plotly.newPlot(                        \"55920512-61a8-45f1-a0fc-214fd1be0d8c\",                        [{\"mode\":\"lines\",\"name\":\"Correct Data\",\"x\":[\"2016-07-01T00:00:00\",\"2016-07-01T00:15:00\",\"2016-07-01T00:30:00\",\"2016-07-01T00:45:00\",\"2016-07-01T01:00:00\",\"2016-07-01T01:15:00\",\"2016-07-01T01:30:00\",\"2016-07-01T01:45:00\",\"2016-07-01T02:00:00\",\"2016-07-01T02:15:00\",\"2016-07-01T02:30:00\",\"2016-07-01T02:45:00\",\"2016-07-01T03:00:00\",\"2016-07-01T03:15:00\",\"2016-07-01T03:30:00\",\"2016-07-01T03:45:00\",\"2016-07-01T04:00:00\",\"2016-07-01T04:15:00\",\"2016-07-01T04:30:00\",\"2016-07-01T04:45:00\",\"2016-07-01T05:00:00\",\"2016-07-01T05:15:00\",\"2016-07-01T05:30:00\",\"2016-07-01T05:45:00\",\"2016-07-01T06:00:00\",\"2016-07-01T06:15:00\",\"2016-07-01T06:30:00\",\"2016-07-01T06:45:00\",\"2016-07-01T07:00:00\",\"2016-07-01T07:15:00\",\"2016-07-01T07:30:00\",\"2016-07-01T07:45:00\",\"2016-07-01T08:00:00\",\"2016-07-01T08:15:00\",\"2016-07-01T08:30:00\",\"2016-07-01T08:45:00\",\"2016-07-01T09:00:00\",\"2016-07-01T09:15:00\",\"2016-07-01T09:30:00\",\"2016-07-01T09:45:00\",\"2016-07-01T10:00:00\",\"2016-07-01T10:15:00\",\"2016-07-01T10:30:00\",\"2016-07-01T10:45:00\",\"2016-07-01T11:00:00\",\"2016-07-01T11:15:00\",\"2016-07-01T11:30:00\",\"2016-07-01T11:45:00\",\"2016-07-01T12:00:00\",\"2016-07-01T12:15:00\",\"2016-07-01T12:30:00\",\"2016-07-01T12:45:00\",\"2016-07-01T13:00:00\",\"2016-07-01T13:15:00\",\"2016-07-01T13:30:00\",\"2016-07-01T13:45:00\",\"2016-07-01T14:00:00\",\"2016-07-01T14:15:00\",\"2016-07-01T14:30:00\",\"2016-07-01T14:45:00\",\"2016-07-01T15:00:00\",\"2016-07-01T15:15:00\",\"2016-07-01T15:30:00\",\"2016-07-01T15:45:00\",\"2016-07-01T16:00:00\",\"2016-07-01T16:15:00\",\"2016-07-01T16:30:00\",\"2016-07-01T16:45:00\",\"2016-07-01T17:00:00\",\"2016-07-01T17:15:00\",\"2016-07-01T17:30:00\",\"2016-07-01T17:45:00\",\"2016-07-01T18:00:00\",\"2016-07-01T18:15:00\",\"2016-07-01T18:30:00\",\"2016-07-01T18:45:00\",\"2016-07-01T19:00:00\",\"2016-07-01T19:15:00\",\"2016-07-01T19:30:00\",\"2016-07-01T19:45:00\",\"2016-07-01T20:00:00\",\"2016-07-01T20:15:00\",\"2016-07-01T20:30:00\",\"2016-07-01T20:45:00\",\"2016-07-01T21:00:00\",\"2016-07-01T21:15:00\",\"2016-07-01T21:30:00\",\"2016-07-01T21:45:00\",\"2016-07-01T22:00:00\",\"2016-07-01T22:15:00\",\"2016-07-01T22:30:00\",\"2016-07-01T22:45:00\",\"2016-07-01T23:00:00\",\"2016-07-01T23:15:00\",\"2016-07-01T23:30:00\",\"2016-07-01T23:45:00\",\"2016-07-02T00:00:00\",\"2016-07-02T00:15:00\",\"2016-07-02T00:30:00\",\"2016-07-02T00:45:00\",\"2016-07-02T01:00:00\",\"2016-07-02T01:15:00\",\"2016-07-02T01:30:00\",\"2016-07-02T01:45:00\",\"2016-07-02T02:00:00\",\"2016-07-02T02:15:00\",\"2016-07-02T02:30:00\",\"2016-07-02T02:45:00\",\"2016-07-02T03:00:00\",\"2016-07-02T03:15:00\",\"2016-07-02T03:30:00\",\"2016-07-02T03:45:00\",\"2016-07-02T04:00:00\",\"2016-07-02T04:15:00\",\"2016-07-02T04:30:00\",\"2016-07-02T04:45:00\",\"2016-07-02T05:00:00\",\"2016-07-02T05:15:00\",\"2016-07-02T05:30:00\",\"2016-07-02T05:45:00\",\"2016-07-02T06:00:00\",\"2016-07-02T06:15:00\",\"2016-07-02T06:30:00\",\"2016-07-02T06:45:00\",\"2016-07-02T07:00:00\",\"2016-07-02T07:15:00\",\"2016-07-02T07:30:00\",\"2016-07-02T07:45:00\",\"2016-07-02T08:00:00\",\"2016-07-02T08:15:00\",\"2016-07-02T08:30:00\",\"2016-07-02T08:45:00\",\"2016-07-02T09:00:00\",\"2016-07-02T09:15:00\",\"2016-07-02T09:30:00\",\"2016-07-02T09:45:00\",\"2016-07-02T10:00:00\",\"2016-07-02T10:15:00\",\"2016-07-02T10:30:00\",\"2016-07-02T10:45:00\",\"2016-07-02T11:00:00\",\"2016-07-02T11:15:00\",\"2016-07-02T11:30:00\",\"2016-07-02T11:45:00\",\"2016-07-02T12:00:00\",\"2016-07-02T12:15:00\",\"2016-07-02T12:30:00\",\"2016-07-02T12:45:00\",\"2016-07-02T13:00:00\",\"2016-07-02T13:15:00\",\"2016-07-02T13:30:00\",\"2016-07-02T13:45:00\",\"2016-07-02T14:00:00\",\"2016-07-02T14:15:00\",\"2016-07-02T14:30:00\",\"2016-07-02T14:45:00\",\"2016-07-02T15:00:00\",\"2016-07-02T15:15:00\",\"2016-07-02T15:30:00\",\"2016-07-02T15:45:00\",\"2016-07-02T16:00:00\",\"2016-07-02T16:15:00\",\"2016-07-02T16:30:00\",\"2016-07-02T16:45:00\",\"2016-07-02T17:00:00\",\"2016-07-02T17:15:00\",\"2016-07-02T17:30:00\",\"2016-07-02T17:45:00\",\"2016-07-02T18:00:00\",\"2016-07-02T18:15:00\",\"2016-07-02T18:30:00\",\"2016-07-02T18:45:00\",\"2016-07-02T19:00:00\",\"2016-07-02T19:15:00\",\"2016-07-02T19:30:00\",\"2016-07-02T19:45:00\",\"2016-07-02T20:00:00\",\"2016-07-02T20:15:00\",\"2016-07-02T20:30:00\",\"2016-07-02T20:45:00\",\"2016-07-02T21:00:00\",\"2016-07-02T21:15:00\",\"2016-07-02T21:30:00\",\"2016-07-02T21:45:00\",\"2016-07-02T22:00:00\",\"2016-07-02T22:15:00\",\"2016-07-02T22:30:00\",\"2016-07-02T22:45:00\",\"2016-07-02T23:00:00\",\"2016-07-02T23:15:00\",\"2016-07-02T23:30:00\",\"2016-07-02T23:45:00\"],\"y\":[38.6619987487793,38.22299957275391,37.34400177001953,37.124000549316406,37.124000549316406,36.90399932861328,36.90399932861328,36.46500015258789,36.46500015258789,36.46500015258789,35.80599975585937,34.92699813842773,33.60850143432617,32.94900131225586,32.5099983215332,32.290000915527344,31.850500106811523,31.631000518798828,31.410999298095703,30.97200012207031,30.53199958801269,30.53199958801269,30.75200080871582,30.3125,30.093000411987305,29.87299919128418,29.87299919128418,29.87299919128418,29.87299919128418,29.87299919128418,29.87299919128418,29.87299919128418,29.65299987792969,29.43350028991699,29.43350028991699,29.43350028991699,29.21349906921387,28.11549949645996,27.675500869750977,27.675500869750977,27.45599937438965,27.45599937438965,27.45599937438965,27.45599937438965,27.45599937438965,27.45599937438965,27.236499786376957,27.236499786376957,27.236499786376957,27.236499786376957,26.79700088500977,26.57699966430664,26.57699966430664,26.79700088500977,26.79700088500977,26.79700088500977,26.79700088500977,26.79700088500977,26.79700088500977,26.79700088500977,26.79700088500977,26.79700088500977,26.79700088500977,26.79700088500977,26.79700088500977,26.57749938964844,26.57749938964844,26.57749938964844,26.57749938964844,26.57749938964844,26.57749938964844,26.57749938964844,26.57749938964844,26.57749938964844,26.357500076293945,26.13750076293945,26.13750076293945,26.13750076293945,26.13750076293945,26.13750076293945,26.13750076293945,26.13750076293945,26.13750076293945,26.13750076293945,25.69849967956543,25.69849967956543,25.69849967956543,25.917999267578125,25.917999267578125,25.917999267578125,25.917999267578125,25.917999267578125,25.917999267578125,25.917999267578125,25.917999267578125,25.917999267578125,25.917999267578125,25.917999267578125,25.917999267578125,26.13800048828125,26.357500076293945,26.357500076293945,26.357500076293945,26.13750076293945,26.13750076293945,25.917999267578125,25.69849967956543,25.69849967956543,25.69849967956543,25.69849967956543,25.69849967956543,25.69849967956543,25.69849967956543,25.917999267578125,25.917999267578125,25.917999267578125,25.917999267578125,25.917999267578125,25.917999267578125,25.917999267578125,25.917999267578125,25.917999267578125,25.917999267578125,25.917999267578125,25.917999267578125,25.478500366210927,25.478500366210927,25.478500366210927,25.478500366210927,25.478500366210927,25.478500366210927,25.697999954223643,25.697999954223643,25.697999954223643,25.697999954223643,25.917999267578125,25.917999267578125,25.917999267578125,25.917999267578125,25.917999267578125,25.917999267578125,25.917999267578125,26.13800048828125,26.357500076293945,26.13750076293945,26.13750076293945,26.357500076293945,26.357500076293945,26.357500076293945,26.357500076293945,26.357500076293945,26.357500076293945,26.57749938964844,26.79700088500977,26.79700088500977,27.236499786376957,27.45599937438965,27.45599937438965,27.45599937438965,27.67600059509277,27.67600059509277,27.67600059509277,27.89550018310547,28.11549949645996,28.11549949645996,28.334999084472656,28.334999084472656,28.554500579833984,28.554500579833984,28.77449989318848,28.77449989318848,28.77449989318848,28.77449989318848,28.99399948120117,29.21349906921387,29.43350028991699,29.653499603271484,29.653499603271484,29.653499603271484,29.43350028991699,29.21349906921387,28.77449989318848,28.334999084472656,28.334999084472656,27.89550018310547,27.89550018310547,27.675500869750977,27.45599937438965,27.236499786376957,27.236499786376957,27.236499786376957,27.236499786376957],\"type\":\"scatter\"},{\"line\":{\"color\":\"orange\",\"dash\":\"dot\",\"width\":4},\"mode\":\"lines\",\"name\":\"Used for Prediction\",\"x\":[\"2016-07-01T00:00:00\",\"2016-07-01T00:15:00\",\"2016-07-01T00:30:00\",\"2016-07-01T00:45:00\",\"2016-07-01T01:00:00\",\"2016-07-01T01:15:00\",\"2016-07-01T01:30:00\",\"2016-07-01T01:45:00\",\"2016-07-01T02:00:00\",\"2016-07-01T02:15:00\",\"2016-07-01T02:30:00\",\"2016-07-01T02:45:00\",\"2016-07-01T03:00:00\",\"2016-07-01T03:15:00\",\"2016-07-01T03:30:00\",\"2016-07-01T03:45:00\",\"2016-07-01T04:00:00\",\"2016-07-01T04:15:00\",\"2016-07-01T04:30:00\",\"2016-07-01T04:45:00\",\"2016-07-01T05:00:00\",\"2016-07-01T05:15:00\",\"2016-07-01T05:30:00\",\"2016-07-01T05:45:00\",\"2016-07-01T06:00:00\",\"2016-07-01T06:15:00\",\"2016-07-01T06:30:00\",\"2016-07-01T06:45:00\",\"2016-07-01T07:00:00\",\"2016-07-01T07:15:00\",\"2016-07-01T07:30:00\",\"2016-07-01T07:45:00\",\"2016-07-01T08:00:00\",\"2016-07-01T08:15:00\",\"2016-07-01T08:30:00\",\"2016-07-01T08:45:00\",\"2016-07-01T09:00:00\",\"2016-07-01T09:15:00\",\"2016-07-01T09:30:00\",\"2016-07-01T09:45:00\",\"2016-07-01T10:00:00\",\"2016-07-01T10:15:00\",\"2016-07-01T10:30:00\",\"2016-07-01T10:45:00\",\"2016-07-01T11:00:00\",\"2016-07-01T11:15:00\",\"2016-07-01T11:30:00\",\"2016-07-01T11:45:00\",\"2016-07-01T12:00:00\",\"2016-07-01T12:15:00\",\"2016-07-01T12:30:00\",\"2016-07-01T12:45:00\",\"2016-07-01T13:00:00\",\"2016-07-01T13:15:00\",\"2016-07-01T13:30:00\",\"2016-07-01T13:45:00\",\"2016-07-01T14:00:00\",\"2016-07-01T14:15:00\",\"2016-07-01T14:30:00\",\"2016-07-01T14:45:00\",\"2016-07-01T15:00:00\",\"2016-07-01T15:15:00\",\"2016-07-01T15:30:00\",\"2016-07-01T15:45:00\",\"2016-07-01T16:00:00\",\"2016-07-01T16:15:00\",\"2016-07-01T16:30:00\",\"2016-07-01T16:45:00\",\"2016-07-01T17:00:00\",\"2016-07-01T17:15:00\",\"2016-07-01T17:30:00\",\"2016-07-01T17:45:00\",\"2016-07-01T18:00:00\",\"2016-07-01T18:15:00\",\"2016-07-01T18:30:00\",\"2016-07-01T18:45:00\",\"2016-07-01T19:00:00\",\"2016-07-01T19:15:00\",\"2016-07-01T19:30:00\",\"2016-07-01T19:45:00\",\"2016-07-01T20:00:00\",\"2016-07-01T20:15:00\",\"2016-07-01T20:30:00\",\"2016-07-01T20:45:00\",\"2016-07-01T21:00:00\",\"2016-07-01T21:15:00\",\"2016-07-01T21:30:00\",\"2016-07-01T21:45:00\",\"2016-07-01T22:00:00\",\"2016-07-01T22:15:00\",\"2016-07-01T22:30:00\",\"2016-07-01T22:45:00\",\"2016-07-01T23:00:00\",\"2016-07-01T23:15:00\",\"2016-07-01T23:30:00\"],\"y\":[38.6619987487793,38.22299957275391,37.34400177001953,37.124000549316406,37.124000549316406,36.90399932861328,36.90399932861328,36.46500015258789,36.46500015258789,36.46500015258789,35.80599975585937,34.92699813842773,33.60850143432617,32.94900131225586,32.5099983215332,32.290000915527344,31.850500106811523,31.631000518798828,31.410999298095703,30.97200012207031,30.53199958801269,30.53199958801269,30.75200080871582,30.3125,30.093000411987305,29.87299919128418,29.87299919128418,29.87299919128418,29.87299919128418,29.87299919128418,29.87299919128418,29.87299919128418,29.65299987792969,29.43350028991699,29.43350028991699,29.43350028991699,29.21349906921387,28.11549949645996,27.675500869750977,27.675500869750977,27.45599937438965,27.45599937438965,27.45599937438965,27.45599937438965,27.45599937438965,27.45599937438965,27.236499786376957,27.236499786376957,27.236499786376957,27.236499786376957,26.79700088500977,26.57699966430664,26.57699966430664,26.79700088500977,26.79700088500977,26.79700088500977,26.79700088500977,26.79700088500977,26.79700088500977,26.79700088500977,26.79700088500977,26.79700088500977,26.79700088500977,26.79700088500977,26.79700088500977,26.57749938964844,26.57749938964844,26.57749938964844,26.57749938964844,26.57749938964844,26.57749938964844,26.57749938964844,26.57749938964844,26.57749938964844,26.357500076293945,26.13750076293945,26.13750076293945,26.13750076293945,26.13750076293945,26.13750076293945,26.13750076293945,26.13750076293945,26.13750076293945,26.13750076293945,25.69849967956543,25.69849967956543,25.69849967956543,25.917999267578125,25.917999267578125,25.917999267578125,25.917999267578125,25.917999267578125,25.917999267578125,25.917999267578125,25.917999267578125],\"type\":\"scatter\"},{\"line\":{\"color\":\"red\"},\"mode\":\"lines\",\"name\":\"Predicted Data\",\"x\":[\"2016-07-02T00:00:00\",\"2016-07-02T00:15:00\",\"2016-07-02T00:30:00\",\"2016-07-02T00:45:00\",\"2016-07-02T01:00:00\",\"2016-07-02T01:15:00\",\"2016-07-02T01:30:00\",\"2016-07-02T01:45:00\",\"2016-07-02T02:00:00\",\"2016-07-02T02:15:00\",\"2016-07-02T02:30:00\",\"2016-07-02T02:45:00\",\"2016-07-02T03:00:00\",\"2016-07-02T03:15:00\",\"2016-07-02T03:30:00\",\"2016-07-02T03:45:00\",\"2016-07-02T04:00:00\",\"2016-07-02T04:15:00\",\"2016-07-02T04:30:00\",\"2016-07-02T04:45:00\",\"2016-07-02T05:00:00\",\"2016-07-02T05:15:00\",\"2016-07-02T05:30:00\",\"2016-07-02T05:45:00\",\"2016-07-02T06:00:00\",\"2016-07-02T06:15:00\",\"2016-07-02T06:30:00\",\"2016-07-02T06:45:00\",\"2016-07-02T07:00:00\",\"2016-07-02T07:15:00\",\"2016-07-02T07:30:00\",\"2016-07-02T07:45:00\",\"2016-07-02T08:00:00\",\"2016-07-02T08:15:00\",\"2016-07-02T08:30:00\",\"2016-07-02T08:45:00\",\"2016-07-02T09:00:00\",\"2016-07-02T09:15:00\",\"2016-07-02T09:30:00\",\"2016-07-02T09:45:00\",\"2016-07-02T10:00:00\",\"2016-07-02T10:15:00\",\"2016-07-02T10:30:00\",\"2016-07-02T10:45:00\",\"2016-07-02T11:00:00\",\"2016-07-02T11:15:00\",\"2016-07-02T11:30:00\",\"2016-07-02T11:45:00\",\"2016-07-02T12:00:00\",\"2016-07-02T12:15:00\",\"2016-07-02T12:30:00\",\"2016-07-02T12:45:00\",\"2016-07-02T13:00:00\",\"2016-07-02T13:15:00\",\"2016-07-02T13:30:00\",\"2016-07-02T13:45:00\",\"2016-07-02T14:00:00\",\"2016-07-02T14:15:00\",\"2016-07-02T14:30:00\",\"2016-07-02T14:45:00\",\"2016-07-02T15:00:00\",\"2016-07-02T15:15:00\",\"2016-07-02T15:30:00\",\"2016-07-02T15:45:00\",\"2016-07-02T16:00:00\",\"2016-07-02T16:15:00\",\"2016-07-02T16:30:00\",\"2016-07-02T16:45:00\",\"2016-07-02T17:00:00\",\"2016-07-02T17:15:00\",\"2016-07-02T17:30:00\",\"2016-07-02T17:45:00\",\"2016-07-02T18:00:00\",\"2016-07-02T18:15:00\",\"2016-07-02T18:30:00\",\"2016-07-02T18:45:00\",\"2016-07-02T19:00:00\",\"2016-07-02T19:15:00\",\"2016-07-02T19:30:00\",\"2016-07-02T19:45:00\",\"2016-07-02T20:00:00\",\"2016-07-02T20:15:00\",\"2016-07-02T20:30:00\",\"2016-07-02T20:45:00\",\"2016-07-02T21:00:00\",\"2016-07-02T21:15:00\",\"2016-07-02T21:30:00\",\"2016-07-02T21:45:00\",\"2016-07-02T22:00:00\",\"2016-07-02T22:15:00\",\"2016-07-02T22:30:00\",\"2016-07-02T22:45:00\",\"2016-07-02T23:00:00\",\"2016-07-02T23:15:00\",\"2016-07-02T23:30:00\",\"2016-07-02T23:45:00\"],\"y\":[117.58578491210938,117.75199890136719,118.94739532470703,118.79786682128906,117.71627807617188,116.19010162353516,115.58253479003906,117.53365325927734,116.79459381103516,114.09852600097656,118.71216583251953,119.38877868652344,119.21048736572266,116.94279479980469,117.85267639160156,116.47310638427734,116.62870788574219,116.43843841552734,117.30706787109375,115.09244537353516,117.33988952636719,116.09221649169922,115.32077026367188,116.95429229736328,117.08241271972656,114.35780334472656,114.22789001464844,113.63550567626953,111.42255401611328,106.2852554321289,106.65061950683594,106.37596893310547,101.4599609375,99.82384490966797,92.9247817993164,92.66231536865234,90.76791381835938,85.68689727783203,82.71488189697266,82.15239715576172,82.98616790771484,78.71051025390625,77.05156707763672,73.65621948242188,72.72808074951172,65.52440643310547,65.22373962402344,64.13196563720703,59.76210021972656,56.70507049560547,52.81578063964844,56.0810432434082,53.20289611816406,53.93680953979492,52.355342864990234,51.984806060791016,47.38014221191406,46.7598876953125,44.725013732910156,48.323707580566406,46.90936279296875,47.18324279785156,47.2746467590332,47.711795806884766,47.91118240356445,50.16130065917969,49.9686164855957,50.18272399902344,48.92887496948242,51.4658317565918,51.9640998840332,52.476600646972656,51.59761428833008,56.966007232666016,58.29490280151367,62.165401458740234,66.48120880126953,65.64118957519531,71.31626892089844,77.65238189697266,78.60868835449219,83.59138488769531,89.24889373779297,94.95368957519531,96.21592712402344,95.84613037109375,102.03986358642578,105.54475402832031,106.78996276855469,108.52079772949219,112.18050384521484,112.42779541015625,114.42533874511719,117.49243927001953,120.66024017333984,111.65145874023438],\"type\":\"scatter\"}],                        {\"template\":{\"data\":{\"histogram2dcontour\":[{\"type\":\"histogram2dcontour\",\"colorbar\":{\"outlinewidth\":0,\"ticks\":\"\"},\"colorscale\":[[0.0,\"#0d0887\"],[0.1111111111111111,\"#46039f\"],[0.2222222222222222,\"#7201a8\"],[0.3333333333333333,\"#9c179e\"],[0.4444444444444444,\"#bd3786\"],[0.5555555555555556,\"#d8576b\"],[0.6666666666666666,\"#ed7953\"],[0.7777777777777778,\"#fb9f3a\"],[0.8888888888888888,\"#fdca26\"],[1.0,\"#f0f921\"]]}],\"choropleth\":[{\"type\":\"choropleth\",\"colorbar\":{\"outlinewidth\":0,\"ticks\":\"\"}}],\"histogram2d\":[{\"type\":\"histogram2d\",\"colorbar\":{\"outlinewidth\":0,\"ticks\":\"\"},\"colorscale\":[[0.0,\"#0d0887\"],[0.1111111111111111,\"#46039f\"],[0.2222222222222222,\"#7201a8\"],[0.3333333333333333,\"#9c179e\"],[0.4444444444444444,\"#bd3786\"],[0.5555555555555556,\"#d8576b\"],[0.6666666666666666,\"#ed7953\"],[0.7777777777777778,\"#fb9f3a\"],[0.8888888888888888,\"#fdca26\"],[1.0,\"#f0f921\"]]}],\"heatmap\":[{\"type\":\"heatmap\",\"colorbar\":{\"outlinewidth\":0,\"ticks\":\"\"},\"colorscale\":[[0.0,\"#0d0887\"],[0.1111111111111111,\"#46039f\"],[0.2222222222222222,\"#7201a8\"],[0.3333333333333333,\"#9c179e\"],[0.4444444444444444,\"#bd3786\"],[0.5555555555555556,\"#d8576b\"],[0.6666666666666666,\"#ed7953\"],[0.7777777777777778,\"#fb9f3a\"],[0.8888888888888888,\"#fdca26\"],[1.0,\"#f0f921\"]]}],\"heatmapgl\":[{\"type\":\"heatmapgl\",\"colorbar\":{\"outlinewidth\":0,\"ticks\":\"\"},\"colorscale\":[[0.0,\"#0d0887\"],[0.1111111111111111,\"#46039f\"],[0.2222222222222222,\"#7201a8\"],[0.3333333333333333,\"#9c179e\"],[0.4444444444444444,\"#bd3786\"],[0.5555555555555556,\"#d8576b\"],[0.6666666666666666,\"#ed7953\"],[0.7777777777777778,\"#fb9f3a\"],[0.8888888888888888,\"#fdca26\"],[1.0,\"#f0f921\"]]}],\"contourcarpet\":[{\"type\":\"contourcarpet\",\"colorbar\":{\"outlinewidth\":0,\"ticks\":\"\"}}],\"contour\":[{\"type\":\"contour\",\"colorbar\":{\"outlinewidth\":0,\"ticks\":\"\"},\"colorscale\":[[0.0,\"#0d0887\"],[0.1111111111111111,\"#46039f\"],[0.2222222222222222,\"#7201a8\"],[0.3333333333333333,\"#9c179e\"],[0.4444444444444444,\"#bd3786\"],[0.5555555555555556,\"#d8576b\"],[0.6666666666666666,\"#ed7953\"],[0.7777777777777778,\"#fb9f3a\"],[0.8888888888888888,\"#fdca26\"],[1.0,\"#f0f921\"]]}],\"surface\":[{\"type\":\"surface\",\"colorbar\":{\"outlinewidth\":0,\"ticks\":\"\"},\"colorscale\":[[0.0,\"#0d0887\"],[0.1111111111111111,\"#46039f\"],[0.2222222222222222,\"#7201a8\"],[0.3333333333333333,\"#9c179e\"],[0.4444444444444444,\"#bd3786\"],[0.5555555555555556,\"#d8576b\"],[0.6666666666666666,\"#ed7953\"],[0.7777777777777778,\"#fb9f3a\"],[0.8888888888888888,\"#fdca26\"],[1.0,\"#f0f921\"]]}],\"mesh3d\":[{\"type\":\"mesh3d\",\"colorbar\":{\"outlinewidth\":0,\"ticks\":\"\"}}],\"scatter\":[{\"fillpattern\":{\"fillmode\":\"overlay\",\"size\":10,\"solidity\":0.2},\"type\":\"scatter\"}],\"parcoords\":[{\"type\":\"parcoords\",\"line\":{\"colorbar\":{\"outlinewidth\":0,\"ticks\":\"\"}}}],\"scatterpolargl\":[{\"type\":\"scatterpolargl\",\"marker\":{\"colorbar\":{\"outlinewidth\":0,\"ticks\":\"\"}}}],\"bar\":[{\"error_x\":{\"color\":\"#2a3f5f\"},\"error_y\":{\"color\":\"#2a3f5f\"},\"marker\":{\"line\":{\"color\":\"#E5ECF6\",\"width\":0.5},\"pattern\":{\"fillmode\":\"overlay\",\"size\":10,\"solidity\":0.2}},\"type\":\"bar\"}],\"scattergeo\":[{\"type\":\"scattergeo\",\"marker\":{\"colorbar\":{\"outlinewidth\":0,\"ticks\":\"\"}}}],\"scatterpolar\":[{\"type\":\"scatterpolar\",\"marker\":{\"colorbar\":{\"outlinewidth\":0,\"ticks\":\"\"}}}],\"histogram\":[{\"marker\":{\"pattern\":{\"fillmode\":\"overlay\",\"size\":10,\"solidity\":0.2}},\"type\":\"histogram\"}],\"scattergl\":[{\"type\":\"scattergl\",\"marker\":{\"colorbar\":{\"outlinewidth\":0,\"ticks\":\"\"}}}],\"scatter3d\":[{\"type\":\"scatter3d\",\"line\":{\"colorbar\":{\"outlinewidth\":0,\"ticks\":\"\"}},\"marker\":{\"colorbar\":{\"outlinewidth\":0,\"ticks\":\"\"}}}],\"scattermapbox\":[{\"type\":\"scattermapbox\",\"marker\":{\"colorbar\":{\"outlinewidth\":0,\"ticks\":\"\"}}}],\"scatterternary\":[{\"type\":\"scatterternary\",\"marker\":{\"colorbar\":{\"outlinewidth\":0,\"ticks\":\"\"}}}],\"scattercarpet\":[{\"type\":\"scattercarpet\",\"marker\":{\"colorbar\":{\"outlinewidth\":0,\"ticks\":\"\"}}}],\"carpet\":[{\"aaxis\":{\"endlinecolor\":\"#2a3f5f\",\"gridcolor\":\"white\",\"linecolor\":\"white\",\"minorgridcolor\":\"white\",\"startlinecolor\":\"#2a3f5f\"},\"baxis\":{\"endlinecolor\":\"#2a3f5f\",\"gridcolor\":\"white\",\"linecolor\":\"white\",\"minorgridcolor\":\"white\",\"startlinecolor\":\"#2a3f5f\"},\"type\":\"carpet\"}],\"table\":[{\"cells\":{\"fill\":{\"color\":\"#EBF0F8\"},\"line\":{\"color\":\"white\"}},\"header\":{\"fill\":{\"color\":\"#C8D4E3\"},\"line\":{\"color\":\"white\"}},\"type\":\"table\"}],\"barpolar\":[{\"marker\":{\"line\":{\"color\":\"#E5ECF6\",\"width\":0.5},\"pattern\":{\"fillmode\":\"overlay\",\"size\":10,\"solidity\":0.2}},\"type\":\"barpolar\"}],\"pie\":[{\"automargin\":true,\"type\":\"pie\"}]},\"layout\":{\"autotypenumbers\":\"strict\",\"colorway\":[\"#636efa\",\"#EF553B\",\"#00cc96\",\"#ab63fa\",\"#FFA15A\",\"#19d3f3\",\"#FF6692\",\"#B6E880\",\"#FF97FF\",\"#FECB52\"],\"font\":{\"color\":\"#2a3f5f\"},\"hovermode\":\"closest\",\"hoverlabel\":{\"align\":\"left\"},\"paper_bgcolor\":\"white\",\"plot_bgcolor\":\"#E5ECF6\",\"polar\":{\"bgcolor\":\"#E5ECF6\",\"angularaxis\":{\"gridcolor\":\"white\",\"linecolor\":\"white\",\"ticks\":\"\"},\"radialaxis\":{\"gridcolor\":\"white\",\"linecolor\":\"white\",\"ticks\":\"\"}},\"ternary\":{\"bgcolor\":\"#E5ECF6\",\"aaxis\":{\"gridcolor\":\"white\",\"linecolor\":\"white\",\"ticks\":\"\"},\"baxis\":{\"gridcolor\":\"white\",\"linecolor\":\"white\",\"ticks\":\"\"},\"caxis\":{\"gridcolor\":\"white\",\"linecolor\":\"white\",\"ticks\":\"\"}},\"coloraxis\":{\"colorbar\":{\"outlinewidth\":0,\"ticks\":\"\"}},\"colorscale\":{\"sequential\":[[0.0,\"#0d0887\"],[0.1111111111111111,\"#46039f\"],[0.2222222222222222,\"#7201a8\"],[0.3333333333333333,\"#9c179e\"],[0.4444444444444444,\"#bd3786\"],[0.5555555555555556,\"#d8576b\"],[0.6666666666666666,\"#ed7953\"],[0.7777777777777778,\"#fb9f3a\"],[0.8888888888888888,\"#fdca26\"],[1.0,\"#f0f921\"]],\"sequentialminus\":[[0.0,\"#0d0887\"],[0.1111111111111111,\"#46039f\"],[0.2222222222222222,\"#7201a8\"],[0.3333333333333333,\"#9c179e\"],[0.4444444444444444,\"#bd3786\"],[0.5555555555555556,\"#d8576b\"],[0.6666666666666666,\"#ed7953\"],[0.7777777777777778,\"#fb9f3a\"],[0.8888888888888888,\"#fdca26\"],[1.0,\"#f0f921\"]],\"diverging\":[[0,\"#8e0152\"],[0.1,\"#c51b7d\"],[0.2,\"#de77ae\"],[0.3,\"#f1b6da\"],[0.4,\"#fde0ef\"],[0.5,\"#f7f7f7\"],[0.6,\"#e6f5d0\"],[0.7,\"#b8e186\"],[0.8,\"#7fbc41\"],[0.9,\"#4d9221\"],[1,\"#276419\"]]},\"xaxis\":{\"gridcolor\":\"white\",\"linecolor\":\"white\",\"ticks\":\"\",\"title\":{\"standoff\":15},\"zerolinecolor\":\"white\",\"automargin\":true,\"zerolinewidth\":2},\"yaxis\":{\"gridcolor\":\"white\",\"linecolor\":\"white\",\"ticks\":\"\",\"title\":{\"standoff\":15},\"zerolinecolor\":\"white\",\"automargin\":true,\"zerolinewidth\":2},\"scene\":{\"xaxis\":{\"backgroundcolor\":\"#E5ECF6\",\"gridcolor\":\"white\",\"linecolor\":\"white\",\"showbackground\":true,\"ticks\":\"\",\"zerolinecolor\":\"white\",\"gridwidth\":2},\"yaxis\":{\"backgroundcolor\":\"#E5ECF6\",\"gridcolor\":\"white\",\"linecolor\":\"white\",\"showbackground\":true,\"ticks\":\"\",\"zerolinecolor\":\"white\",\"gridwidth\":2},\"zaxis\":{\"backgroundcolor\":\"#E5ECF6\",\"gridcolor\":\"white\",\"linecolor\":\"white\",\"showbackground\":true,\"ticks\":\"\",\"zerolinecolor\":\"white\",\"gridwidth\":2}},\"shapedefaults\":{\"line\":{\"color\":\"#2a3f5f\"}},\"annotationdefaults\":{\"arrowcolor\":\"#2a3f5f\",\"arrowhead\":0,\"arrowwidth\":1},\"geo\":{\"bgcolor\":\"white\",\"landcolor\":\"#E5ECF6\",\"subunitcolor\":\"white\",\"showland\":true,\"showlakes\":true,\"lakecolor\":\"white\"},\"title\":{\"x\":0.05},\"mapbox\":{\"style\":\"light\"}}},\"legend\":{\"yanchor\":\"top\",\"y\":0.99,\"xanchor\":\"left\",\"x\":0.01},\"title\":{\"text\":\"Correct vs Predicted Data\"},\"xaxis\":{\"title\":{\"text\":\"Timestamp\"}},\"yaxis\":{\"title\":{\"text\":\"Value\"}}},                        {\"responsive\": true}                    ).then(function(){\n",
       "                            \n",
       "var gd = document.getElementById('55920512-61a8-45f1-a0fc-214fd1be0d8c');\n",
       "var x = new MutationObserver(function (mutations, observer) {{\n",
       "        var display = window.getComputedStyle(gd).display;\n",
       "        if (!display || display === 'none') {{\n",
       "            console.log([gd, 'removed!']);\n",
       "            Plotly.purge(gd);\n",
       "            observer.disconnect();\n",
       "        }}\n",
       "}});\n",
       "\n",
       "// Listen for the removal of the full notebook cells\n",
       "var notebookContainer = gd.closest('#notebook-container');\n",
       "if (notebookContainer) {{\n",
       "    x.observe(notebookContainer, {childList: true});\n",
       "}}\n",
       "\n",
       "// Listen for the clearing of the current output cell\n",
       "var outputEl = gd.closest('.output');\n",
       "if (outputEl) {{\n",
       "    x.observe(outputEl, {childList: true});\n",
       "}}\n",
       "\n",
       "                        })                };                });            </script>        </div>"
      ]
     },
     "metadata": {},
     "output_type": "display_data"
    }
   ],
   "source": [
    "fig.update_layout(title='Correct vs Predicted Data',\n",
    "                  xaxis_title='Timestamp',\n",
    "                  yaxis_title='Value',\n",
    "                  legend=dict(yanchor=\"top\", y=0.99, xanchor=\"left\", x=0.01))"
   ]
  },
  {
   "cell_type": "code",
   "execution_count": 220,
   "id": "e2168744-9bf0-42b0-8353-6465a4992ab8",
   "metadata": {},
   "outputs": [
    {
     "data": {
      "application/vnd.plotly.v1+json": {
       "config": {
        "plotlyServerURL": "https://plot.ly"
       },
       "data": [
        {
         "mode": "lines",
         "name": "Correct Data",
         "type": "scatter",
         "x": [
          "2016-07-01T00:00:00",
          "2016-07-01T00:15:00",
          "2016-07-01T00:30:00",
          "2016-07-01T00:45:00",
          "2016-07-01T01:00:00",
          "2016-07-01T01:15:00",
          "2016-07-01T01:30:00",
          "2016-07-01T01:45:00",
          "2016-07-01T02:00:00",
          "2016-07-01T02:15:00",
          "2016-07-01T02:30:00",
          "2016-07-01T02:45:00",
          "2016-07-01T03:00:00",
          "2016-07-01T03:15:00",
          "2016-07-01T03:30:00",
          "2016-07-01T03:45:00",
          "2016-07-01T04:00:00",
          "2016-07-01T04:15:00",
          "2016-07-01T04:30:00",
          "2016-07-01T04:45:00",
          "2016-07-01T05:00:00",
          "2016-07-01T05:15:00",
          "2016-07-01T05:30:00",
          "2016-07-01T05:45:00",
          "2016-07-01T06:00:00",
          "2016-07-01T06:15:00",
          "2016-07-01T06:30:00",
          "2016-07-01T06:45:00",
          "2016-07-01T07:00:00",
          "2016-07-01T07:15:00",
          "2016-07-01T07:30:00",
          "2016-07-01T07:45:00",
          "2016-07-01T08:00:00",
          "2016-07-01T08:15:00",
          "2016-07-01T08:30:00",
          "2016-07-01T08:45:00",
          "2016-07-01T09:00:00",
          "2016-07-01T09:15:00",
          "2016-07-01T09:30:00",
          "2016-07-01T09:45:00",
          "2016-07-01T10:00:00",
          "2016-07-01T10:15:00",
          "2016-07-01T10:30:00",
          "2016-07-01T10:45:00",
          "2016-07-01T11:00:00",
          "2016-07-01T11:15:00",
          "2016-07-01T11:30:00",
          "2016-07-01T11:45:00",
          "2016-07-01T12:00:00",
          "2016-07-01T12:15:00",
          "2016-07-01T12:30:00",
          "2016-07-01T12:45:00",
          "2016-07-01T13:00:00",
          "2016-07-01T13:15:00",
          "2016-07-01T13:30:00",
          "2016-07-01T13:45:00",
          "2016-07-01T14:00:00",
          "2016-07-01T14:15:00",
          "2016-07-01T14:30:00",
          "2016-07-01T14:45:00",
          "2016-07-01T15:00:00",
          "2016-07-01T15:15:00",
          "2016-07-01T15:30:00",
          "2016-07-01T15:45:00",
          "2016-07-01T16:00:00",
          "2016-07-01T16:15:00",
          "2016-07-01T16:30:00",
          "2016-07-01T16:45:00",
          "2016-07-01T17:00:00",
          "2016-07-01T17:15:00",
          "2016-07-01T17:30:00",
          "2016-07-01T17:45:00",
          "2016-07-01T18:00:00",
          "2016-07-01T18:15:00",
          "2016-07-01T18:30:00",
          "2016-07-01T18:45:00",
          "2016-07-01T19:00:00",
          "2016-07-01T19:15:00",
          "2016-07-01T19:30:00",
          "2016-07-01T19:45:00",
          "2016-07-01T20:00:00",
          "2016-07-01T20:15:00",
          "2016-07-01T20:30:00",
          "2016-07-01T20:45:00",
          "2016-07-01T21:00:00",
          "2016-07-01T21:15:00",
          "2016-07-01T21:30:00",
          "2016-07-01T21:45:00",
          "2016-07-01T22:00:00",
          "2016-07-01T22:15:00",
          "2016-07-01T22:30:00",
          "2016-07-01T22:45:00",
          "2016-07-01T23:00:00",
          "2016-07-01T23:15:00",
          "2016-07-01T23:30:00",
          "2016-07-01T23:45:00",
          "2016-07-02T00:00:00",
          "2016-07-02T00:15:00",
          "2016-07-02T00:30:00",
          "2016-07-02T00:45:00",
          "2016-07-02T01:00:00",
          "2016-07-02T01:15:00",
          "2016-07-02T01:30:00",
          "2016-07-02T01:45:00",
          "2016-07-02T02:00:00",
          "2016-07-02T02:15:00",
          "2016-07-02T02:30:00",
          "2016-07-02T02:45:00",
          "2016-07-02T03:00:00",
          "2016-07-02T03:15:00",
          "2016-07-02T03:30:00",
          "2016-07-02T03:45:00",
          "2016-07-02T04:00:00",
          "2016-07-02T04:15:00",
          "2016-07-02T04:30:00",
          "2016-07-02T04:45:00",
          "2016-07-02T05:00:00",
          "2016-07-02T05:15:00",
          "2016-07-02T05:30:00",
          "2016-07-02T05:45:00",
          "2016-07-02T06:00:00",
          "2016-07-02T06:15:00",
          "2016-07-02T06:30:00",
          "2016-07-02T06:45:00",
          "2016-07-02T07:00:00",
          "2016-07-02T07:15:00",
          "2016-07-02T07:30:00",
          "2016-07-02T07:45:00",
          "2016-07-02T08:00:00",
          "2016-07-02T08:15:00",
          "2016-07-02T08:30:00",
          "2016-07-02T08:45:00",
          "2016-07-02T09:00:00",
          "2016-07-02T09:15:00",
          "2016-07-02T09:30:00",
          "2016-07-02T09:45:00",
          "2016-07-02T10:00:00",
          "2016-07-02T10:15:00",
          "2016-07-02T10:30:00",
          "2016-07-02T10:45:00",
          "2016-07-02T11:00:00",
          "2016-07-02T11:15:00",
          "2016-07-02T11:30:00",
          "2016-07-02T11:45:00",
          "2016-07-02T12:00:00",
          "2016-07-02T12:15:00",
          "2016-07-02T12:30:00",
          "2016-07-02T12:45:00",
          "2016-07-02T13:00:00",
          "2016-07-02T13:15:00",
          "2016-07-02T13:30:00",
          "2016-07-02T13:45:00",
          "2016-07-02T14:00:00",
          "2016-07-02T14:15:00",
          "2016-07-02T14:30:00",
          "2016-07-02T14:45:00",
          "2016-07-02T15:00:00",
          "2016-07-02T15:15:00",
          "2016-07-02T15:30:00",
          "2016-07-02T15:45:00",
          "2016-07-02T16:00:00",
          "2016-07-02T16:15:00",
          "2016-07-02T16:30:00",
          "2016-07-02T16:45:00",
          "2016-07-02T17:00:00",
          "2016-07-02T17:15:00",
          "2016-07-02T17:30:00",
          "2016-07-02T17:45:00",
          "2016-07-02T18:00:00",
          "2016-07-02T18:15:00",
          "2016-07-02T18:30:00",
          "2016-07-02T18:45:00",
          "2016-07-02T19:00:00",
          "2016-07-02T19:15:00",
          "2016-07-02T19:30:00",
          "2016-07-02T19:45:00",
          "2016-07-02T20:00:00",
          "2016-07-02T20:15:00",
          "2016-07-02T20:30:00",
          "2016-07-02T20:45:00",
          "2016-07-02T21:00:00",
          "2016-07-02T21:15:00",
          "2016-07-02T21:30:00",
          "2016-07-02T21:45:00",
          "2016-07-02T22:00:00",
          "2016-07-02T22:15:00",
          "2016-07-02T22:30:00",
          "2016-07-02T22:45:00",
          "2016-07-02T23:00:00",
          "2016-07-02T23:15:00",
          "2016-07-02T23:30:00",
          "2016-07-02T23:45:00"
         ],
         "y": [
          38.6619987487793,
          38.22299957275391,
          37.34400177001953,
          37.124000549316406,
          37.124000549316406,
          36.90399932861328,
          36.90399932861328,
          36.46500015258789,
          36.46500015258789,
          36.46500015258789,
          35.80599975585937,
          34.92699813842773,
          33.60850143432617,
          32.94900131225586,
          32.5099983215332,
          32.290000915527344,
          31.850500106811523,
          31.631000518798828,
          31.410999298095703,
          30.97200012207031,
          30.53199958801269,
          30.53199958801269,
          30.75200080871582,
          30.3125,
          30.093000411987305,
          29.87299919128418,
          29.87299919128418,
          29.87299919128418,
          29.87299919128418,
          29.87299919128418,
          29.87299919128418,
          29.87299919128418,
          29.65299987792969,
          29.43350028991699,
          29.43350028991699,
          29.43350028991699,
          29.21349906921387,
          28.11549949645996,
          27.675500869750977,
          27.675500869750977,
          27.45599937438965,
          27.45599937438965,
          27.45599937438965,
          27.45599937438965,
          27.45599937438965,
          27.45599937438965,
          27.236499786376957,
          27.236499786376957,
          27.236499786376957,
          27.236499786376957,
          26.79700088500977,
          26.57699966430664,
          26.57699966430664,
          26.79700088500977,
          26.79700088500977,
          26.79700088500977,
          26.79700088500977,
          26.79700088500977,
          26.79700088500977,
          26.79700088500977,
          26.79700088500977,
          26.79700088500977,
          26.79700088500977,
          26.79700088500977,
          26.79700088500977,
          26.57749938964844,
          26.57749938964844,
          26.57749938964844,
          26.57749938964844,
          26.57749938964844,
          26.57749938964844,
          26.57749938964844,
          26.57749938964844,
          26.57749938964844,
          26.357500076293945,
          26.13750076293945,
          26.13750076293945,
          26.13750076293945,
          26.13750076293945,
          26.13750076293945,
          26.13750076293945,
          26.13750076293945,
          26.13750076293945,
          26.13750076293945,
          25.69849967956543,
          25.69849967956543,
          25.69849967956543,
          25.917999267578125,
          25.917999267578125,
          25.917999267578125,
          25.917999267578125,
          25.917999267578125,
          25.917999267578125,
          25.917999267578125,
          25.917999267578125,
          25.917999267578125,
          25.917999267578125,
          25.917999267578125,
          25.917999267578125,
          26.13800048828125,
          26.357500076293945,
          26.357500076293945,
          26.357500076293945,
          26.13750076293945,
          26.13750076293945,
          25.917999267578125,
          25.69849967956543,
          25.69849967956543,
          25.69849967956543,
          25.69849967956543,
          25.69849967956543,
          25.69849967956543,
          25.69849967956543,
          25.917999267578125,
          25.917999267578125,
          25.917999267578125,
          25.917999267578125,
          25.917999267578125,
          25.917999267578125,
          25.917999267578125,
          25.917999267578125,
          25.917999267578125,
          25.917999267578125,
          25.917999267578125,
          25.917999267578125,
          25.478500366210927,
          25.478500366210927,
          25.478500366210927,
          25.478500366210927,
          25.478500366210927,
          25.478500366210927,
          25.697999954223643,
          25.697999954223643,
          25.697999954223643,
          25.697999954223643,
          25.917999267578125,
          25.917999267578125,
          25.917999267578125,
          25.917999267578125,
          25.917999267578125,
          25.917999267578125,
          25.917999267578125,
          26.13800048828125,
          26.357500076293945,
          26.13750076293945,
          26.13750076293945,
          26.357500076293945,
          26.357500076293945,
          26.357500076293945,
          26.357500076293945,
          26.357500076293945,
          26.357500076293945,
          26.57749938964844,
          26.79700088500977,
          26.79700088500977,
          27.236499786376957,
          27.45599937438965,
          27.45599937438965,
          27.45599937438965,
          27.67600059509277,
          27.67600059509277,
          27.67600059509277,
          27.89550018310547,
          28.11549949645996,
          28.11549949645996,
          28.334999084472656,
          28.334999084472656,
          28.554500579833984,
          28.554500579833984,
          28.77449989318848,
          28.77449989318848,
          28.77449989318848,
          28.77449989318848,
          28.99399948120117,
          29.21349906921387,
          29.43350028991699,
          29.653499603271484,
          29.653499603271484,
          29.653499603271484,
          29.43350028991699,
          29.21349906921387,
          28.77449989318848,
          28.334999084472656,
          28.334999084472656,
          27.89550018310547,
          27.89550018310547,
          27.675500869750977,
          27.45599937438965,
          27.236499786376957,
          27.236499786376957,
          27.236499786376957,
          27.236499786376957
         ]
        },
        {
         "line": {
          "color": "orange",
          "dash": "dot",
          "width": 4
         },
         "mode": "lines",
         "name": "Used for Prediction",
         "type": "scatter",
         "x": [
          "2016-07-01T00:00:00",
          "2016-07-01T00:15:00",
          "2016-07-01T00:30:00",
          "2016-07-01T00:45:00",
          "2016-07-01T01:00:00",
          "2016-07-01T01:15:00",
          "2016-07-01T01:30:00",
          "2016-07-01T01:45:00",
          "2016-07-01T02:00:00",
          "2016-07-01T02:15:00",
          "2016-07-01T02:30:00",
          "2016-07-01T02:45:00",
          "2016-07-01T03:00:00",
          "2016-07-01T03:15:00",
          "2016-07-01T03:30:00",
          "2016-07-01T03:45:00",
          "2016-07-01T04:00:00",
          "2016-07-01T04:15:00",
          "2016-07-01T04:30:00",
          "2016-07-01T04:45:00",
          "2016-07-01T05:00:00",
          "2016-07-01T05:15:00",
          "2016-07-01T05:30:00",
          "2016-07-01T05:45:00",
          "2016-07-01T06:00:00",
          "2016-07-01T06:15:00",
          "2016-07-01T06:30:00",
          "2016-07-01T06:45:00",
          "2016-07-01T07:00:00",
          "2016-07-01T07:15:00",
          "2016-07-01T07:30:00",
          "2016-07-01T07:45:00",
          "2016-07-01T08:00:00",
          "2016-07-01T08:15:00",
          "2016-07-01T08:30:00",
          "2016-07-01T08:45:00",
          "2016-07-01T09:00:00",
          "2016-07-01T09:15:00",
          "2016-07-01T09:30:00",
          "2016-07-01T09:45:00",
          "2016-07-01T10:00:00",
          "2016-07-01T10:15:00",
          "2016-07-01T10:30:00",
          "2016-07-01T10:45:00",
          "2016-07-01T11:00:00",
          "2016-07-01T11:15:00",
          "2016-07-01T11:30:00",
          "2016-07-01T11:45:00",
          "2016-07-01T12:00:00",
          "2016-07-01T12:15:00",
          "2016-07-01T12:30:00",
          "2016-07-01T12:45:00",
          "2016-07-01T13:00:00",
          "2016-07-01T13:15:00",
          "2016-07-01T13:30:00",
          "2016-07-01T13:45:00",
          "2016-07-01T14:00:00",
          "2016-07-01T14:15:00",
          "2016-07-01T14:30:00",
          "2016-07-01T14:45:00",
          "2016-07-01T15:00:00",
          "2016-07-01T15:15:00",
          "2016-07-01T15:30:00",
          "2016-07-01T15:45:00",
          "2016-07-01T16:00:00",
          "2016-07-01T16:15:00",
          "2016-07-01T16:30:00",
          "2016-07-01T16:45:00",
          "2016-07-01T17:00:00",
          "2016-07-01T17:15:00",
          "2016-07-01T17:30:00",
          "2016-07-01T17:45:00",
          "2016-07-01T18:00:00",
          "2016-07-01T18:15:00",
          "2016-07-01T18:30:00",
          "2016-07-01T18:45:00",
          "2016-07-01T19:00:00",
          "2016-07-01T19:15:00",
          "2016-07-01T19:30:00",
          "2016-07-01T19:45:00",
          "2016-07-01T20:00:00",
          "2016-07-01T20:15:00",
          "2016-07-01T20:30:00",
          "2016-07-01T20:45:00",
          "2016-07-01T21:00:00",
          "2016-07-01T21:15:00",
          "2016-07-01T21:30:00",
          "2016-07-01T21:45:00",
          "2016-07-01T22:00:00",
          "2016-07-01T22:15:00",
          "2016-07-01T22:30:00",
          "2016-07-01T22:45:00",
          "2016-07-01T23:00:00",
          "2016-07-01T23:15:00",
          "2016-07-01T23:30:00"
         ],
         "y": [
          38.6619987487793,
          38.22299957275391,
          37.34400177001953,
          37.124000549316406,
          37.124000549316406,
          36.90399932861328,
          36.90399932861328,
          36.46500015258789,
          36.46500015258789,
          36.46500015258789,
          35.80599975585937,
          34.92699813842773,
          33.60850143432617,
          32.94900131225586,
          32.5099983215332,
          32.290000915527344,
          31.850500106811523,
          31.631000518798828,
          31.410999298095703,
          30.97200012207031,
          30.53199958801269,
          30.53199958801269,
          30.75200080871582,
          30.3125,
          30.093000411987305,
          29.87299919128418,
          29.87299919128418,
          29.87299919128418,
          29.87299919128418,
          29.87299919128418,
          29.87299919128418,
          29.87299919128418,
          29.65299987792969,
          29.43350028991699,
          29.43350028991699,
          29.43350028991699,
          29.21349906921387,
          28.11549949645996,
          27.675500869750977,
          27.675500869750977,
          27.45599937438965,
          27.45599937438965,
          27.45599937438965,
          27.45599937438965,
          27.45599937438965,
          27.45599937438965,
          27.236499786376957,
          27.236499786376957,
          27.236499786376957,
          27.236499786376957,
          26.79700088500977,
          26.57699966430664,
          26.57699966430664,
          26.79700088500977,
          26.79700088500977,
          26.79700088500977,
          26.79700088500977,
          26.79700088500977,
          26.79700088500977,
          26.79700088500977,
          26.79700088500977,
          26.79700088500977,
          26.79700088500977,
          26.79700088500977,
          26.79700088500977,
          26.57749938964844,
          26.57749938964844,
          26.57749938964844,
          26.57749938964844,
          26.57749938964844,
          26.57749938964844,
          26.57749938964844,
          26.57749938964844,
          26.57749938964844,
          26.357500076293945,
          26.13750076293945,
          26.13750076293945,
          26.13750076293945,
          26.13750076293945,
          26.13750076293945,
          26.13750076293945,
          26.13750076293945,
          26.13750076293945,
          26.13750076293945,
          25.69849967956543,
          25.69849967956543,
          25.69849967956543,
          25.917999267578125,
          25.917999267578125,
          25.917999267578125,
          25.917999267578125,
          25.917999267578125,
          25.917999267578125,
          25.917999267578125,
          25.917999267578125
         ]
        },
        {
         "line": {
          "color": "red"
         },
         "mode": "lines",
         "name": "Predicted Data",
         "type": "scatter",
         "x": [
          "2016-07-02T00:00:00",
          "2016-07-02T00:15:00",
          "2016-07-02T00:30:00",
          "2016-07-02T00:45:00",
          "2016-07-02T01:00:00",
          "2016-07-02T01:15:00",
          "2016-07-02T01:30:00",
          "2016-07-02T01:45:00",
          "2016-07-02T02:00:00",
          "2016-07-02T02:15:00",
          "2016-07-02T02:30:00",
          "2016-07-02T02:45:00",
          "2016-07-02T03:00:00",
          "2016-07-02T03:15:00",
          "2016-07-02T03:30:00",
          "2016-07-02T03:45:00",
          "2016-07-02T04:00:00",
          "2016-07-02T04:15:00",
          "2016-07-02T04:30:00",
          "2016-07-02T04:45:00",
          "2016-07-02T05:00:00",
          "2016-07-02T05:15:00",
          "2016-07-02T05:30:00",
          "2016-07-02T05:45:00",
          "2016-07-02T06:00:00",
          "2016-07-02T06:15:00",
          "2016-07-02T06:30:00",
          "2016-07-02T06:45:00",
          "2016-07-02T07:00:00",
          "2016-07-02T07:15:00",
          "2016-07-02T07:30:00",
          "2016-07-02T07:45:00",
          "2016-07-02T08:00:00",
          "2016-07-02T08:15:00",
          "2016-07-02T08:30:00",
          "2016-07-02T08:45:00",
          "2016-07-02T09:00:00",
          "2016-07-02T09:15:00",
          "2016-07-02T09:30:00",
          "2016-07-02T09:45:00",
          "2016-07-02T10:00:00",
          "2016-07-02T10:15:00",
          "2016-07-02T10:30:00",
          "2016-07-02T10:45:00",
          "2016-07-02T11:00:00",
          "2016-07-02T11:15:00",
          "2016-07-02T11:30:00",
          "2016-07-02T11:45:00",
          "2016-07-02T12:00:00",
          "2016-07-02T12:15:00",
          "2016-07-02T12:30:00",
          "2016-07-02T12:45:00",
          "2016-07-02T13:00:00",
          "2016-07-02T13:15:00",
          "2016-07-02T13:30:00",
          "2016-07-02T13:45:00",
          "2016-07-02T14:00:00",
          "2016-07-02T14:15:00",
          "2016-07-02T14:30:00",
          "2016-07-02T14:45:00",
          "2016-07-02T15:00:00",
          "2016-07-02T15:15:00",
          "2016-07-02T15:30:00",
          "2016-07-02T15:45:00",
          "2016-07-02T16:00:00",
          "2016-07-02T16:15:00",
          "2016-07-02T16:30:00",
          "2016-07-02T16:45:00",
          "2016-07-02T17:00:00",
          "2016-07-02T17:15:00",
          "2016-07-02T17:30:00",
          "2016-07-02T17:45:00",
          "2016-07-02T18:00:00",
          "2016-07-02T18:15:00",
          "2016-07-02T18:30:00",
          "2016-07-02T18:45:00",
          "2016-07-02T19:00:00",
          "2016-07-02T19:15:00",
          "2016-07-02T19:30:00",
          "2016-07-02T19:45:00",
          "2016-07-02T20:00:00",
          "2016-07-02T20:15:00",
          "2016-07-02T20:30:00",
          "2016-07-02T20:45:00",
          "2016-07-02T21:00:00",
          "2016-07-02T21:15:00",
          "2016-07-02T21:30:00",
          "2016-07-02T21:45:00",
          "2016-07-02T22:00:00",
          "2016-07-02T22:15:00",
          "2016-07-02T22:30:00",
          "2016-07-02T22:45:00",
          "2016-07-02T23:00:00",
          "2016-07-02T23:15:00",
          "2016-07-02T23:30:00",
          "2016-07-02T23:45:00"
         ],
         "y": [
          117.58578491210938,
          117.75199890136719,
          118.94739532470703,
          118.79786682128906,
          117.71627807617188,
          116.19010162353516,
          115.58253479003906,
          117.53365325927734,
          116.79459381103516,
          114.09852600097656,
          118.71216583251953,
          119.38877868652344,
          119.21048736572266,
          116.94279479980469,
          117.85267639160156,
          116.47310638427734,
          116.62870788574219,
          116.43843841552734,
          117.30706787109375,
          115.09244537353516,
          117.33988952636719,
          116.09221649169922,
          115.32077026367188,
          116.95429229736328,
          117.08241271972656,
          114.35780334472656,
          114.22789001464844,
          113.63550567626953,
          111.42255401611328,
          106.2852554321289,
          106.65061950683594,
          106.37596893310547,
          101.4599609375,
          99.82384490966797,
          92.9247817993164,
          92.66231536865234,
          90.76791381835938,
          85.68689727783203,
          82.71488189697266,
          82.15239715576172,
          82.98616790771484,
          78.71051025390625,
          77.05156707763672,
          73.65621948242188,
          72.72808074951172,
          65.52440643310547,
          65.22373962402344,
          64.13196563720703,
          59.76210021972656,
          56.70507049560547,
          52.81578063964844,
          56.0810432434082,
          53.20289611816406,
          53.93680953979492,
          52.355342864990234,
          51.984806060791016,
          47.38014221191406,
          46.7598876953125,
          44.725013732910156,
          48.323707580566406,
          46.90936279296875,
          47.18324279785156,
          47.2746467590332,
          47.711795806884766,
          47.91118240356445,
          50.16130065917969,
          49.9686164855957,
          50.18272399902344,
          48.92887496948242,
          51.4658317565918,
          51.9640998840332,
          52.476600646972656,
          51.59761428833008,
          56.966007232666016,
          58.29490280151367,
          62.165401458740234,
          66.48120880126953,
          65.64118957519531,
          71.31626892089844,
          77.65238189697266,
          78.60868835449219,
          83.59138488769531,
          89.24889373779297,
          94.95368957519531,
          96.21592712402344,
          95.84613037109375,
          102.03986358642578,
          105.54475402832031,
          106.78996276855469,
          108.52079772949219,
          112.18050384521484,
          112.42779541015625,
          114.42533874511719,
          117.49243927001953,
          120.66024017333984,
          111.65145874023438
         ]
        }
       ],
       "layout": {
        "autosize": true,
        "legend": {
         "x": 0.01,
         "xanchor": "left",
         "y": 0.99,
         "yanchor": "top"
        },
        "template": {
         "data": {
          "bar": [
           {
            "error_x": {
             "color": "#2a3f5f"
            },
            "error_y": {
             "color": "#2a3f5f"
            },
            "marker": {
             "line": {
              "color": "#E5ECF6",
              "width": 0.5
             },
             "pattern": {
              "fillmode": "overlay",
              "size": 10,
              "solidity": 0.2
             }
            },
            "type": "bar"
           }
          ],
          "barpolar": [
           {
            "marker": {
             "line": {
              "color": "#E5ECF6",
              "width": 0.5
             },
             "pattern": {
              "fillmode": "overlay",
              "size": 10,
              "solidity": 0.2
             }
            },
            "type": "barpolar"
           }
          ],
          "carpet": [
           {
            "aaxis": {
             "endlinecolor": "#2a3f5f",
             "gridcolor": "white",
             "linecolor": "white",
             "minorgridcolor": "white",
             "startlinecolor": "#2a3f5f"
            },
            "baxis": {
             "endlinecolor": "#2a3f5f",
             "gridcolor": "white",
             "linecolor": "white",
             "minorgridcolor": "white",
             "startlinecolor": "#2a3f5f"
            },
            "type": "carpet"
           }
          ],
          "choropleth": [
           {
            "colorbar": {
             "outlinewidth": 0,
             "ticks": ""
            },
            "type": "choropleth"
           }
          ],
          "contour": [
           {
            "colorbar": {
             "outlinewidth": 0,
             "ticks": ""
            },
            "colorscale": [
             [
              0,
              "#0d0887"
             ],
             [
              0.1111111111111111,
              "#46039f"
             ],
             [
              0.2222222222222222,
              "#7201a8"
             ],
             [
              0.3333333333333333,
              "#9c179e"
             ],
             [
              0.4444444444444444,
              "#bd3786"
             ],
             [
              0.5555555555555556,
              "#d8576b"
             ],
             [
              0.6666666666666666,
              "#ed7953"
             ],
             [
              0.7777777777777778,
              "#fb9f3a"
             ],
             [
              0.8888888888888888,
              "#fdca26"
             ],
             [
              1,
              "#f0f921"
             ]
            ],
            "type": "contour"
           }
          ],
          "contourcarpet": [
           {
            "colorbar": {
             "outlinewidth": 0,
             "ticks": ""
            },
            "type": "contourcarpet"
           }
          ],
          "heatmap": [
           {
            "colorbar": {
             "outlinewidth": 0,
             "ticks": ""
            },
            "colorscale": [
             [
              0,
              "#0d0887"
             ],
             [
              0.1111111111111111,
              "#46039f"
             ],
             [
              0.2222222222222222,
              "#7201a8"
             ],
             [
              0.3333333333333333,
              "#9c179e"
             ],
             [
              0.4444444444444444,
              "#bd3786"
             ],
             [
              0.5555555555555556,
              "#d8576b"
             ],
             [
              0.6666666666666666,
              "#ed7953"
             ],
             [
              0.7777777777777778,
              "#fb9f3a"
             ],
             [
              0.8888888888888888,
              "#fdca26"
             ],
             [
              1,
              "#f0f921"
             ]
            ],
            "type": "heatmap"
           }
          ],
          "heatmapgl": [
           {
            "colorbar": {
             "outlinewidth": 0,
             "ticks": ""
            },
            "colorscale": [
             [
              0,
              "#0d0887"
             ],
             [
              0.1111111111111111,
              "#46039f"
             ],
             [
              0.2222222222222222,
              "#7201a8"
             ],
             [
              0.3333333333333333,
              "#9c179e"
             ],
             [
              0.4444444444444444,
              "#bd3786"
             ],
             [
              0.5555555555555556,
              "#d8576b"
             ],
             [
              0.6666666666666666,
              "#ed7953"
             ],
             [
              0.7777777777777778,
              "#fb9f3a"
             ],
             [
              0.8888888888888888,
              "#fdca26"
             ],
             [
              1,
              "#f0f921"
             ]
            ],
            "type": "heatmapgl"
           }
          ],
          "histogram": [
           {
            "marker": {
             "pattern": {
              "fillmode": "overlay",
              "size": 10,
              "solidity": 0.2
             }
            },
            "type": "histogram"
           }
          ],
          "histogram2d": [
           {
            "colorbar": {
             "outlinewidth": 0,
             "ticks": ""
            },
            "colorscale": [
             [
              0,
              "#0d0887"
             ],
             [
              0.1111111111111111,
              "#46039f"
             ],
             [
              0.2222222222222222,
              "#7201a8"
             ],
             [
              0.3333333333333333,
              "#9c179e"
             ],
             [
              0.4444444444444444,
              "#bd3786"
             ],
             [
              0.5555555555555556,
              "#d8576b"
             ],
             [
              0.6666666666666666,
              "#ed7953"
             ],
             [
              0.7777777777777778,
              "#fb9f3a"
             ],
             [
              0.8888888888888888,
              "#fdca26"
             ],
             [
              1,
              "#f0f921"
             ]
            ],
            "type": "histogram2d"
           }
          ],
          "histogram2dcontour": [
           {
            "colorbar": {
             "outlinewidth": 0,
             "ticks": ""
            },
            "colorscale": [
             [
              0,
              "#0d0887"
             ],
             [
              0.1111111111111111,
              "#46039f"
             ],
             [
              0.2222222222222222,
              "#7201a8"
             ],
             [
              0.3333333333333333,
              "#9c179e"
             ],
             [
              0.4444444444444444,
              "#bd3786"
             ],
             [
              0.5555555555555556,
              "#d8576b"
             ],
             [
              0.6666666666666666,
              "#ed7953"
             ],
             [
              0.7777777777777778,
              "#fb9f3a"
             ],
             [
              0.8888888888888888,
              "#fdca26"
             ],
             [
              1,
              "#f0f921"
             ]
            ],
            "type": "histogram2dcontour"
           }
          ],
          "mesh3d": [
           {
            "colorbar": {
             "outlinewidth": 0,
             "ticks": ""
            },
            "type": "mesh3d"
           }
          ],
          "parcoords": [
           {
            "line": {
             "colorbar": {
              "outlinewidth": 0,
              "ticks": ""
             }
            },
            "type": "parcoords"
           }
          ],
          "pie": [
           {
            "automargin": true,
            "type": "pie"
           }
          ],
          "scatter": [
           {
            "fillpattern": {
             "fillmode": "overlay",
             "size": 10,
             "solidity": 0.2
            },
            "type": "scatter"
           }
          ],
          "scatter3d": [
           {
            "line": {
             "colorbar": {
              "outlinewidth": 0,
              "ticks": ""
             }
            },
            "marker": {
             "colorbar": {
              "outlinewidth": 0,
              "ticks": ""
             }
            },
            "type": "scatter3d"
           }
          ],
          "scattercarpet": [
           {
            "marker": {
             "colorbar": {
              "outlinewidth": 0,
              "ticks": ""
             }
            },
            "type": "scattercarpet"
           }
          ],
          "scattergeo": [
           {
            "marker": {
             "colorbar": {
              "outlinewidth": 0,
              "ticks": ""
             }
            },
            "type": "scattergeo"
           }
          ],
          "scattergl": [
           {
            "marker": {
             "colorbar": {
              "outlinewidth": 0,
              "ticks": ""
             }
            },
            "type": "scattergl"
           }
          ],
          "scattermapbox": [
           {
            "marker": {
             "colorbar": {
              "outlinewidth": 0,
              "ticks": ""
             }
            },
            "type": "scattermapbox"
           }
          ],
          "scatterpolar": [
           {
            "marker": {
             "colorbar": {
              "outlinewidth": 0,
              "ticks": ""
             }
            },
            "type": "scatterpolar"
           }
          ],
          "scatterpolargl": [
           {
            "marker": {
             "colorbar": {
              "outlinewidth": 0,
              "ticks": ""
             }
            },
            "type": "scatterpolargl"
           }
          ],
          "scatterternary": [
           {
            "marker": {
             "colorbar": {
              "outlinewidth": 0,
              "ticks": ""
             }
            },
            "type": "scatterternary"
           }
          ],
          "surface": [
           {
            "colorbar": {
             "outlinewidth": 0,
             "ticks": ""
            },
            "colorscale": [
             [
              0,
              "#0d0887"
             ],
             [
              0.1111111111111111,
              "#46039f"
             ],
             [
              0.2222222222222222,
              "#7201a8"
             ],
             [
              0.3333333333333333,
              "#9c179e"
             ],
             [
              0.4444444444444444,
              "#bd3786"
             ],
             [
              0.5555555555555556,
              "#d8576b"
             ],
             [
              0.6666666666666666,
              "#ed7953"
             ],
             [
              0.7777777777777778,
              "#fb9f3a"
             ],
             [
              0.8888888888888888,
              "#fdca26"
             ],
             [
              1,
              "#f0f921"
             ]
            ],
            "type": "surface"
           }
          ],
          "table": [
           {
            "cells": {
             "fill": {
              "color": "#EBF0F8"
             },
             "line": {
              "color": "white"
             }
            },
            "header": {
             "fill": {
              "color": "#C8D4E3"
             },
             "line": {
              "color": "white"
             }
            },
            "type": "table"
           }
          ]
         },
         "layout": {
          "annotationdefaults": {
           "arrowcolor": "#2a3f5f",
           "arrowhead": 0,
           "arrowwidth": 1
          },
          "autotypenumbers": "strict",
          "coloraxis": {
           "colorbar": {
            "outlinewidth": 0,
            "ticks": ""
           }
          },
          "colorscale": {
           "diverging": [
            [
             0,
             "#8e0152"
            ],
            [
             0.1,
             "#c51b7d"
            ],
            [
             0.2,
             "#de77ae"
            ],
            [
             0.3,
             "#f1b6da"
            ],
            [
             0.4,
             "#fde0ef"
            ],
            [
             0.5,
             "#f7f7f7"
            ],
            [
             0.6,
             "#e6f5d0"
            ],
            [
             0.7,
             "#b8e186"
            ],
            [
             0.8,
             "#7fbc41"
            ],
            [
             0.9,
             "#4d9221"
            ],
            [
             1,
             "#276419"
            ]
           ],
           "sequential": [
            [
             0,
             "#0d0887"
            ],
            [
             0.1111111111111111,
             "#46039f"
            ],
            [
             0.2222222222222222,
             "#7201a8"
            ],
            [
             0.3333333333333333,
             "#9c179e"
            ],
            [
             0.4444444444444444,
             "#bd3786"
            ],
            [
             0.5555555555555556,
             "#d8576b"
            ],
            [
             0.6666666666666666,
             "#ed7953"
            ],
            [
             0.7777777777777778,
             "#fb9f3a"
            ],
            [
             0.8888888888888888,
             "#fdca26"
            ],
            [
             1,
             "#f0f921"
            ]
           ],
           "sequentialminus": [
            [
             0,
             "#0d0887"
            ],
            [
             0.1111111111111111,
             "#46039f"
            ],
            [
             0.2222222222222222,
             "#7201a8"
            ],
            [
             0.3333333333333333,
             "#9c179e"
            ],
            [
             0.4444444444444444,
             "#bd3786"
            ],
            [
             0.5555555555555556,
             "#d8576b"
            ],
            [
             0.6666666666666666,
             "#ed7953"
            ],
            [
             0.7777777777777778,
             "#fb9f3a"
            ],
            [
             0.8888888888888888,
             "#fdca26"
            ],
            [
             1,
             "#f0f921"
            ]
           ]
          },
          "colorway": [
           "#636efa",
           "#EF553B",
           "#00cc96",
           "#ab63fa",
           "#FFA15A",
           "#19d3f3",
           "#FF6692",
           "#B6E880",
           "#FF97FF",
           "#FECB52"
          ],
          "font": {
           "color": "#2a3f5f"
          },
          "geo": {
           "bgcolor": "white",
           "lakecolor": "white",
           "landcolor": "#E5ECF6",
           "showlakes": true,
           "showland": true,
           "subunitcolor": "white"
          },
          "hoverlabel": {
           "align": "left"
          },
          "hovermode": "closest",
          "mapbox": {
           "style": "light"
          },
          "paper_bgcolor": "white",
          "plot_bgcolor": "#E5ECF6",
          "polar": {
           "angularaxis": {
            "gridcolor": "white",
            "linecolor": "white",
            "ticks": ""
           },
           "bgcolor": "#E5ECF6",
           "radialaxis": {
            "gridcolor": "white",
            "linecolor": "white",
            "ticks": ""
           }
          },
          "scene": {
           "xaxis": {
            "backgroundcolor": "#E5ECF6",
            "gridcolor": "white",
            "gridwidth": 2,
            "linecolor": "white",
            "showbackground": true,
            "ticks": "",
            "zerolinecolor": "white"
           },
           "yaxis": {
            "backgroundcolor": "#E5ECF6",
            "gridcolor": "white",
            "gridwidth": 2,
            "linecolor": "white",
            "showbackground": true,
            "ticks": "",
            "zerolinecolor": "white"
           },
           "zaxis": {
            "backgroundcolor": "#E5ECF6",
            "gridcolor": "white",
            "gridwidth": 2,
            "linecolor": "white",
            "showbackground": true,
            "ticks": "",
            "zerolinecolor": "white"
           }
          },
          "shapedefaults": {
           "line": {
            "color": "#2a3f5f"
           }
          },
          "ternary": {
           "aaxis": {
            "gridcolor": "white",
            "linecolor": "white",
            "ticks": ""
           },
           "baxis": {
            "gridcolor": "white",
            "linecolor": "white",
            "ticks": ""
           },
           "bgcolor": "#E5ECF6",
           "caxis": {
            "gridcolor": "white",
            "linecolor": "white",
            "ticks": ""
           }
          },
          "title": {
           "x": 0.05
          },
          "xaxis": {
           "automargin": true,
           "gridcolor": "white",
           "linecolor": "white",
           "ticks": "",
           "title": {
            "standoff": 15
           },
           "zerolinecolor": "white",
           "zerolinewidth": 2
          },
          "yaxis": {
           "automargin": true,
           "gridcolor": "white",
           "linecolor": "white",
           "ticks": "",
           "title": {
            "standoff": 15
           },
           "zerolinecolor": "white",
           "zerolinewidth": 2
          }
         }
        },
        "title": {
         "text": "Correct vs Predicted Data"
        },
        "xaxis": {
         "autorange": true,
         "range": [
          "2016-07-01",
          "2016-07-02 23:45"
         ],
         "title": {
          "text": "Timestamp"
         },
         "type": "date"
        },
        "yaxis": {
         "autorange": true,
         "range": [
          20.19062593248154,
          125.94811460706923
         ],
         "title": {
          "text": "Value"
         },
         "type": "linear"
        }
       }
      },
      "image/png": "[encoded data removed]",
      "text/html": [
       "<div>                            <div id=\"33ab6510-dbfe-4a64-b63a-28a39157a9b6\" class=\"plotly-graph-div\" style=\"height:525px; width:100%;\"></div>            <script type=\"text/javascript\">                require([\"plotly\"], function(Plotly) {                    window.PLOTLYENV=window.PLOTLYENV || {};                                    if (document.getElementById(\"33ab6510-dbfe-4a64-b63a-28a39157a9b6\")) {                    Plotly.newPlot(                        \"33ab6510-dbfe-4a64-b63a-28a39157a9b6\",                        [{\"mode\":\"lines\",\"name\":\"Correct Data\",\"x\":[\"2016-07-01T00:00:00\",\"2016-07-01T00:15:00\",\"2016-07-01T00:30:00\",\"2016-07-01T00:45:00\",\"2016-07-01T01:00:00\",\"2016-07-01T01:15:00\",\"2016-07-01T01:30:00\",\"2016-07-01T01:45:00\",\"2016-07-01T02:00:00\",\"2016-07-01T02:15:00\",\"2016-07-01T02:30:00\",\"2016-07-01T02:45:00\",\"2016-07-01T03:00:00\",\"2016-07-01T03:15:00\",\"2016-07-01T03:30:00\",\"2016-07-01T03:45:00\",\"2016-07-01T04:00:00\",\"2016-07-01T04:15:00\",\"2016-07-01T04:30:00\",\"2016-07-01T04:45:00\",\"2016-07-01T05:00:00\",\"2016-07-01T05:15:00\",\"2016-07-01T05:30:00\",\"2016-07-01T05:45:00\",\"2016-07-01T06:00:00\",\"2016-07-01T06:15:00\",\"2016-07-01T06:30:00\",\"2016-07-01T06:45:00\",\"2016-07-01T07:00:00\",\"2016-07-01T07:15:00\",\"2016-07-01T07:30:00\",\"2016-07-01T07:45:00\",\"2016-07-01T08:00:00\",\"2016-07-01T08:15:00\",\"2016-07-01T08:30:00\",\"2016-07-01T08:45:00\",\"2016-07-01T09:00:00\",\"2016-07-01T09:15:00\",\"2016-07-01T09:30:00\",\"2016-07-01T09:45:00\",\"2016-07-01T10:00:00\",\"2016-07-01T10:15:00\",\"2016-07-01T10:30:00\",\"2016-07-01T10:45:00\",\"2016-07-01T11:00:00\",\"2016-07-01T11:15:00\",\"2016-07-01T11:30:00\",\"2016-07-01T11:45:00\",\"2016-07-01T12:00:00\",\"2016-07-01T12:15:00\",\"2016-07-01T12:30:00\",\"2016-07-01T12:45:00\",\"2016-07-01T13:00:00\",\"2016-07-01T13:15:00\",\"2016-07-01T13:30:00\",\"2016-07-01T13:45:00\",\"2016-07-01T14:00:00\",\"2016-07-01T14:15:00\",\"2016-07-01T14:30:00\",\"2016-07-01T14:45:00\",\"2016-07-01T15:00:00\",\"2016-07-01T15:15:00\",\"2016-07-01T15:30:00\",\"2016-07-01T15:45:00\",\"2016-07-01T16:00:00\",\"2016-07-01T16:15:00\",\"2016-07-01T16:30:00\",\"2016-07-01T16:45:00\",\"2016-07-01T17:00:00\",\"2016-07-01T17:15:00\",\"2016-07-01T17:30:00\",\"2016-07-01T17:45:00\",\"2016-07-01T18:00:00\",\"2016-07-01T18:15:00\",\"2016-07-01T18:30:00\",\"2016-07-01T18:45:00\",\"2016-07-01T19:00:00\",\"2016-07-01T19:15:00\",\"2016-07-01T19:30:00\",\"2016-07-01T19:45:00\",\"2016-07-01T20:00:00\",\"2016-07-01T20:15:00\",\"2016-07-01T20:30:00\",\"2016-07-01T20:45:00\",\"2016-07-01T21:00:00\",\"2016-07-01T21:15:00\",\"2016-07-01T21:30:00\",\"2016-07-01T21:45:00\",\"2016-07-01T22:00:00\",\"2016-07-01T22:15:00\",\"2016-07-01T22:30:00\",\"2016-07-01T22:45:00\",\"2016-07-01T23:00:00\",\"2016-07-01T23:15:00\",\"2016-07-01T23:30:00\",\"2016-07-01T23:45:00\",\"2016-07-02T00:00:00\",\"2016-07-02T00:15:00\",\"2016-07-02T00:30:00\",\"2016-07-02T00:45:00\",\"2016-07-02T01:00:00\",\"2016-07-02T01:15:00\",\"2016-07-02T01:30:00\",\"2016-07-02T01:45:00\",\"2016-07-02T02:00:00\",\"2016-07-02T02:15:00\",\"2016-07-02T02:30:00\",\"2016-07-02T02:45:00\",\"2016-07-02T03:00:00\",\"2016-07-02T03:15:00\",\"2016-07-02T03:30:00\",\"2016-07-02T03:45:00\",\"2016-07-02T04:00:00\",\"2016-07-02T04:15:00\",\"2016-07-02T04:30:00\",\"2016-07-02T04:45:00\",\"2016-07-02T05:00:00\",\"2016-07-02T05:15:00\",\"2016-07-02T05:30:00\",\"2016-07-02T05:45:00\",\"2016-07-02T06:00:00\",\"2016-07-02T06:15:00\",\"2016-07-02T06:30:00\",\"2016-07-02T06:45:00\",\"2016-07-02T07:00:00\",\"2016-07-02T07:15:00\",\"2016-07-02T07:30:00\",\"2016-07-02T07:45:00\",\"2016-07-02T08:00:00\",\"2016-07-02T08:15:00\",\"2016-07-02T08:30:00\",\"2016-07-02T08:45:00\",\"2016-07-02T09:00:00\",\"2016-07-02T09:15:00\",\"2016-07-02T09:30:00\",\"2016-07-02T09:45:00\",\"2016-07-02T10:00:00\",\"2016-07-02T10:15:00\",\"2016-07-02T10:30:00\",\"2016-07-02T10:45:00\",\"2016-07-02T11:00:00\",\"2016-07-02T11:15:00\",\"2016-07-02T11:30:00\",\"2016-07-02T11:45:00\",\"2016-07-02T12:00:00\",\"2016-07-02T12:15:00\",\"2016-07-02T12:30:00\",\"2016-07-02T12:45:00\",\"2016-07-02T13:00:00\",\"2016-07-02T13:15:00\",\"2016-07-02T13:30:00\",\"2016-07-02T13:45:00\",\"2016-07-02T14:00:00\",\"2016-07-02T14:15:00\",\"2016-07-02T14:30:00\",\"2016-07-02T14:45:00\",\"2016-07-02T15:00:00\",\"2016-07-02T15:15:00\",\"2016-07-02T15:30:00\",\"2016-07-02T15:45:00\",\"2016-07-02T16:00:00\",\"2016-07-02T16:15:00\",\"2016-07-02T16:30:00\",\"2016-07-02T16:45:00\",\"2016-07-02T17:00:00\",\"2016-07-02T17:15:00\",\"2016-07-02T17:30:00\",\"2016-07-02T17:45:00\",\"2016-07-02T18:00:00\",\"2016-07-02T18:15:00\",\"2016-07-02T18:30:00\",\"2016-07-02T18:45:00\",\"2016-07-02T19:00:00\",\"2016-07-02T19:15:00\",\"2016-07-02T19:30:00\",\"2016-07-02T19:45:00\",\"2016-07-02T20:00:00\",\"2016-07-02T20:15:00\",\"2016-07-02T20:30:00\",\"2016-07-02T20:45:00\",\"2016-07-02T21:00:00\",\"2016-07-02T21:15:00\",\"2016-07-02T21:30:00\",\"2016-07-02T21:45:00\",\"2016-07-02T22:00:00\",\"2016-07-02T22:15:00\",\"2016-07-02T22:30:00\",\"2016-07-02T22:45:00\",\"2016-07-02T23:00:00\",\"2016-07-02T23:15:00\",\"2016-07-02T23:30:00\",\"2016-07-02T23:45:00\"],\"y\":[38.6619987487793,38.22299957275391,37.34400177001953,37.124000549316406,37.124000549316406,36.90399932861328,36.90399932861328,36.46500015258789,36.46500015258789,36.46500015258789,35.80599975585937,34.92699813842773,33.60850143432617,32.94900131225586,32.5099983215332,32.290000915527344,31.850500106811523,31.631000518798828,31.410999298095703,30.97200012207031,30.53199958801269,30.53199958801269,30.75200080871582,30.3125,30.093000411987305,29.87299919128418,29.87299919128418,29.87299919128418,29.87299919128418,29.87299919128418,29.87299919128418,29.87299919128418,29.65299987792969,29.43350028991699,29.43350028991699,29.43350028991699,29.21349906921387,28.11549949645996,27.675500869750977,27.675500869750977,27.45599937438965,27.45599937438965,27.45599937438965,27.45599937438965,27.45599937438965,27.45599937438965,27.236499786376957,27.236499786376957,27.236499786376957,27.236499786376957,26.79700088500977,26.57699966430664,26.57699966430664,26.79700088500977,26.79700088500977,26.79700088500977,26.79700088500977,26.79700088500977,26.79700088500977,26.79700088500977,26.79700088500977,26.79700088500977,26.79700088500977,26.79700088500977,26.79700088500977,26.57749938964844,26.57749938964844,26.57749938964844,26.57749938964844,26.57749938964844,26.57749938964844,26.57749938964844,26.57749938964844,26.57749938964844,26.357500076293945,26.13750076293945,26.13750076293945,26.13750076293945,26.13750076293945,26.13750076293945,26.13750076293945,26.13750076293945,26.13750076293945,26.13750076293945,25.69849967956543,25.69849967956543,25.69849967956543,25.917999267578125,25.917999267578125,25.917999267578125,25.917999267578125,25.917999267578125,25.917999267578125,25.917999267578125,25.917999267578125,25.917999267578125,25.917999267578125,25.917999267578125,25.917999267578125,26.13800048828125,26.357500076293945,26.357500076293945,26.357500076293945,26.13750076293945,26.13750076293945,25.917999267578125,25.69849967956543,25.69849967956543,25.69849967956543,25.69849967956543,25.69849967956543,25.69849967956543,25.69849967956543,25.917999267578125,25.917999267578125,25.917999267578125,25.917999267578125,25.917999267578125,25.917999267578125,25.917999267578125,25.917999267578125,25.917999267578125,25.917999267578125,25.917999267578125,25.917999267578125,25.478500366210927,25.478500366210927,25.478500366210927,25.478500366210927,25.478500366210927,25.478500366210927,25.697999954223643,25.697999954223643,25.697999954223643,25.697999954223643,25.917999267578125,25.917999267578125,25.917999267578125,25.917999267578125,25.917999267578125,25.917999267578125,25.917999267578125,26.13800048828125,26.357500076293945,26.13750076293945,26.13750076293945,26.357500076293945,26.357500076293945,26.357500076293945,26.357500076293945,26.357500076293945,26.357500076293945,26.57749938964844,26.79700088500977,26.79700088500977,27.236499786376957,27.45599937438965,27.45599937438965,27.45599937438965,27.67600059509277,27.67600059509277,27.67600059509277,27.89550018310547,28.11549949645996,28.11549949645996,28.334999084472656,28.334999084472656,28.554500579833984,28.554500579833984,28.77449989318848,28.77449989318848,28.77449989318848,28.77449989318848,28.99399948120117,29.21349906921387,29.43350028991699,29.653499603271484,29.653499603271484,29.653499603271484,29.43350028991699,29.21349906921387,28.77449989318848,28.334999084472656,28.334999084472656,27.89550018310547,27.89550018310547,27.675500869750977,27.45599937438965,27.236499786376957,27.236499786376957,27.236499786376957,27.236499786376957],\"type\":\"scatter\"},{\"line\":{\"color\":\"orange\",\"dash\":\"dot\",\"width\":4},\"mode\":\"lines\",\"name\":\"Used for Prediction\",\"x\":[\"2016-07-01T00:00:00\",\"2016-07-01T00:15:00\",\"2016-07-01T00:30:00\",\"2016-07-01T00:45:00\",\"2016-07-01T01:00:00\",\"2016-07-01T01:15:00\",\"2016-07-01T01:30:00\",\"2016-07-01T01:45:00\",\"2016-07-01T02:00:00\",\"2016-07-01T02:15:00\",\"2016-07-01T02:30:00\",\"2016-07-01T02:45:00\",\"2016-07-01T03:00:00\",\"2016-07-01T03:15:00\",\"2016-07-01T03:30:00\",\"2016-07-01T03:45:00\",\"2016-07-01T04:00:00\",\"2016-07-01T04:15:00\",\"2016-07-01T04:30:00\",\"2016-07-01T04:45:00\",\"2016-07-01T05:00:00\",\"2016-07-01T05:15:00\",\"2016-07-01T05:30:00\",\"2016-07-01T05:45:00\",\"2016-07-01T06:00:00\",\"2016-07-01T06:15:00\",\"2016-07-01T06:30:00\",\"2016-07-01T06:45:00\",\"2016-07-01T07:00:00\",\"2016-07-01T07:15:00\",\"2016-07-01T07:30:00\",\"2016-07-01T07:45:00\",\"2016-07-01T08:00:00\",\"2016-07-01T08:15:00\",\"2016-07-01T08:30:00\",\"2016-07-01T08:45:00\",\"2016-07-01T09:00:00\",\"2016-07-01T09:15:00\",\"2016-07-01T09:30:00\",\"2016-07-01T09:45:00\",\"2016-07-01T10:00:00\",\"2016-07-01T10:15:00\",\"2016-07-01T10:30:00\",\"2016-07-01T10:45:00\",\"2016-07-01T11:00:00\",\"2016-07-01T11:15:00\",\"2016-07-01T11:30:00\",\"2016-07-01T11:45:00\",\"2016-07-01T12:00:00\",\"2016-07-01T12:15:00\",\"2016-07-01T12:30:00\",\"2016-07-01T12:45:00\",\"2016-07-01T13:00:00\",\"2016-07-01T13:15:00\",\"2016-07-01T13:30:00\",\"2016-07-01T13:45:00\",\"2016-07-01T14:00:00\",\"2016-07-01T14:15:00\",\"2016-07-01T14:30:00\",\"2016-07-01T14:45:00\",\"2016-07-01T15:00:00\",\"2016-07-01T15:15:00\",\"2016-07-01T15:30:00\",\"2016-07-01T15:45:00\",\"2016-07-01T16:00:00\",\"2016-07-01T16:15:00\",\"2016-07-01T16:30:00\",\"2016-07-01T16:45:00\",\"2016-07-01T17:00:00\",\"2016-07-01T17:15:00\",\"2016-07-01T17:30:00\",\"2016-07-01T17:45:00\",\"2016-07-01T18:00:00\",\"2016-07-01T18:15:00\",\"2016-07-01T18:30:00\",\"2016-07-01T18:45:00\",\"2016-07-01T19:00:00\",\"2016-07-01T19:15:00\",\"2016-07-01T19:30:00\",\"2016-07-01T19:45:00\",\"2016-07-01T20:00:00\",\"2016-07-01T20:15:00\",\"2016-07-01T20:30:00\",\"2016-07-01T20:45:00\",\"2016-07-01T21:00:00\",\"2016-07-01T21:15:00\",\"2016-07-01T21:30:00\",\"2016-07-01T21:45:00\",\"2016-07-01T22:00:00\",\"2016-07-01T22:15:00\",\"2016-07-01T22:30:00\",\"2016-07-01T22:45:00\",\"2016-07-01T23:00:00\",\"2016-07-01T23:15:00\",\"2016-07-01T23:30:00\"],\"y\":[38.6619987487793,38.22299957275391,37.34400177001953,37.124000549316406,37.124000549316406,36.90399932861328,36.90399932861328,36.46500015258789,36.46500015258789,36.46500015258789,35.80599975585937,34.92699813842773,33.60850143432617,32.94900131225586,32.5099983215332,32.290000915527344,31.850500106811523,31.631000518798828,31.410999298095703,30.97200012207031,30.53199958801269,30.53199958801269,30.75200080871582,30.3125,30.093000411987305,29.87299919128418,29.87299919128418,29.87299919128418,29.87299919128418,29.87299919128418,29.87299919128418,29.87299919128418,29.65299987792969,29.43350028991699,29.43350028991699,29.43350028991699,29.21349906921387,28.11549949645996,27.675500869750977,27.675500869750977,27.45599937438965,27.45599937438965,27.45599937438965,27.45599937438965,27.45599937438965,27.45599937438965,27.236499786376957,27.236499786376957,27.236499786376957,27.236499786376957,26.79700088500977,26.57699966430664,26.57699966430664,26.79700088500977,26.79700088500977,26.79700088500977,26.79700088500977,26.79700088500977,26.79700088500977,26.79700088500977,26.79700088500977,26.79700088500977,26.79700088500977,26.79700088500977,26.79700088500977,26.57749938964844,26.57749938964844,26.57749938964844,26.57749938964844,26.57749938964844,26.57749938964844,26.57749938964844,26.57749938964844,26.57749938964844,26.357500076293945,26.13750076293945,26.13750076293945,26.13750076293945,26.13750076293945,26.13750076293945,26.13750076293945,26.13750076293945,26.13750076293945,26.13750076293945,25.69849967956543,25.69849967956543,25.69849967956543,25.917999267578125,25.917999267578125,25.917999267578125,25.917999267578125,25.917999267578125,25.917999267578125,25.917999267578125,25.917999267578125],\"type\":\"scatter\"},{\"line\":{\"color\":\"red\"},\"mode\":\"lines\",\"name\":\"Predicted Data\",\"x\":[\"2016-07-02T00:00:00\",\"2016-07-02T00:15:00\",\"2016-07-02T00:30:00\",\"2016-07-02T00:45:00\",\"2016-07-02T01:00:00\",\"2016-07-02T01:15:00\",\"2016-07-02T01:30:00\",\"2016-07-02T01:45:00\",\"2016-07-02T02:00:00\",\"2016-07-02T02:15:00\",\"2016-07-02T02:30:00\",\"2016-07-02T02:45:00\",\"2016-07-02T03:00:00\",\"2016-07-02T03:15:00\",\"2016-07-02T03:30:00\",\"2016-07-02T03:45:00\",\"2016-07-02T04:00:00\",\"2016-07-02T04:15:00\",\"2016-07-02T04:30:00\",\"2016-07-02T04:45:00\",\"2016-07-02T05:00:00\",\"2016-07-02T05:15:00\",\"2016-07-02T05:30:00\",\"2016-07-02T05:45:00\",\"2016-07-02T06:00:00\",\"2016-07-02T06:15:00\",\"2016-07-02T06:30:00\",\"2016-07-02T06:45:00\",\"2016-07-02T07:00:00\",\"2016-07-02T07:15:00\",\"2016-07-02T07:30:00\",\"2016-07-02T07:45:00\",\"2016-07-02T08:00:00\",\"2016-07-02T08:15:00\",\"2016-07-02T08:30:00\",\"2016-07-02T08:45:00\",\"2016-07-02T09:00:00\",\"2016-07-02T09:15:00\",\"2016-07-02T09:30:00\",\"2016-07-02T09:45:00\",\"2016-07-02T10:00:00\",\"2016-07-02T10:15:00\",\"2016-07-02T10:30:00\",\"2016-07-02T10:45:00\",\"2016-07-02T11:00:00\",\"2016-07-02T11:15:00\",\"2016-07-02T11:30:00\",\"2016-07-02T11:45:00\",\"2016-07-02T12:00:00\",\"2016-07-02T12:15:00\",\"2016-07-02T12:30:00\",\"2016-07-02T12:45:00\",\"2016-07-02T13:00:00\",\"2016-07-02T13:15:00\",\"2016-07-02T13:30:00\",\"2016-07-02T13:45:00\",\"2016-07-02T14:00:00\",\"2016-07-02T14:15:00\",\"2016-07-02T14:30:00\",\"2016-07-02T14:45:00\",\"2016-07-02T15:00:00\",\"2016-07-02T15:15:00\",\"2016-07-02T15:30:00\",\"2016-07-02T15:45:00\",\"2016-07-02T16:00:00\",\"2016-07-02T16:15:00\",\"2016-07-02T16:30:00\",\"2016-07-02T16:45:00\",\"2016-07-02T17:00:00\",\"2016-07-02T17:15:00\",\"2016-07-02T17:30:00\",\"2016-07-02T17:45:00\",\"2016-07-02T18:00:00\",\"2016-07-02T18:15:00\",\"2016-07-02T18:30:00\",\"2016-07-02T18:45:00\",\"2016-07-02T19:00:00\",\"2016-07-02T19:15:00\",\"2016-07-02T19:30:00\",\"2016-07-02T19:45:00\",\"2016-07-02T20:00:00\",\"2016-07-02T20:15:00\",\"2016-07-02T20:30:00\",\"2016-07-02T20:45:00\",\"2016-07-02T21:00:00\",\"2016-07-02T21:15:00\",\"2016-07-02T21:30:00\",\"2016-07-02T21:45:00\",\"2016-07-02T22:00:00\",\"2016-07-02T22:15:00\",\"2016-07-02T22:30:00\",\"2016-07-02T22:45:00\",\"2016-07-02T23:00:00\",\"2016-07-02T23:15:00\",\"2016-07-02T23:30:00\",\"2016-07-02T23:45:00\"],\"y\":[117.58578491210938,117.75199890136719,118.94739532470703,118.79786682128906,117.71627807617188,116.19010162353516,115.58253479003906,117.53365325927734,116.79459381103516,114.09852600097656,118.71216583251953,119.38877868652344,119.21048736572266,116.94279479980469,117.85267639160156,116.47310638427734,116.62870788574219,116.43843841552734,117.30706787109375,115.09244537353516,117.33988952636719,116.09221649169922,115.32077026367188,116.95429229736328,117.08241271972656,114.35780334472656,114.22789001464844,113.63550567626953,111.42255401611328,106.2852554321289,106.65061950683594,106.37596893310547,101.4599609375,99.82384490966797,92.9247817993164,92.66231536865234,90.76791381835938,85.68689727783203,82.71488189697266,82.15239715576172,82.98616790771484,78.71051025390625,77.05156707763672,73.65621948242188,72.72808074951172,65.52440643310547,65.22373962402344,64.13196563720703,59.76210021972656,56.70507049560547,52.81578063964844,56.0810432434082,53.20289611816406,53.93680953979492,52.355342864990234,51.984806060791016,47.38014221191406,46.7598876953125,44.725013732910156,48.323707580566406,46.90936279296875,47.18324279785156,47.2746467590332,47.711795806884766,47.91118240356445,50.16130065917969,49.9686164855957,50.18272399902344,48.92887496948242,51.4658317565918,51.9640998840332,52.476600646972656,51.59761428833008,56.966007232666016,58.29490280151367,62.165401458740234,66.48120880126953,65.64118957519531,71.31626892089844,77.65238189697266,78.60868835449219,83.59138488769531,89.24889373779297,94.95368957519531,96.21592712402344,95.84613037109375,102.03986358642578,105.54475402832031,106.78996276855469,108.52079772949219,112.18050384521484,112.42779541015625,114.42533874511719,117.49243927001953,120.66024017333984,111.65145874023438],\"type\":\"scatter\"}],                        {\"template\":{\"data\":{\"histogram2dcontour\":[{\"type\":\"histogram2dcontour\",\"colorbar\":{\"outlinewidth\":0,\"ticks\":\"\"},\"colorscale\":[[0.0,\"#0d0887\"],[0.1111111111111111,\"#46039f\"],[0.2222222222222222,\"#7201a8\"],[0.3333333333333333,\"#9c179e\"],[0.4444444444444444,\"#bd3786\"],[0.5555555555555556,\"#d8576b\"],[0.6666666666666666,\"#ed7953\"],[0.7777777777777778,\"#fb9f3a\"],[0.8888888888888888,\"#fdca26\"],[1.0,\"#f0f921\"]]}],\"choropleth\":[{\"type\":\"choropleth\",\"colorbar\":{\"outlinewidth\":0,\"ticks\":\"\"}}],\"histogram2d\":[{\"type\":\"histogram2d\",\"colorbar\":{\"outlinewidth\":0,\"ticks\":\"\"},\"colorscale\":[[0.0,\"#0d0887\"],[0.1111111111111111,\"#46039f\"],[0.2222222222222222,\"#7201a8\"],[0.3333333333333333,\"#9c179e\"],[0.4444444444444444,\"#bd3786\"],[0.5555555555555556,\"#d8576b\"],[0.6666666666666666,\"#ed7953\"],[0.7777777777777778,\"#fb9f3a\"],[0.8888888888888888,\"#fdca26\"],[1.0,\"#f0f921\"]]}],\"heatmap\":[{\"type\":\"heatmap\",\"colorbar\":{\"outlinewidth\":0,\"ticks\":\"\"},\"colorscale\":[[0.0,\"#0d0887\"],[0.1111111111111111,\"#46039f\"],[0.2222222222222222,\"#7201a8\"],[0.3333333333333333,\"#9c179e\"],[0.4444444444444444,\"#bd3786\"],[0.5555555555555556,\"#d8576b\"],[0.6666666666666666,\"#ed7953\"],[0.7777777777777778,\"#fb9f3a\"],[0.8888888888888888,\"#fdca26\"],[1.0,\"#f0f921\"]]}],\"heatmapgl\":[{\"type\":\"heatmapgl\",\"colorbar\":{\"outlinewidth\":0,\"ticks\":\"\"},\"colorscale\":[[0.0,\"#0d0887\"],[0.1111111111111111,\"#46039f\"],[0.2222222222222222,\"#7201a8\"],[0.3333333333333333,\"#9c179e\"],[0.4444444444444444,\"#bd3786\"],[0.5555555555555556,\"#d8576b\"],[0.6666666666666666,\"#ed7953\"],[0.7777777777777778,\"#fb9f3a\"],[0.8888888888888888,\"#fdca26\"],[1.0,\"#f0f921\"]]}],\"contourcarpet\":[{\"type\":\"contourcarpet\",\"colorbar\":{\"outlinewidth\":0,\"ticks\":\"\"}}],\"contour\":[{\"type\":\"contour\",\"colorbar\":{\"outlinewidth\":0,\"ticks\":\"\"},\"colorscale\":[[0.0,\"#0d0887\"],[0.1111111111111111,\"#46039f\"],[0.2222222222222222,\"#7201a8\"],[0.3333333333333333,\"#9c179e\"],[0.4444444444444444,\"#bd3786\"],[0.5555555555555556,\"#d8576b\"],[0.6666666666666666,\"#ed7953\"],[0.7777777777777778,\"#fb9f3a\"],[0.8888888888888888,\"#fdca26\"],[1.0,\"#f0f921\"]]}],\"surface\":[{\"type\":\"surface\",\"colorbar\":{\"outlinewidth\":0,\"ticks\":\"\"},\"colorscale\":[[0.0,\"#0d0887\"],[0.1111111111111111,\"#46039f\"],[0.2222222222222222,\"#7201a8\"],[0.3333333333333333,\"#9c179e\"],[0.4444444444444444,\"#bd3786\"],[0.5555555555555556,\"#d8576b\"],[0.6666666666666666,\"#ed7953\"],[0.7777777777777778,\"#fb9f3a\"],[0.8888888888888888,\"#fdca26\"],[1.0,\"#f0f921\"]]}],\"mesh3d\":[{\"type\":\"mesh3d\",\"colorbar\":{\"outlinewidth\":0,\"ticks\":\"\"}}],\"scatter\":[{\"fillpattern\":{\"fillmode\":\"overlay\",\"size\":10,\"solidity\":0.2},\"type\":\"scatter\"}],\"parcoords\":[{\"type\":\"parcoords\",\"line\":{\"colorbar\":{\"outlinewidth\":0,\"ticks\":\"\"}}}],\"scatterpolargl\":[{\"type\":\"scatterpolargl\",\"marker\":{\"colorbar\":{\"outlinewidth\":0,\"ticks\":\"\"}}}],\"bar\":[{\"error_x\":{\"color\":\"#2a3f5f\"},\"error_y\":{\"color\":\"#2a3f5f\"},\"marker\":{\"line\":{\"color\":\"#E5ECF6\",\"width\":0.5},\"pattern\":{\"fillmode\":\"overlay\",\"size\":10,\"solidity\":0.2}},\"type\":\"bar\"}],\"scattergeo\":[{\"type\":\"scattergeo\",\"marker\":{\"colorbar\":{\"outlinewidth\":0,\"ticks\":\"\"}}}],\"scatterpolar\":[{\"type\":\"scatterpolar\",\"marker\":{\"colorbar\":{\"outlinewidth\":0,\"ticks\":\"\"}}}],\"histogram\":[{\"marker\":{\"pattern\":{\"fillmode\":\"overlay\",\"size\":10,\"solidity\":0.2}},\"type\":\"histogram\"}],\"scattergl\":[{\"type\":\"scattergl\",\"marker\":{\"colorbar\":{\"outlinewidth\":0,\"ticks\":\"\"}}}],\"scatter3d\":[{\"type\":\"scatter3d\",\"line\":{\"colorbar\":{\"outlinewidth\":0,\"ticks\":\"\"}},\"marker\":{\"colorbar\":{\"outlinewidth\":0,\"ticks\":\"\"}}}],\"scattermapbox\":[{\"type\":\"scattermapbox\",\"marker\":{\"colorbar\":{\"outlinewidth\":0,\"ticks\":\"\"}}}],\"scatterternary\":[{\"type\":\"scatterternary\",\"marker\":{\"colorbar\":{\"outlinewidth\":0,\"ticks\":\"\"}}}],\"scattercarpet\":[{\"type\":\"scattercarpet\",\"marker\":{\"colorbar\":{\"outlinewidth\":0,\"ticks\":\"\"}}}],\"carpet\":[{\"aaxis\":{\"endlinecolor\":\"#2a3f5f\",\"gridcolor\":\"white\",\"linecolor\":\"white\",\"minorgridcolor\":\"white\",\"startlinecolor\":\"#2a3f5f\"},\"baxis\":{\"endlinecolor\":\"#2a3f5f\",\"gridcolor\":\"white\",\"linecolor\":\"white\",\"minorgridcolor\":\"white\",\"startlinecolor\":\"#2a3f5f\"},\"type\":\"carpet\"}],\"table\":[{\"cells\":{\"fill\":{\"color\":\"#EBF0F8\"},\"line\":{\"color\":\"white\"}},\"header\":{\"fill\":{\"color\":\"#C8D4E3\"},\"line\":{\"color\":\"white\"}},\"type\":\"table\"}],\"barpolar\":[{\"marker\":{\"line\":{\"color\":\"#E5ECF6\",\"width\":0.5},\"pattern\":{\"fillmode\":\"overlay\",\"size\":10,\"solidity\":0.2}},\"type\":\"barpolar\"}],\"pie\":[{\"automargin\":true,\"type\":\"pie\"}]},\"layout\":{\"autotypenumbers\":\"strict\",\"colorway\":[\"#636efa\",\"#EF553B\",\"#00cc96\",\"#ab63fa\",\"#FFA15A\",\"#19d3f3\",\"#FF6692\",\"#B6E880\",\"#FF97FF\",\"#FECB52\"],\"font\":{\"color\":\"#2a3f5f\"},\"hovermode\":\"closest\",\"hoverlabel\":{\"align\":\"left\"},\"paper_bgcolor\":\"white\",\"plot_bgcolor\":\"#E5ECF6\",\"polar\":{\"bgcolor\":\"#E5ECF6\",\"angularaxis\":{\"gridcolor\":\"white\",\"linecolor\":\"white\",\"ticks\":\"\"},\"radialaxis\":{\"gridcolor\":\"white\",\"linecolor\":\"white\",\"ticks\":\"\"}},\"ternary\":{\"bgcolor\":\"#E5ECF6\",\"aaxis\":{\"gridcolor\":\"white\",\"linecolor\":\"white\",\"ticks\":\"\"},\"baxis\":{\"gridcolor\":\"white\",\"linecolor\":\"white\",\"ticks\":\"\"},\"caxis\":{\"gridcolor\":\"white\",\"linecolor\":\"white\",\"ticks\":\"\"}},\"coloraxis\":{\"colorbar\":{\"outlinewidth\":0,\"ticks\":\"\"}},\"colorscale\":{\"sequential\":[[0.0,\"#0d0887\"],[0.1111111111111111,\"#46039f\"],[0.2222222222222222,\"#7201a8\"],[0.3333333333333333,\"#9c179e\"],[0.4444444444444444,\"#bd3786\"],[0.5555555555555556,\"#d8576b\"],[0.6666666666666666,\"#ed7953\"],[0.7777777777777778,\"#fb9f3a\"],[0.8888888888888888,\"#fdca26\"],[1.0,\"#f0f921\"]],\"sequentialminus\":[[0.0,\"#0d0887\"],[0.1111111111111111,\"#46039f\"],[0.2222222222222222,\"#7201a8\"],[0.3333333333333333,\"#9c179e\"],[0.4444444444444444,\"#bd3786\"],[0.5555555555555556,\"#d8576b\"],[0.6666666666666666,\"#ed7953\"],[0.7777777777777778,\"#fb9f3a\"],[0.8888888888888888,\"#fdca26\"],[1.0,\"#f0f921\"]],\"diverging\":[[0,\"#8e0152\"],[0.1,\"#c51b7d\"],[0.2,\"#de77ae\"],[0.3,\"#f1b6da\"],[0.4,\"#fde0ef\"],[0.5,\"#f7f7f7\"],[0.6,\"#e6f5d0\"],[0.7,\"#b8e186\"],[0.8,\"#7fbc41\"],[0.9,\"#4d9221\"],[1,\"#276419\"]]},\"xaxis\":{\"gridcolor\":\"white\",\"linecolor\":\"white\",\"ticks\":\"\",\"title\":{\"standoff\":15},\"zerolinecolor\":\"white\",\"automargin\":true,\"zerolinewidth\":2},\"yaxis\":{\"gridcolor\":\"white\",\"linecolor\":\"white\",\"ticks\":\"\",\"title\":{\"standoff\":15},\"zerolinecolor\":\"white\",\"automargin\":true,\"zerolinewidth\":2},\"scene\":{\"xaxis\":{\"backgroundcolor\":\"#E5ECF6\",\"gridcolor\":\"white\",\"linecolor\":\"white\",\"showbackground\":true,\"ticks\":\"\",\"zerolinecolor\":\"white\",\"gridwidth\":2},\"yaxis\":{\"backgroundcolor\":\"#E5ECF6\",\"gridcolor\":\"white\",\"linecolor\":\"white\",\"showbackground\":true,\"ticks\":\"\",\"zerolinecolor\":\"white\",\"gridwidth\":2},\"zaxis\":{\"backgroundcolor\":\"#E5ECF6\",\"gridcolor\":\"white\",\"linecolor\":\"white\",\"showbackground\":true,\"ticks\":\"\",\"zerolinecolor\":\"white\",\"gridwidth\":2}},\"shapedefaults\":{\"line\":{\"color\":\"#2a3f5f\"}},\"annotationdefaults\":{\"arrowcolor\":\"#2a3f5f\",\"arrowhead\":0,\"arrowwidth\":1},\"geo\":{\"bgcolor\":\"white\",\"landcolor\":\"#E5ECF6\",\"subunitcolor\":\"white\",\"showland\":true,\"showlakes\":true,\"lakecolor\":\"white\"},\"title\":{\"x\":0.05},\"mapbox\":{\"style\":\"light\"}}},\"legend\":{\"yanchor\":\"top\",\"y\":0.99,\"xanchor\":\"left\",\"x\":0.01},\"title\":{\"text\":\"Correct vs Predicted Data\"},\"xaxis\":{\"title\":{\"text\":\"Timestamp\"}},\"yaxis\":{\"title\":{\"text\":\"Value\"}}},                        {\"responsive\": true}                    ).then(function(){\n",
       "                            \n",
       "var gd = document.getElementById('33ab6510-dbfe-4a64-b63a-28a39157a9b6');\n",
       "var x = new MutationObserver(function (mutations, observer) {{\n",
       "        var display = window.getComputedStyle(gd).display;\n",
       "        if (!display || display === 'none') {{\n",
       "            console.log([gd, 'removed!']);\n",
       "            Plotly.purge(gd);\n",
       "            observer.disconnect();\n",
       "        }}\n",
       "}});\n",
       "\n",
       "// Listen for the removal of the full notebook cells\n",
       "var notebookContainer = gd.closest('#notebook-container');\n",
       "if (notebookContainer) {{\n",
       "    x.observe(notebookContainer, {childList: true});\n",
       "}}\n",
       "\n",
       "// Listen for the clearing of the current output cell\n",
       "var outputEl = gd.closest('.output');\n",
       "if (outputEl) {{\n",
       "    x.observe(outputEl, {childList: true});\n",
       "}}\n",
       "\n",
       "                        })                };                });            </script>        </div>"
      ]
     },
     "metadata": {},
     "output_type": "display_data"
    }
   ],
   "source": [
    "fig.show()"
   ]
  },
  {
   "cell_type": "code",
   "execution_count": null,
   "id": "557be0d3-563b-4a81-aa83-7e1893df625b",
   "metadata": {},
   "outputs": [],
   "source": []
  },
  {
   "cell_type": "code",
   "execution_count": null,
   "id": "1e474fd3-ebd4-4050-82ac-8847c63ba0fb",
   "metadata": {},
   "outputs": [],
   "source": []
  }
 ],
 "metadata": {
  "kernelspec": {
   "display_name": "Python 3 (ipykernel)",
   "language": "python",
   "name": "python3"
  },
  "language_info": {
   "codemirror_mode": {
    "name": "ipython",
    "version": 3
   },
   "file_extension": ".py",
   "mimetype": "text/x-python",
   "name": "python",
   "nbconvert_exporter": "python",
   "pygments_lexer": "ipython3",
   "version": "3.9.7"
  }
 },
 "nbformat": 4,
 "nbformat_minor": 5
}
