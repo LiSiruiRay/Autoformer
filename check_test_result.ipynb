{
 "cells": [
  {
   "cell_type": "code",
   "execution_count": 1,
   "id": "2625104d-7922-4212-88bf-78e16abec5e8",
   "metadata": {},
   "outputs": [],
   "source": [
    "import numpy as np"
   ]
  },
  {
   "cell_type": "code",
   "execution_count": 5,
   "id": "206ef5b4-bd13-41f3-8230-1ddd389bfee9",
   "metadata": {},
   "outputs": [],
   "source": [
    "perd_path = 'results/ETTm2_96_96_Autoformer_ETTm2_ftS_sl96_ll96_pl96_dm512_nh8_el2_dl1_df2048_fc3_ebtimeF_dtTrue_Exp_0/pred.npy'\n",
    "ground_truth_path = \"results/ETTm2_96_96_Autoformer_ETTm2_ftS_sl96_ll96_pl96_dm512_nh8_el2_dl1_df2048_fc3_ebtimeF_dtTrue_Exp_0/true.npy\"\n",
    "metric_path = \"results/ETTm2_96_96_Autoformer_ETTm2_ftS_sl96_ll96_pl96_dm512_nh8_el2_dl1_df2048_fc3_ebtimeF_dtTrue_Exp_0/metrics.npy\"\n",
    "# Load the array from the .npy file\n",
    "pred_result = np.load(perd_path)\n",
    "ground_truth = np.load(ground_truth_path)\n",
    "metric = np.load(metric_path)\n"
   ]
  },
  {
   "cell_type": "code",
   "execution_count": 3,
   "id": "9803f3d1-71cf-4d8e-8686-f5ac4a06e3ee",
   "metadata": {},
   "outputs": [
    {
     "data": {
      "text/plain": [
       "array([[[-1.979198 ],\n",
       "        [-1.9711035],\n",
       "        [-1.978174 ],\n",
       "        ...,\n",
       "        [-2.1095586],\n",
       "        [-2.1093984],\n",
       "        [-1.7872975]],\n",
       "\n",
       "       [[-1.8704621],\n",
       "        [-1.8869975],\n",
       "        [-1.8825841],\n",
       "        ...,\n",
       "        [-2.0438516],\n",
       "        [-2.0383453],\n",
       "        [-1.8135083]],\n",
       "\n",
       "       [[-1.8838171],\n",
       "        [-1.8811904],\n",
       "        [-1.9614427],\n",
       "        ...,\n",
       "        [-2.0433664],\n",
       "        [-1.9921536],\n",
       "        [-1.9024211]],\n",
       "\n",
       "       ...,\n",
       "\n",
       "       [[-1.6899797],\n",
       "        [-1.7413955],\n",
       "        [-1.8031439],\n",
       "        ...,\n",
       "        [-1.6760043],\n",
       "        [-1.6871431],\n",
       "        [-1.6953216]],\n",
       "\n",
       "       [[-1.7876582],\n",
       "        [-1.8786833],\n",
       "        [-1.8891665],\n",
       "        ...,\n",
       "        [-1.6270245],\n",
       "        [-1.6281726],\n",
       "        [-1.6425594]],\n",
       "\n",
       "       [[-1.8110197],\n",
       "        [-1.909989 ],\n",
       "        [-1.944381 ],\n",
       "        ...,\n",
       "        [-1.5407176],\n",
       "        [-1.616095 ],\n",
       "        [-1.5922885]]], dtype=float32)"
      ]
     },
     "execution_count": 3,
     "metadata": {},
     "output_type": "execute_result"
    }
   ],
   "source": [
    "pred_result"
   ]
  },
  {
   "cell_type": "code",
   "execution_count": 4,
   "id": "de3665c4-ad2c-4fb3-b6a4-6e7ce338cac8",
   "metadata": {},
   "outputs": [
    {
     "data": {
      "text/plain": [
       "array([[[-1.825391 ],\n",
       "        [-1.7666796],\n",
       "        [-1.7666796],\n",
       "        ...,\n",
       "        [-1.6493905],\n",
       "        [-1.6493905],\n",
       "        [-1.7081019]],\n",
       "\n",
       "       [[-1.7666796],\n",
       "        [-1.7666796],\n",
       "        [-1.7666796],\n",
       "        ...,\n",
       "        [-1.6493905],\n",
       "        [-1.7081019],\n",
       "        [-1.7081019]],\n",
       "\n",
       "       [[-1.7666796],\n",
       "        [-1.7666796],\n",
       "        [-1.7666796],\n",
       "        ...,\n",
       "        [-1.7081019],\n",
       "        [-1.7081019],\n",
       "        [-1.7373908]],\n",
       "\n",
       "       ...,\n",
       "\n",
       "       [[-2.147903 ],\n",
       "        [-2.147903 ],\n",
       "        [-2.147903 ],\n",
       "        ...,\n",
       "        [-1.7373908],\n",
       "        [-1.7373908],\n",
       "        [-1.7373908]],\n",
       "\n",
       "       [[-2.147903 ],\n",
       "        [-2.147903 ],\n",
       "        [-2.2065477],\n",
       "        ...,\n",
       "        [-1.7373908],\n",
       "        [-1.7373908],\n",
       "        [-1.7373908]],\n",
       "\n",
       "       [[-2.147903 ],\n",
       "        [-2.2065477],\n",
       "        [-2.2065477],\n",
       "        ...,\n",
       "        [-1.7373908],\n",
       "        [-1.7373908],\n",
       "        [-1.7373908]]], dtype=float32)"
      ]
     },
     "execution_count": 4,
     "metadata": {},
     "output_type": "execute_result"
    }
   ],
   "source": [
    "ground_truth"
   ]
  },
  {
   "cell_type": "code",
   "execution_count": 6,
   "id": "64e50a42-8a4e-4352-8e9d-aad81f2acc54",
   "metadata": {},
   "outputs": [
    {
     "data": {
      "text/plain": [
       "array([0.31176558, 0.16243935, 0.40303764, 0.23098294, 0.15680183],\n",
       "      dtype=float32)"
      ]
     },
     "execution_count": 6,
     "metadata": {},
     "output_type": "execute_result"
    }
   ],
   "source": [
    "metric"
   ]
  },
  {
   "cell_type": "code",
   "execution_count": null,
   "id": "aab33a04-76df-4257-a914-b3d9a9745fe8",
   "metadata": {},
   "outputs": [],
   "source": []
  }
 ],
 "metadata": {
  "kernelspec": {
   "display_name": "Python 3 (ipykernel)",
   "language": "python",
   "name": "python3"
  },
  "language_info": {
   "codemirror_mode": {
    "name": "ipython",
    "version": 3
   },
   "file_extension": ".py",
   "mimetype": "text/x-python",
   "name": "python",
   "nbconvert_exporter": "python",
   "pygments_lexer": "ipython3",
   "version": "3.10.13"
  }
 },
 "nbformat": 4,
 "nbformat_minor": 5
}
